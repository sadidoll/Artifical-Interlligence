{
  "nbformat": 4,
  "nbformat_minor": 0,
  "metadata": {
    "colab": {
      "name": "Homework4_p1.ipynb",
      "provenance": [],
      "authorship_tag": "ABX9TyMjBCMZp0CpOV0tWlt2eRW8",
      "include_colab_link": true
    },
    "kernelspec": {
      "name": "python3",
      "display_name": "Python 3"
    }
  },
  "cells": [
    {
      "cell_type": "markdown",
      "metadata": {
        "id": "view-in-github",
        "colab_type": "text"
      },
      "source": [
        "<a href=\"https://colab.research.google.com/github/sadidoll/Artifical-Interlligence/blob/master/Hw_4/Homework4_p1.ipynb\" target=\"_parent\"><img src=\"https://colab.research.google.com/assets/colab-badge.svg\" alt=\"Open In Colab\"/></a>"
      ]
    },
    {
      "cell_type": "markdown",
      "metadata": {
        "id": "wtJqLaOzAjqA",
        "colab_type": "text"
      },
      "source": [
        "#**Homework 4**"
      ]
    },
    {
      "cell_type": "markdown",
      "metadata": {
        "id": "7tkPkDteAs3G",
        "colab_type": "text"
      },
      "source": [
        "###**Problem 1**\n",
        "Using only numpy, implement the function conv2d. It takes as input input_mat and kernel_mat and outputs output_mat. All variables are square matrices. It should compute the convolution of input_mat with the kernel kernel_mat using valid padding.\n",
        "\n",
        "Note that the size s of the kernel matrix can also be an even number"
      ]
    },
    {
      "cell_type": "markdown",
      "metadata": {
        "id": "1UPqFStxDDbj",
        "colab_type": "text"
      },
      "source": [
        "**Imports**"
      ]
    },
    {
      "cell_type": "code",
      "metadata": {
        "id": "gcWS63-NBY0A",
        "colab_type": "code",
        "colab": {}
      },
      "source": [
        "import numpy as np"
      ],
      "execution_count": 0,
      "outputs": []
    },
    {
      "cell_type": "markdown",
      "metadata": {
        "id": "djSdL-kHKNdJ",
        "colab_type": "text"
      },
      "source": [
        "**Function for conv2d using numpy**"
      ]
    },
    {
      "cell_type": "code",
      "metadata": {
        "id": "zltZPy3_DI3y",
        "colab_type": "code",
        "colab": {}
      },
      "source": [
        "def conv2d(input_mat, kernal_mat):\n",
        "  # Checking if the input given by the user are square matrix\n",
        "  if (input_mat.shape[0] != input_mat.shape[1]):\n",
        "    raise ValueError(\"Error: The Input Matrix is not a square matrix\")\n",
        "  if (kernal_mat.shape[0] != kernal_mat.shape[1]):\n",
        "    raise ValueError(\"Error: The Kernal Matrix is not a square matrix\")\n",
        "  # Checks if the kernal is larger than input\n",
        "  if (kernal_mat.shape[0] > input_mat.shape[0]):\n",
        "    raise ValueError(\"Error: The kernal can't be larger than input \")\n",
        "  \n",
        "  # Creating output array\n",
        "  output_mat = np.zeros((input_mat.shape[0] - kernal_mat.shape[0] + 1 ,\n",
        "                        input_mat.shape[0] - kernal_mat.shape[0] + 1))\n",
        "  \n",
        "  # Convolving\n",
        "  for i in range(input_mat.shape[0] - kernal_mat.shape[0] + 1):\n",
        "    for j in range(input_mat.shape[0] - kernal_mat.shape[0] + 1):\n",
        "      output_mat[i][j] = np.sum(input_mat[i: i + kernal_mat.shape[0],\n",
        "                                          j : j + kernal_mat.shape[0]] * kernal_mat)\n",
        "  return output_mat\n"
      ],
      "execution_count": 0,
      "outputs": []
    },
    {
      "cell_type": "markdown",
      "metadata": {
        "id": "5KumSp3Ce59b",
        "colab_type": "text"
      },
      "source": [
        "**Testing the conv2d function with some test cases**"
      ]
    },
    {
      "cell_type": "code",
      "metadata": {
        "id": "SYWS7QnFfEqo",
        "colab_type": "code",
        "colab": {
          "base_uri": "https://localhost:8080/",
          "height": 370
        },
        "outputId": "9f07348b-e6b9-4c75-d181-1f50f9c5cdd0"
      },
      "source": [
        "from scipy import signal\n",
        "import numpy as np\n",
        "\n",
        "input_mat = []\n",
        "kernel_mat = []\n",
        "expected_mat = []\n",
        "\n",
        "# test case 1\n",
        "input_mat.append(np.array([[1, 2, 1, 2],\n",
        "                      [2, 1, 2, 1],\n",
        "                      [1, 2, 1, 2],\n",
        "                      [2, 1, 2, 1]]))\n",
        "\n",
        "kernel_mat.append(np.array([[1, 0],\n",
        "                       [0, 1]]))\n",
        "\n",
        "expected_mat.append(np.array([[2, 4, 2],\n",
        "                                [4, 2, 4],\n",
        "                                [2, 4, 2]]))\n",
        "\n",
        "# test case 2\n",
        "input_mat.append(np.array([[1, 0, 0, 0],\n",
        "                      [0, 1, 0, 0],\n",
        "                      [0, 0, 1, 0],\n",
        "                      [0, 0, 0, 1]]))\n",
        "kernel_mat.append(np.array([[1, 0], [0, 1]]))\n",
        "expected_mat.append(np.array([[2, 0, 0], [0, 2, 0], [0, 0, 2]]))\n",
        "\n",
        "\n",
        "# test case 3\n",
        "input_mat.append(np.array([[1, 0, 0, 0],\n",
        "                      [0, 1, 0, 0],\n",
        "                      [0, 0, 1, 0],\n",
        "                      [0, 0, 0, 1]]))\n",
        "kernel_mat.append(np.array([[1, -1],\n",
        "                       [-1, 0]]))\n",
        "\n",
        "expected_mat.append(np.array([[ 1, -1,  0], [-1,  1, -1],[ 0, -1,  1]]))\n",
        "\n",
        "\n",
        "# test case 4\n",
        "input_mat.append(np.array([[1, 0, 0, 0],\n",
        "                      [0, 1, 0, 0],\n",
        "                      [0, 0, 1, 0],\n",
        "                      [0, 0, 0, 1]]))\n",
        "kernel_mat.append(np.array([[1, 0, 0, 0],\n",
        "                      [0, 1, 0, 0],\n",
        "                      [0, 0, 1, 0],\n",
        "                      [0, 0, 0, 1]]))\n",
        "\n",
        "expected_mat.append(np.array([[4]]))\n",
        "\n",
        "\n",
        "# test case 5 - should either through an error, or return empty matrix\n",
        "input_mat.append(np.array([[1, -1],\n",
        "                       [-1, 0]]))\n",
        "kernel_mat.append(np.array([[1, 0, 0, 0],\n",
        "                      [0, 1, 0, 0],\n",
        "                      [0, 0, 1, 0],\n",
        "                      [0, 0, 0, 1]]))\n",
        "\n",
        "expected_mat.append([])\n",
        "\n",
        "\n",
        "for i in range(len(input_mat)):\n",
        "  try:\n",
        "    # uncomment line for student code testing\n",
        "    output_mat = conv2d(input_mat[i], kernel_mat[i])\n",
        "    print(output_mat)\n",
        "   \n",
        "    # uncomment lines below (and comment line above) for generating test cases.\n",
        "    if np.array_equal(output_mat, expected_mat[i]):\n",
        "      print(\"Correct output!\\n\")\n",
        "    else:\n",
        "      print(\"Incorrect output!\\n\")\n",
        "  except Exception as e:\n",
        "    print(e)\n",
        "\n",
        "    if expected_mat[i] == []:\n",
        "      print(\"Correct output!\\n\")\n",
        "    else:\n",
        "      print(\"Incorrect output!\\n\")\n"
      ],
      "execution_count": 24,
      "outputs": [
        {
          "output_type": "stream",
          "text": [
            "[[2. 4. 2.]\n",
            " [4. 2. 4.]\n",
            " [2. 4. 2.]]\n",
            "Correct output!\n",
            "\n",
            "[[2. 0. 0.]\n",
            " [0. 2. 0.]\n",
            " [0. 0. 2.]]\n",
            "Correct output!\n",
            "\n",
            "[[ 1. -1.  0.]\n",
            " [-1.  1. -1.]\n",
            " [ 0. -1.  1.]]\n",
            "Correct output!\n",
            "\n",
            "[[4.]]\n",
            "Correct output!\n",
            "\n",
            "Error: The kernal can't be larger than input \n",
            "Correct output!\n",
            "\n"
          ],
          "name": "stdout"
        }
      ]
    }
  ]
}