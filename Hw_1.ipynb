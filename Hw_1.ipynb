{
  "nbformat": 4,
  "nbformat_minor": 0,
  "metadata": {
    "colab": {
      "name": "Hw_1.ipynb",
      "provenance": [],
      "authorship_tag": "ABX9TyNhWZ6wdQdJX3c4QgaHLhhg",
      "include_colab_link": true
    },
    "kernelspec": {
      "name": "python3",
      "display_name": "Python 3"
    }
  },
  "cells": [
    {
      "cell_type": "markdown",
      "metadata": {
        "id": "view-in-github",
        "colab_type": "text"
      },
      "source": [
        "<a href=\"https://colab.research.google.com/github/sadidoll/Artifical-Interlligence/blob/master/Hw_1.ipynb\" target=\"_parent\"><img src=\"https://colab.research.google.com/assets/colab-badge.svg\" alt=\"Open In Colab\"/></a>"
      ]
    },
    {
      "cell_type": "markdown",
      "metadata": {
        "id": "IgXW1kz7f-tg",
        "colab_type": "text"
      },
      "source": [
        "Problem 1 :\n",
        "Create a GitHub Repo with a simple readme file. Enter the link to your repo in Webcourses."
      ]
    },
    {
      "cell_type": "markdown",
      "metadata": {
        "id": "ZKpwJp-ygOvT",
        "colab_type": "text"
      },
      "source": [
        ""
      ]
    }
  ]
}