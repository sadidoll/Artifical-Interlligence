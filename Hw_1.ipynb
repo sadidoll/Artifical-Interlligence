{
  "nbformat": 4,
  "nbformat_minor": 0,
  "metadata": {
    "colab": {
      "name": "Hw_1.ipynb",
      "provenance": [],
      "authorship_tag": "ABX9TyP5/FskUBUQDiWFi69LO9C0",
      "include_colab_link": true
    },
    "kernelspec": {
      "name": "python3",
      "display_name": "Python 3"
    }
  },
  "cells": [
    {
      "cell_type": "markdown",
      "metadata": {
        "id": "view-in-github",
        "colab_type": "text"
      },
      "source": [
        "<a href=\"https://colab.research.google.com/github/sadidoll/Artifical-Interlligence/blob/master/Hw_1.ipynb\" target=\"_parent\"><img src=\"https://colab.research.google.com/assets/colab-badge.svg\" alt=\"Open In Colab\"/></a>"
      ]
    },
    {
      "cell_type": "markdown",
      "metadata": {
        "id": "IgXW1kz7f-tg",
        "colab_type": "text"
      },
      "source": [
        "*Problem* 1 :\n",
        "Create a GitHub Repo with a simple readme file. Enter the link to your repo in Webcourses.\n",
        "\n",
        "My name is Sadiyah Bhuria. This is Aritifical Interllligence class."
      ]
    },
    {
      "cell_type": "markdown",
      "metadata": {
        "id": "ZKpwJp-ygOvT",
        "colab_type": "text"
      },
      "source": [
        ""
      ]
    }
  ]
}