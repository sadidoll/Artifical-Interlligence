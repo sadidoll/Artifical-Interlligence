{
  "nbformat": 4,
  "nbformat_minor": 0,
  "metadata": {
    "colab": {
      "name": "HW_1.ipynb",
      "provenance": [],
      "authorship_tag": "ABX9TyP97vG71rP6BtjBp/OSsGPA",
      "include_colab_link": true
    },
    "kernelspec": {
      "name": "python3",
      "display_name": "Python 3"
    }
  },
  "cells": [
    {
      "cell_type": "markdown",
      "metadata": {
        "id": "view-in-github",
        "colab_type": "text"
      },
      "source": [
        "<a href=\"https://colab.research.google.com/github/sadidoll/Artifical-Interlligence/blob/master/Hw_1/HW_1.ipynb\" target=\"_parent\"><img src=\"https://colab.research.google.com/assets/colab-badge.svg\" alt=\"Open In Colab\"/></a>"
      ]
    },
    {
      "cell_type": "markdown",
      "metadata": {
        "id": "yn_mzsZ1rTAd",
        "colab_type": "text"
      },
      "source": [
        "# **Problem 1**:\n",
        "Create a GitHub Repo with a simple readme file. Enter the link to your repo in Webcourses.\n",
        "## My name is Sadiyah Bhuria. This is Aritifical Interllligence class."
      ]
    }
  ]
}