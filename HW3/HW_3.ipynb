{
  "nbformat": 4,
  "nbformat_minor": 0,
  "metadata": {
    "colab": {
      "name": "Untitled4.ipynb",
      "provenance": [],
      "authorship_tag": "ABX9TyM0no+npfu1X/pZyW30tpBS",
      "include_colab_link": true
    },
    "kernelspec": {
      "name": "python3",
      "display_name": "Python 3"
    }
  },
  "cells": [
    {
      "cell_type": "markdown",
      "metadata": {
        "id": "view-in-github",
        "colab_type": "text"
      },
      "source": [
        "<a href=\"https://colab.research.google.com/github/sadidoll/Artifical-Interlligence/blob/master/HW3/HW_3.ipynb\" target=\"_parent\"><img src=\"https://colab.research.google.com/assets/colab-badge.svg\" alt=\"Open In Colab\"/></a>"
      ]
    },
    {
      "cell_type": "markdown",
      "metadata": {
        "id": "LVyJRCo2S_82",
        "colab_type": "text"
      },
      "source": [
        "#**Homework 3**\n",
        "\n",
        "###**Problem 1:**\n",
        "Implement the function get_random_data(w, b, mu, sigma, m) that generates random data for logisitic regression with two features features x_1 and x_2. This function should return the array data of shape (m, 2) and the array labels of shape (m, 1).\n",
        "\n",
        "The entries of the arrays should be generated as follows. For each row i in {0, 1, ..., m-1}:\n",
        " \n",
        "* Choose class label c=0 with probability 1/2 and c=1 with probability 1/2.\n",
        "* Choose the first feature x_1 uniformly at random in the interval [0, 1).\n",
        "* Set the second feature x_2 to be x_2 = w * x_1 + b + (-1)^c * n, where the \"noise\" n is chosen according to the normal distribution with mean mu and standard deviation sigma.\n",
        "* The ith row of the array data consists of the features x_1 and x_2.\n",
        "* The ith entry of the vector labels is the class label c.\n",
        "\n",
        "Implement the function display_random_data that takes as input the above two arrays labels and data. It should create scatter plot of the 2D points stored in data. Use red dots to plot the points whose labels are 1 and blue dots to plot the points whose labels are 0.\n",
        "\n",
        "Hints: You should see that the 2D points (feature vectors) corresponding to different classes are approximately separated by the line y = w * x + b, where w and b are the parameters that you used to generate the data. Note that the smaller the parameter mu, the closer the points are to this line. Also, the larger the parameter sigma, the more points can be on the wrong side of this line.\n",
        "\n",
        "Experiment with different values of mu and sigma. Make sure that the parameter m is large enough so you have enough data points.\n",
        "\n",
        "Split the data/labels into a training set (80%) and a test set (20%)."
      ]
    },
    {
      "cell_type": "markdown",
      "metadata": {
        "id": "G0q9WDafdNXP",
        "colab_type": "text"
      },
      "source": [
        "**Imports**"
      ]
    },
    {
      "cell_type": "code",
      "metadata": {
        "id": "ZhZexLkiH330",
        "colab_type": "code",
        "colab": {}
      },
      "source": [
        "import random\n",
        "import matplotlib\n",
        "import matplotlib.pyplot as plt\n",
        "import numpy as np\n",
        "import time\n",
        "import sys \n",
        "from sklearn.model_selection import train_test_split"
      ],
      "execution_count": 0,
      "outputs": []
    },
    {
      "cell_type": "markdown",
      "metadata": {
        "id": "vZQJBxGidBaS",
        "colab_type": "text"
      },
      "source": [
        "**Function for random data generation**"
      ]
    },
    {
      "cell_type": "code",
      "metadata": {
        "id": "i8MFcEWPVhVS",
        "colab_type": "code",
        "colab": {}
      },
      "source": [
        "def get_random_data(w, b, mu, sigma, m):\n",
        " \n",
        "  # Generating first feature x_1 uniformly at random \n",
        "  x_1 = np.random.uniform(0, 1, size=(m,1))\n",
        "  # Generating the label array with zeros and ones\n",
        "  labels = np.random.choice([0,1], size=(m,1))\n",
        "  # n is chosen according to the normal distribution with mean mu and standard deviation sigma\n",
        "  # Genreating random data \n",
        "  n = np.random.normal(mu, sigma, size=(m,1))\n",
        "\n",
        "  # Setting the second feature x_2\n",
        "  x_2 = w * x_1 + b + (-1)** labels * n\n",
        "\n",
        "  # Concatenating x_1 and x_2 fatures\n",
        "  data = np.concatenate((x_1,x_2), axis = 1)\n",
        "\n",
        "  return data,labels  "
      ],
      "execution_count": 0,
      "outputs": []
    },
    {
      "cell_type": "markdown",
      "metadata": {
        "id": "AwXKD5ZxdVGD",
        "colab_type": "text"
      },
      "source": [
        "**Function for Random data display**"
      ]
    },
    {
      "cell_type": "code",
      "metadata": {
        "id": "7_raWvbHj9GQ",
        "colab_type": "code",
        "colab": {}
      },
      "source": [
        "def display_random_data(labels, data, w, b):\n",
        "  data = np.array(data)\n",
        "  labels = np.array(labels)\n",
        "  plt.figure()\n",
        "  j = labels.flatten()\n",
        "  #for x in range(0,m):\n",
        "\n",
        "  # if label is 0 then blue points if 1 be red points\n",
        "  data_0 = data[j == 0,:]\n",
        "  plt.scatter(data_0[:,0],data_0 [:,1], c = 'blue', label = 'Class 0')\n",
        "  data_1 = data[j == 1,:]\n",
        "  plt.scatter(data_1[:,0],data_1 [:,1], c = 'red', label = 'Class 1')\n",
        "\n",
        "  # Plot the true line\n",
        "  x = np.linspace(0,1)\n",
        "  y = w * x + b\n",
        "\n",
        "  plt.plot(x, y,'black')\n",
        "  plt.title('Randomly Generated Data')\n",
        "  plt.xlabel('$x_1$')\n",
        "  plt.ylabel('$x_2$')"
      ],
      "execution_count": 0,
      "outputs": []
    },
    {
      "cell_type": "markdown",
      "metadata": {
        "id": "9ztEq90ZflLG",
        "colab_type": "text"
      },
      "source": [
        "**Testing the functions with a test case**"
      ]
    },
    {
      "cell_type": "code",
      "metadata": {
        "id": "dUO2YC73eL-A",
        "colab_type": "code",
        "outputId": "e788893e-744a-4af0-8941-696c9d6dd70b",
        "colab": {
          "base_uri": "https://localhost:8080/",
          "height": 297
        }
      },
      "source": [
        "# Display the data\n",
        "mu = 5\n",
        "sigma = 1.5\n",
        "m = 1000\n",
        "w = 2\n",
        "b = 2\n",
        "\n",
        "# Calling all the funtions\n",
        "data, labels = get_random_data(w, b, mu, sigma, m)\n",
        "display_random_data(labels,data, w, b)\n",
        "plt.legend()\n",
        "plt.show()\n",
        "\n",
        "# Splits the data\n",
        "# Source: https://medium.com/@contactsunny/how-to-split-your-dataset-to-train-and-test-datasets-using-scikit-learn-e7cf6eb5e0d\n",
        "train_data, test_data, train_labels, test_labels = train_test_split(data, labels, test_size = 0.2)"
      ],
      "execution_count": 21,
      "outputs": [
        {
          "output_type": "display_data",
          "data": {
            "image/png": "[encoded data removed]",
            "text/plain": [
              "<Figure size 432x288 with 1 Axes>"
            ]
          },
          "metadata": {
            "tags": [],
            "needs_background": "light"
          }
        }
      ]
    },
    {
      "cell_type": "markdown",
      "metadata": {
        "id": "K65-XG4u9Kkf",
        "colab_type": "text"
      },
      "source": [
        "###**Problem 2:**\n",
        "Create a Keras to implement logistic regression with two features and train it with the data generated in Problem 1. The loss should be the binary cross entropy loss.\n",
        "\n",
        "How well does the trained model separate the red and blue dots? You can obtain the separating line determined by the model by extracting the weights from the dense layer using the function get_weights. See https://keras.io/layers/about-keras-layers/.\n",
        "\n",
        "Create a plot showing the random data, the true line used to generate the data, and the separating line of the trained model. Make sure that you describe in detail in your notebook how you proceed to obtain the separating line.\n",
        "\n",
        "Note that you have to carry out some simple steps to obtain the separating line from the model weights (the two weights and the bias term of the dense layer). This is not immediately obvious. It maybe helpful to take a look at the heatmap below.\n",
        "\n",
        "The trained model realizes function f : R^2 -> R that takes two features as input and outputs a number in the interval [0, 1]. Use a heatmap to visualize this function."
      ]
    },
    {
      "cell_type": "markdown",
      "metadata": {
        "id": "ULWwPhPIiaXq",
        "colab_type": "text"
      },
      "source": [
        "**Imports**"
      ]
    },
    {
      "cell_type": "code",
      "metadata": {
        "id": "F8V8hXwS9eSu",
        "colab_type": "code",
        "colab": {}
      },
      "source": [
        "import tensorflow as tf\n",
        "from tensorflow.python.keras.layers import Dense\n",
        "from tensorflow.python.keras import initializers\n",
        "from tensorflow.python.keras import Sequential\n",
        "from tensorflow.python.keras import optimizers"
      ],
      "execution_count": 0,
      "outputs": []
    },
    {
      "cell_type": "markdown",
      "metadata": {
        "id": "-Kaoot_kid85",
        "colab_type": "text"
      },
      "source": [
        "**Building the Model and Performing the training**"
      ]
    },
    {
      "cell_type": "code",
      "metadata": {
        "id": "tqhPSkuL-Dq8",
        "colab_type": "code",
        "outputId": "d5951c2c-08ed-467e-d5b0-e8bdf733f754",
        "colab": {
          "base_uri": "https://localhost:8080/",
          "height": 1000
        }
      },
      "source": [
        "# Defining the model\n",
        "keras_model = Sequential()\n",
        "# Adding a dense layer to the model\n",
        "keras_model.add(Dense(1,input_shape = (2,), activation = 'sigmoid', bias_initializer=initializers.Constant(1),))\n",
        "# Compliing the network\n",
        "keras_model.compile(optimizer='rmsprop', loss ='binary_crossentropy', metrics = ['accuracy'])\n",
        "\n",
        "#w = keras_model.layers[0].get_weights()[0]\n",
        "#b = keras_model.layers[0].get_weights()[1]\n",
        "#print(w)\n",
        "#print(b)\n",
        "# Compiling and training the model on the data\n",
        "#epochs = 100\n",
        "#batch_size = 512\n",
        "\n",
        "# Training the model with epochs = 100 and batch size = 512 so that the accuray is high \n",
        "keras_model.summary()\n",
        "history = keras_model.fit(train_data,train_labels,epochs = 100, batch_size = 512,\n",
        "                          validation_data = (test_data,test_labels))\n",
        "\n"
      ],
      "execution_count": 23,
      "outputs": [
        {
          "output_type": "stream",
          "text": [
            "Model: \"sequential_1\"\n",
            "_________________________________________________________________\n",
            "Layer (type)                 Output Shape              Param #   \n",
            "=================================================================\n",
            "dense_1 (Dense)              (None, 1)                 3         \n",
            "=================================================================\n",
            "Total params: 3\n",
            "Trainable params: 3\n",
            "Non-trainable params: 0\n",
            "_________________________________________________________________\n",
            "Epoch 1/100\n",
            "2/2 [==============================] - 0s 53ms/step - loss: 0.6277 - accuracy: 0.5863 - val_loss: 0.6486 - val_accuracy: 0.5750\n",
            "Epoch 2/100\n",
            "2/2 [==============================] - 0s 22ms/step - loss: 0.6148 - accuracy: 0.6112 - val_loss: 0.6386 - val_accuracy: 0.6000\n",
            "Epoch 3/100\n",
            "2/2 [==============================] - 0s 22ms/step - loss: 0.6058 - accuracy: 0.6325 - val_loss: 0.6303 - val_accuracy: 0.6000\n",
            "Epoch 4/100\n",
            "2/2 [==============================] - 0s 22ms/step - loss: 0.6008 - accuracy: 0.6438 - val_loss: 0.6230 - val_accuracy: 0.6100\n",
            "Epoch 5/100\n",
            "2/2 [==============================] - 0s 24ms/step - loss: 0.5942 - accuracy: 0.6525 - val_loss: 0.6162 - val_accuracy: 0.6200\n",
            "Epoch 6/100\n",
            "2/2 [==============================] - 0s 19ms/step - loss: 0.5876 - accuracy: 0.6600 - val_loss: 0.6101 - val_accuracy: 0.6300\n",
            "Epoch 7/100\n",
            "2/2 [==============================] - 0s 23ms/step - loss: 0.5841 - accuracy: 0.6687 - val_loss: 0.6042 - val_accuracy: 0.6400\n",
            "Epoch 8/100\n",
            "2/2 [==============================] - 0s 19ms/step - loss: 0.5781 - accuracy: 0.6750 - val_loss: 0.5984 - val_accuracy: 0.6400\n",
            "Epoch 9/100\n",
            "2/2 [==============================] - 0s 21ms/step - loss: 0.5751 - accuracy: 0.6850 - val_loss: 0.5929 - val_accuracy: 0.6550\n",
            "Epoch 10/100\n",
            "2/2 [==============================] - 0s 21ms/step - loss: 0.5728 - accuracy: 0.6938 - val_loss: 0.5874 - val_accuracy: 0.6650\n",
            "Epoch 11/100\n",
            "2/2 [==============================] - 0s 24ms/step - loss: 0.5644 - accuracy: 0.7050 - val_loss: 0.5823 - val_accuracy: 0.6850\n",
            "Epoch 12/100\n",
            "2/2 [==============================] - 0s 23ms/step - loss: 0.5608 - accuracy: 0.7175 - val_loss: 0.5772 - val_accuracy: 0.6950\n",
            "Epoch 13/100\n",
            "2/2 [==============================] - 0s 23ms/step - loss: 0.5579 - accuracy: 0.7262 - val_loss: 0.5722 - val_accuracy: 0.7050\n",
            "Epoch 14/100\n",
            "2/2 [==============================] - 0s 19ms/step - loss: 0.5545 - accuracy: 0.7337 - val_loss: 0.5672 - val_accuracy: 0.7200\n",
            "Epoch 15/100\n",
            "2/2 [==============================] - 0s 21ms/step - loss: 0.5471 - accuracy: 0.7425 - val_loss: 0.5624 - val_accuracy: 0.7450\n",
            "Epoch 16/100\n",
            "2/2 [==============================] - 0s 23ms/step - loss: 0.5444 - accuracy: 0.7513 - val_loss: 0.5577 - val_accuracy: 0.7550\n",
            "Epoch 17/100\n",
            "2/2 [==============================] - 0s 21ms/step - loss: 0.5385 - accuracy: 0.7575 - val_loss: 0.5529 - val_accuracy: 0.7600\n",
            "Epoch 18/100\n",
            "2/2 [==============================] - 0s 22ms/step - loss: 0.5334 - accuracy: 0.7688 - val_loss: 0.5483 - val_accuracy: 0.7750\n",
            "Epoch 19/100\n",
            "2/2 [==============================] - 0s 25ms/step - loss: 0.5308 - accuracy: 0.7788 - val_loss: 0.5437 - val_accuracy: 0.8050\n",
            "Epoch 20/100\n",
            "2/2 [==============================] - 0s 24ms/step - loss: 0.5241 - accuracy: 0.7887 - val_loss: 0.5393 - val_accuracy: 0.8100\n",
            "Epoch 21/100\n",
            "2/2 [==============================] - 0s 22ms/step - loss: 0.5208 - accuracy: 0.7937 - val_loss: 0.5350 - val_accuracy: 0.8150\n",
            "Epoch 22/100\n",
            "2/2 [==============================] - 0s 20ms/step - loss: 0.5197 - accuracy: 0.8037 - val_loss: 0.5306 - val_accuracy: 0.8200\n",
            "Epoch 23/100\n",
            "2/2 [==============================] - 0s 22ms/step - loss: 0.5160 - accuracy: 0.8100 - val_loss: 0.5263 - val_accuracy: 0.8200\n",
            "Epoch 24/100\n",
            "2/2 [==============================] - 0s 20ms/step - loss: 0.5085 - accuracy: 0.8188 - val_loss: 0.5221 - val_accuracy: 0.8250\n",
            "Epoch 25/100\n",
            "2/2 [==============================] - 0s 20ms/step - loss: 0.5065 - accuracy: 0.8313 - val_loss: 0.5178 - val_accuracy: 0.8300\n",
            "Epoch 26/100\n",
            "2/2 [==============================] - 0s 19ms/step - loss: 0.5036 - accuracy: 0.8425 - val_loss: 0.5136 - val_accuracy: 0.8450\n",
            "Epoch 27/100\n",
            "2/2 [==============================] - 0s 19ms/step - loss: 0.4989 - accuracy: 0.8512 - val_loss: 0.5094 - val_accuracy: 0.8550\n",
            "Epoch 28/100\n",
            "2/2 [==============================] - 0s 20ms/step - loss: 0.4957 - accuracy: 0.8612 - val_loss: 0.5052 - val_accuracy: 0.8700\n",
            "Epoch 29/100\n",
            "2/2 [==============================] - 0s 20ms/step - loss: 0.4932 - accuracy: 0.8700 - val_loss: 0.5011 - val_accuracy: 0.8800\n",
            "Epoch 30/100\n",
            "2/2 [==============================] - 0s 22ms/step - loss: 0.4907 - accuracy: 0.8750 - val_loss: 0.4970 - val_accuracy: 0.8850\n",
            "Epoch 31/100\n",
            "2/2 [==============================] - 0s 23ms/step - loss: 0.4841 - accuracy: 0.8800 - val_loss: 0.4930 - val_accuracy: 0.8900\n",
            "Epoch 32/100\n",
            "2/2 [==============================] - 0s 20ms/step - loss: 0.4813 - accuracy: 0.8863 - val_loss: 0.4890 - val_accuracy: 0.9050\n",
            "Epoch 33/100\n",
            "2/2 [==============================] - 0s 23ms/step - loss: 0.4813 - accuracy: 0.8925 - val_loss: 0.4851 - val_accuracy: 0.9100\n",
            "Epoch 34/100\n",
            "2/2 [==============================] - 0s 22ms/step - loss: 0.4719 - accuracy: 0.8988 - val_loss: 0.4812 - val_accuracy: 0.9200\n",
            "Epoch 35/100\n",
            "2/2 [==============================] - 0s 22ms/step - loss: 0.4699 - accuracy: 0.9038 - val_loss: 0.4774 - val_accuracy: 0.9200\n",
            "Epoch 36/100\n",
            "2/2 [==============================] - 0s 18ms/step - loss: 0.4660 - accuracy: 0.9100 - val_loss: 0.4736 - val_accuracy: 0.9300\n",
            "Epoch 37/100\n",
            "2/2 [==============================] - 0s 20ms/step - loss: 0.4643 - accuracy: 0.9162 - val_loss: 0.4698 - val_accuracy: 0.9350\n",
            "Epoch 38/100\n",
            "2/2 [==============================] - 0s 21ms/step - loss: 0.4568 - accuracy: 0.9287 - val_loss: 0.4661 - val_accuracy: 0.9350\n",
            "Epoch 39/100\n",
            "2/2 [==============================] - 0s 24ms/step - loss: 0.4552 - accuracy: 0.9312 - val_loss: 0.4624 - val_accuracy: 0.9400\n",
            "Epoch 40/100\n",
            "2/2 [==============================] - 0s 20ms/step - loss: 0.4528 - accuracy: 0.9388 - val_loss: 0.4586 - val_accuracy: 0.9400\n",
            "Epoch 41/100\n",
            "2/2 [==============================] - 0s 22ms/step - loss: 0.4498 - accuracy: 0.9438 - val_loss: 0.4550 - val_accuracy: 0.9550\n",
            "Epoch 42/100\n",
            "2/2 [==============================] - 0s 19ms/step - loss: 0.4461 - accuracy: 0.9450 - val_loss: 0.4514 - val_accuracy: 0.9600\n",
            "Epoch 43/100\n",
            "2/2 [==============================] - 0s 22ms/step - loss: 0.4424 - accuracy: 0.9500 - val_loss: 0.4478 - val_accuracy: 0.9600\n",
            "Epoch 44/100\n",
            "2/2 [==============================] - 0s 20ms/step - loss: 0.4408 - accuracy: 0.9513 - val_loss: 0.4443 - val_accuracy: 0.9600\n",
            "Epoch 45/100\n",
            "2/2 [==============================] - 0s 21ms/step - loss: 0.4355 - accuracy: 0.9525 - val_loss: 0.4408 - val_accuracy: 0.9600\n",
            "Epoch 46/100\n",
            "2/2 [==============================] - 0s 21ms/step - loss: 0.4337 - accuracy: 0.9550 - val_loss: 0.4373 - val_accuracy: 0.9700\n",
            "Epoch 47/100\n",
            "2/2 [==============================] - 0s 22ms/step - loss: 0.4326 - accuracy: 0.9563 - val_loss: 0.4339 - val_accuracy: 0.9700\n",
            "Epoch 48/100\n",
            "2/2 [==============================] - 0s 19ms/step - loss: 0.4261 - accuracy: 0.9575 - val_loss: 0.4306 - val_accuracy: 0.9700\n",
            "Epoch 49/100\n",
            "2/2 [==============================] - 0s 24ms/step - loss: 0.4228 - accuracy: 0.9600 - val_loss: 0.4272 - val_accuracy: 0.9800\n",
            "Epoch 50/100\n",
            "2/2 [==============================] - 0s 22ms/step - loss: 0.4189 - accuracy: 0.9650 - val_loss: 0.4239 - val_accuracy: 0.9850\n",
            "Epoch 51/100\n",
            "2/2 [==============================] - 0s 21ms/step - loss: 0.4168 - accuracy: 0.9650 - val_loss: 0.4205 - val_accuracy: 0.9850\n",
            "Epoch 52/100\n",
            "2/2 [==============================] - 0s 19ms/step - loss: 0.4160 - accuracy: 0.9675 - val_loss: 0.4172 - val_accuracy: 0.9850\n",
            "Epoch 53/100\n",
            "2/2 [==============================] - 0s 18ms/step - loss: 0.4109 - accuracy: 0.9688 - val_loss: 0.4140 - val_accuracy: 0.9850\n",
            "Epoch 54/100\n",
            "2/2 [==============================] - 0s 19ms/step - loss: 0.4060 - accuracy: 0.9712 - val_loss: 0.4108 - val_accuracy: 0.9850\n",
            "Epoch 55/100\n",
            "2/2 [==============================] - 0s 22ms/step - loss: 0.4032 - accuracy: 0.9750 - val_loss: 0.4077 - val_accuracy: 0.9850\n",
            "Epoch 56/100\n",
            "2/2 [==============================] - 0s 19ms/step - loss: 0.4032 - accuracy: 0.9800 - val_loss: 0.4046 - val_accuracy: 0.9850\n",
            "Epoch 57/100\n",
            "2/2 [==============================] - 0s 22ms/step - loss: 0.3992 - accuracy: 0.9800 - val_loss: 0.4014 - val_accuracy: 0.9850\n",
            "Epoch 58/100\n",
            "2/2 [==============================] - 0s 18ms/step - loss: 0.3962 - accuracy: 0.9825 - val_loss: 0.3983 - val_accuracy: 0.9850\n",
            "Epoch 59/100\n",
            "2/2 [==============================] - 0s 23ms/step - loss: 0.3934 - accuracy: 0.9837 - val_loss: 0.3952 - val_accuracy: 0.9850\n",
            "Epoch 60/100\n",
            "2/2 [==============================] - 0s 21ms/step - loss: 0.3892 - accuracy: 0.9850 - val_loss: 0.3922 - val_accuracy: 0.9850\n",
            "Epoch 61/100\n",
            "2/2 [==============================] - 0s 20ms/step - loss: 0.3903 - accuracy: 0.9862 - val_loss: 0.3891 - val_accuracy: 0.9850\n",
            "Epoch 62/100\n",
            "2/2 [==============================] - 0s 20ms/step - loss: 0.3847 - accuracy: 0.9900 - val_loss: 0.3861 - val_accuracy: 0.9850\n",
            "Epoch 63/100\n",
            "2/2 [==============================] - 0s 20ms/step - loss: 0.3831 - accuracy: 0.9900 - val_loss: 0.3831 - val_accuracy: 0.9850\n",
            "Epoch 64/100\n",
            "2/2 [==============================] - 0s 19ms/step - loss: 0.3797 - accuracy: 0.9912 - val_loss: 0.3802 - val_accuracy: 0.9850\n",
            "Epoch 65/100\n",
            "2/2 [==============================] - 0s 20ms/step - loss: 0.3772 - accuracy: 0.9925 - val_loss: 0.3773 - val_accuracy: 0.9850\n",
            "Epoch 66/100\n",
            "2/2 [==============================] - 0s 18ms/step - loss: 0.3747 - accuracy: 0.9925 - val_loss: 0.3743 - val_accuracy: 0.9850\n",
            "Epoch 67/100\n",
            "2/2 [==============================] - 0s 22ms/step - loss: 0.3729 - accuracy: 0.9925 - val_loss: 0.3714 - val_accuracy: 0.9900\n",
            "Epoch 68/100\n",
            "2/2 [==============================] - 0s 26ms/step - loss: 0.3704 - accuracy: 0.9925 - val_loss: 0.3685 - val_accuracy: 0.9900\n",
            "Epoch 69/100\n",
            "2/2 [==============================] - 0s 19ms/step - loss: 0.3657 - accuracy: 0.9925 - val_loss: 0.3658 - val_accuracy: 0.9900\n",
            "Epoch 70/100\n",
            "2/2 [==============================] - 0s 20ms/step - loss: 0.3635 - accuracy: 0.9950 - val_loss: 0.3629 - val_accuracy: 0.9950\n",
            "Epoch 71/100\n",
            "2/2 [==============================] - 0s 20ms/step - loss: 0.3607 - accuracy: 0.9950 - val_loss: 0.3601 - val_accuracy: 0.9950\n",
            "Epoch 72/100\n",
            "2/2 [==============================] - 0s 20ms/step - loss: 0.3550 - accuracy: 0.9950 - val_loss: 0.3574 - val_accuracy: 0.9950\n",
            "Epoch 73/100\n",
            "2/2 [==============================] - 0s 18ms/step - loss: 0.3540 - accuracy: 0.9950 - val_loss: 0.3546 - val_accuracy: 0.9950\n",
            "Epoch 74/100\n",
            "2/2 [==============================] - 0s 21ms/step - loss: 0.3533 - accuracy: 0.9950 - val_loss: 0.3519 - val_accuracy: 0.9950\n",
            "Epoch 75/100\n",
            "2/2 [==============================] - 0s 18ms/step - loss: 0.3502 - accuracy: 0.9950 - val_loss: 0.3492 - val_accuracy: 0.9950\n",
            "Epoch 76/100\n",
            "2/2 [==============================] - 0s 19ms/step - loss: 0.3473 - accuracy: 0.9950 - val_loss: 0.3466 - val_accuracy: 0.9950\n",
            "Epoch 77/100\n",
            "2/2 [==============================] - 0s 21ms/step - loss: 0.3438 - accuracy: 0.9950 - val_loss: 0.3439 - val_accuracy: 0.9950\n",
            "Epoch 78/100\n",
            "2/2 [==============================] - 0s 21ms/step - loss: 0.3437 - accuracy: 0.9962 - val_loss: 0.3413 - val_accuracy: 0.9950\n",
            "Epoch 79/100\n",
            "2/2 [==============================] - 0s 22ms/step - loss: 0.3413 - accuracy: 0.9962 - val_loss: 0.3387 - val_accuracy: 0.9950\n",
            "Epoch 80/100\n",
            "2/2 [==============================] - 0s 17ms/step - loss: 0.3370 - accuracy: 0.9962 - val_loss: 0.3361 - val_accuracy: 0.9950\n",
            "Epoch 81/100\n",
            "2/2 [==============================] - 0s 19ms/step - loss: 0.3339 - accuracy: 0.9962 - val_loss: 0.3336 - val_accuracy: 0.9950\n",
            "Epoch 82/100\n",
            "2/2 [==============================] - 0s 19ms/step - loss: 0.3342 - accuracy: 0.9962 - val_loss: 0.3310 - val_accuracy: 0.9950\n",
            "Epoch 83/100\n",
            "2/2 [==============================] - 0s 20ms/step - loss: 0.3301 - accuracy: 0.9962 - val_loss: 0.3285 - val_accuracy: 0.9950\n",
            "Epoch 84/100\n",
            "2/2 [==============================] - 0s 22ms/step - loss: 0.3254 - accuracy: 0.9962 - val_loss: 0.3260 - val_accuracy: 0.9950\n",
            "Epoch 85/100\n",
            "2/2 [==============================] - 0s 21ms/step - loss: 0.3253 - accuracy: 0.9962 - val_loss: 0.3235 - val_accuracy: 0.9950\n",
            "Epoch 86/100\n",
            "2/2 [==============================] - 0s 18ms/step - loss: 0.3209 - accuracy: 0.9962 - val_loss: 0.3211 - val_accuracy: 0.9950\n",
            "Epoch 87/100\n",
            "2/2 [==============================] - 0s 24ms/step - loss: 0.3219 - accuracy: 0.9962 - val_loss: 0.3186 - val_accuracy: 0.9950\n",
            "Epoch 88/100\n",
            "2/2 [==============================] - 0s 18ms/step - loss: 0.3179 - accuracy: 0.9962 - val_loss: 0.3162 - val_accuracy: 0.9950\n",
            "Epoch 89/100\n",
            "2/2 [==============================] - 0s 20ms/step - loss: 0.3168 - accuracy: 0.9962 - val_loss: 0.3138 - val_accuracy: 0.9950\n",
            "Epoch 90/100\n",
            "2/2 [==============================] - 0s 19ms/step - loss: 0.3108 - accuracy: 0.9962 - val_loss: 0.3114 - val_accuracy: 0.9950\n",
            "Epoch 91/100\n",
            "2/2 [==============================] - 0s 19ms/step - loss: 0.3105 - accuracy: 0.9962 - val_loss: 0.3091 - val_accuracy: 0.9950\n",
            "Epoch 92/100\n",
            "2/2 [==============================] - 0s 18ms/step - loss: 0.3061 - accuracy: 0.9975 - val_loss: 0.3067 - val_accuracy: 1.0000\n",
            "Epoch 93/100\n",
            "2/2 [==============================] - 0s 19ms/step - loss: 0.3061 - accuracy: 0.9975 - val_loss: 0.3044 - val_accuracy: 1.0000\n",
            "Epoch 94/100\n",
            "2/2 [==============================] - 0s 19ms/step - loss: 0.3043 - accuracy: 0.9975 - val_loss: 0.3021 - val_accuracy: 1.0000\n",
            "Epoch 95/100\n",
            "2/2 [==============================] - 0s 18ms/step - loss: 0.3029 - accuracy: 0.9987 - val_loss: 0.2998 - val_accuracy: 1.0000\n",
            "Epoch 96/100\n",
            "2/2 [==============================] - 0s 20ms/step - loss: 0.2997 - accuracy: 0.9987 - val_loss: 0.2976 - val_accuracy: 1.0000\n",
            "Epoch 97/100\n",
            "2/2 [==============================] - 0s 23ms/step - loss: 0.2961 - accuracy: 0.9987 - val_loss: 0.2953 - val_accuracy: 1.0000\n",
            "Epoch 98/100\n",
            "2/2 [==============================] - 0s 20ms/step - loss: 0.2984 - accuracy: 0.9987 - val_loss: 0.2931 - val_accuracy: 1.0000\n",
            "Epoch 99/100\n",
            "2/2 [==============================] - 0s 22ms/step - loss: 0.2958 - accuracy: 0.9987 - val_loss: 0.2909 - val_accuracy: 1.0000\n",
            "Epoch 100/100\n",
            "2/2 [==============================] - 0s 20ms/step - loss: 0.2909 - accuracy: 0.9987 - val_loss: 0.2887 - val_accuracy: 1.0000\n"
          ],
          "name": "stdout"
        }
      ]
    },
    {
      "cell_type": "markdown",
      "metadata": {
        "id": "SNlKXHlJ4LLL",
        "colab_type": "text"
      },
      "source": [
        "In order to create a plot showing the random data, the true line used to generate the data, and the separating line of the trained model. Below is the equation to obtain the separating line.\n",
        "\n",
        "### y = wx + b\n",
        "### ${y= w_1x_1 + w_2x_2 + b}$ \n",
        "### ${0= w_1x_1 + w_2x_2 + b}$ \n",
        "Now, solve for ${x_2}$\n",
        "\n",
        "###${x_2}$= $- {\\frac{w_1x_1 + b}{w_2}}$\n",
        "\n",
        "###${w = -(\\frac {w_1}{w_2})}$\n",
        "\n",
        "###${b = - (\\frac {b}{w_2})}$"
      ]
    },
    {
      "cell_type": "markdown",
      "metadata": {
        "id": "G2zPOYji3-L_",
        "colab_type": "text"
      },
      "source": [
        "**Function that will display the data with prediction and actual separating line**"
      ]
    },
    {
      "cell_type": "code",
      "metadata": {
        "id": "bgUJxlNcQi4R",
        "colab_type": "code",
        "outputId": "54c72f82-735c-405d-97cb-0485840adfda",
        "colab": {
          "base_uri": "https://localhost:8080/",
          "height": 330
        }
      },
      "source": [
        "def prediction_line_display(data, labels, pred_w, pred_b, w, b):\n",
        "  shape = labels.flatten()\n",
        "  # Class 0 array, which has to be ploted and displayed as blue dots\n",
        "  data_0 = data[shape == 0,:]\n",
        "  plt.scatter(data_0[:,0],data_0 [:,1], c = 'blue', label = 'Class 0')\n",
        "  # Class 1 array, which has to be plotted and displayed as red dots\n",
        "  data_1 = data[shape == 1,:]\n",
        "  plt.scatter(data_1[:,0],data_1 [:,1], c = 'red', label = 'Class 1')\n",
        "\n",
        "# To display the prediction line\n",
        "  x = np.linspace(0, 1, 100)\n",
        "  pred_y = pred_w * x + pred_b # formula \n",
        "\n",
        "  # To display Actual line\n",
        "  y = w * x + b\n",
        "  plt.plot(x, pred_y, c = 'green', label = 'Prediction Line')\n",
        "  plt.plot(x, y, c = 'black', label = 'Actual Line')\n",
        "\n",
        "  plt.title('Predection and actual line on random data')\n",
        "  plt.xlabel('x_1')\n",
        "  plt.ylabel('x_2')\n",
        "  plt.legend()\n",
        "  plt.show()\n",
        "  return\n",
        "\n",
        "# Getting weight from the model\n",
        "weights_p2 = keras_model.get_weights()\n",
        "\n",
        "weight_1 = weights_p2[0][0]\n",
        "weight_2 = weights_p2[0][1]\n",
        "bias  = weights_p2[1][0]\n",
        "\n",
        "print(weights_p2)\n",
        "# The prediction weight and bias term in order to seperate line\n",
        "pred_w = -(weight_1 / weight_2)\n",
        "pred_b = -(bias / weight_2)\n",
        "\n",
        "prediction_line_display(data,labels, pred_w, pred_b,w , b)"
      ],
      "execution_count": 24,
      "outputs": [
        {
          "output_type": "stream",
          "text": [
            "[array([[-0.6206679 ],\n",
            "       [-0.23221914]], dtype=float32), array([1.0093951], dtype=float32)]\n"
          ],
          "name": "stdout"
        },
        {
          "output_type": "display_data",
          "data": {
            "image/png": "[encoded data removed]",
            "text/plain": [
              "<Figure size 432x288 with 1 Axes>"
            ]
          },
          "metadata": {
            "tags": [],
            "needs_background": "light"
          }
        }
      ]
    },
    {
      "cell_type": "markdown",
      "metadata": {
        "id": "S2cFgkGbXApt",
        "colab_type": "text"
      },
      "source": [
        "**Function to display the heatmap made from the prediction from the model**"
      ]
    },
    {
      "cell_type": "code",
      "metadata": {
        "id": "4faVCqIDXQ_j",
        "colab_type": "code",
        "colab": {}
      },
      "source": [
        "def prediction_heatmap(data):\n",
        "  # Defining the heatmap region\n",
        "  x_heatmap = np.linspace(0,1,100)\n",
        "  y_max = max(data[:,1])\n",
        "  y_min = min(data[:,1])\n",
        "  y_heatmap = np.linspace(y_min, y_max, 100)\n",
        "  X, Y = np.meshgrid(x_heatmap, y_heatmap)\n",
        "\n",
        "  # creates Z values based on x,y grid\n",
        "\n",
        "  Z = keras_model.predict(np.c_[X.ravel(), Y.ravel()])\n",
        "  Z = Z.reshape(X.shape)\n",
        "\n",
        "  # Configuring the plot\n",
        "  fig = plt.figure()\n",
        "  ax = plt.axes()\n",
        "  contours = ax.contourf(X, Y, Z, 100, cmap='RdBu_r')\n",
        "  i = ax.imshow(Z, extent=[0, 1, y_min, y_max], cmap='RdBu_r', alpha=0.5, aspect='auto')\n",
        "\n",
        "  # Giving a colorbar\n",
        "  plt.colorbar(i, ax= ax)\n",
        "\n",
        "  ax.set_xlabel('$x_1$')\n",
        "  ax.set_ylabel('$x_2$')\n",
        "  ax.set_title(\"Heatmap for the Keras model\")\n",
        "  plt.show()\n",
        "  return"
      ],
      "execution_count": 0,
      "outputs": []
    },
    {
      "cell_type": "code",
      "metadata": {
        "id": "Als-sw9Rfdq3",
        "colab_type": "code",
        "outputId": "c5e6ac63-1962-4a6e-ca09-7f0955be63f1",
        "colab": {
          "base_uri": "https://localhost:8080/",
          "height": 297
        }
      },
      "source": [
        "prediction_heatmap(data)"
      ],
      "execution_count": 26,
      "outputs": [
        {
          "output_type": "display_data",
          "data": {
            "image/png": "[encoded data removed]",
            "text/plain": [
              "<Figure size 432x288 with 2 Axes>"
            ]
          },
          "metadata": {
            "tags": [],
            "needs_background": "light"
          }
        }
      ]
    },
    {
      "cell_type": "markdown",
      "metadata": {
        "id": "DybGbhcAlKFC",
        "colab_type": "text"
      },
      "source": [
        "###**Problem 3:**\n",
        "Use numpy to implement a logistic regression model from scratch and train it with the data generated as in Problem 1.\n",
        "\n",
        "Hints: Look at the notes on logistic regression to figure out what the gradient is of the binary cross entropy loss with respect to w and b. Note that you only have to implement stochastic gradient, that is, you do not have to write vectorized code for mini-batch gradient descent.\n",
        "\n",
        "Create a plot showing the random data, the true line used to generate the data, and the separating line of the trained model.\n",
        "\n",
        "Use a heatmap to visualize the function defined by your trained model.\n",
        "\n",
        "You also have to compute the binary cross entropy loss and accuracy on the test set"
      ]
    },
    {
      "cell_type": "code",
      "metadata": {
        "id": "uHYzxG1rGYNy",
        "colab_type": "code",
        "colab": {}
      },
      "source": [
        "import numpy as np\n",
        "import tensorflow as tf\n",
        "from sklearn.model_selection import train_test_split"
      ],
      "execution_count": 0,
      "outputs": []
    },
    {
      "cell_type": "code",
      "metadata": {
        "id": "Irpkf2YAR6dv",
        "colab_type": "code",
        "colab": {}
      },
      "source": [
        "# Getting data from problem 1 with sample data\n",
        "mu = 5\n",
        "sigma = 1.5\n",
        "m = 1000\n",
        "w = 2\n",
        "b = 2\n",
        "\n",
        "\n",
        "#epochs = 20\n",
        "#learning_rate = 0.01\n",
        "\n",
        "data, labels = get_random_data(w,b,mu,sigma,m)\n",
        "#train_data, test_data, train_labels, test_labels = train_test_split(train_data, train_labels)"
      ],
      "execution_count": 0,
      "outputs": []
    },
    {
      "cell_type": "markdown",
      "metadata": {
        "id": "THLwIr5opfzE",
        "colab_type": "text"
      },
      "source": [
        "**Functions that will be used by the Model**"
      ]
    },
    {
      "cell_type": "code",
      "metadata": {
        "id": "C42b1nUxKb06",
        "colab_type": "code",
        "colab": {}
      },
      "source": [
        "# Function that performs sigmoid activation on a given input\n",
        "def sigmoid(z):\n",
        "    return 1.0 / (1.0 + np.exp(-z))\n",
        "\n",
        "# Calculates the binary cross entropy loss \n",
        "def binary_cross_entropy_loss(pred_a, pred_label):\n",
        "    return (-pred_label * np.log(pred_a)) - ((1 - pred_label) * np.log(1 - pred_a))\n",
        "\n",
        "# Performing a test for the model using inputs as test labels and data with weights\n",
        "def model_test(test_data, test_labels, weights):\n",
        "  loss_in_total = 0\n",
        "  pred_correct = 0\n",
        "\n",
        "  for i in range(len(test_data)):\n",
        "    # Processing the input\n",
        "    X = np.concatenate(([1], test_data[i]))\n",
        "    z = weights.T.dot(X)\n",
        "    a = sigmoid(z)\n",
        "    # MAking a prediction \n",
        "    if(a < .5 and test_labels[i] == 0) or (a >= .5 and test_labels[i] == 1):\n",
        "      pred_correct += 1\n",
        "    \n",
        "    # Calculating the loss\n",
        "    loss_in_total += binary_cross_entropy_loss(a, test_labels[i])\n",
        "  #print(loss_in_total)\n",
        "  \n",
        "  # Return summary\n",
        "  return (loss_in_total[0] / len(test_data), pred_correct / len(test_data))\n",
        "\n",
        "# Computes the logistic regression\n",
        "def logistic_regression_model(train_data, train_labels, test_data, test_labels, epochs, learing_rate):\n",
        "  # Randomizing the initial weights\n",
        "  weights = np.random.random_sample((3,))\n",
        "  \n",
        "  for epoch in range(epochs):\n",
        "    # This is performing only Stochastic gradient descent\n",
        "    for i in range(len(train_data)):\n",
        "      # Processing the input\n",
        "      X = np.concatenate(([1], train_data[i]))\n",
        "      z = weights.T.dot(X)\n",
        "      a = sigmoid(z)\n",
        "\n",
        "      # Determining the gradient of the loss\n",
        "      loss_gradient = (a - train_labels[i]) * X\n",
        "\n",
        "      # Applying gradient to the weights\n",
        "      weights -= loss_gradient * learning_rate\n",
        "    # For each epoch, analyze the accuracy and loss for it.\n",
        "    loss,accuracy = model_test(test_data, test_labels,weights)\n",
        "    print(f'Epoch {epoch+1}/{epochs} -> Loss: {loss} , Accuracy: {accuracy}')\n",
        "  # Returning the trained weights\n",
        "  return weights\n",
        "    "
      ],
      "execution_count": 0,
      "outputs": []
    },
    {
      "cell_type": "markdown",
      "metadata": {
        "id": "N3Iz0ymvoufj",
        "colab_type": "text"
      },
      "source": [
        "**Testing the function**"
      ]
    },
    {
      "cell_type": "code",
      "metadata": {
        "id": "qZTyjlInKore",
        "colab_type": "code",
        "outputId": "96662f7c-fe86-4d2c-df0e-189e37ef3d68",
        "colab": {
          "base_uri": "https://localhost:8080/",
          "height": 633
        }
      },
      "source": [
        "epochs = 20\n",
        "learning_rate = 0.01\n",
        "\n",
        "weights = logistic_regression_model(train_data, train_labels,test_data,test_labels,epochs,learning_rate)\n",
        "\n",
        "display_random_data(labels,data,w,b)\n",
        "xline = np.linspace(0, 1, 100)\n",
        "yline = -((weights[1] * xline + weights[0])/ weights[2])\n",
        "plt.plot(xline, yline, color='green')\n",
        "plt.title('NumPy model trained separating line')\n",
        "plt.show()"
      ],
      "execution_count": 30,
      "outputs": [
        {
          "output_type": "stream",
          "text": [
            "Epoch 1/20 -> Loss: 0.034550789135991106 , Accuracy: 1.0\n",
            "Epoch 2/20 -> Loss: 0.0253882595852402 , Accuracy: 1.0\n",
            "Epoch 3/20 -> Loss: 0.020412695031651076 , Accuracy: 1.0\n",
            "Epoch 4/20 -> Loss: 0.017136494753821806 , Accuracy: 1.0\n",
            "Epoch 5/20 -> Loss: 0.014790698844262009 , Accuracy: 1.0\n",
            "Epoch 6/20 -> Loss: 0.01302336107931134 , Accuracy: 1.0\n",
            "Epoch 7/20 -> Loss: 0.011643083382891805 , Accuracy: 1.0\n",
            "Epoch 8/20 -> Loss: 0.010535073616499874 , Accuracy: 1.0\n",
            "Epoch 9/20 -> Loss: 0.009625896283273198 , Accuracy: 1.0\n",
            "Epoch 10/20 -> Loss: 0.008866310405250872 , Accuracy: 1.0\n",
            "Epoch 11/20 -> Loss: 0.008222063073322834 , Accuracy: 1.0\n",
            "Epoch 12/20 -> Loss: 0.007668601212342996 , Accuracy: 1.0\n",
            "Epoch 13/20 -> Loss: 0.0071878740276018595 , Accuracy: 1.0\n",
            "Epoch 14/20 -> Loss: 0.006766319543406987 , Accuracy: 1.0\n",
            "Epoch 15/20 -> Loss: 0.006393553666999075 , Accuracy: 1.0\n",
            "Epoch 16/20 -> Loss: 0.006061492075684675 , Accuracy: 1.0\n",
            "Epoch 17/20 -> Loss: 0.005763747335181428 , Accuracy: 1.0\n",
            "Epoch 18/20 -> Loss: 0.005495205872394117 , Accuracy: 1.0\n",
            "Epoch 19/20 -> Loss: 0.0052517253252848 , Accuracy: 1.0\n",
            "Epoch 20/20 -> Loss: 0.005029914199099705 , Accuracy: 1.0\n"
          ],
          "name": "stdout"
        },
        {
          "output_type": "display_data",
          "data": {
            "image/png": "[encoded data removed]",
            "text/plain": [
              "<Figure size 432x288 with 1 Axes>"
            ]
          },
          "metadata": {
            "tags": [],
            "needs_background": "light"
          }
        }
      ]
    },
    {
      "cell_type": "markdown",
      "metadata": {
        "id": "SL9f0hQYozje",
        "colab_type": "text"
      },
      "source": [
        "**Function for heatmap for problem 3**"
      ]
    },
    {
      "cell_type": "code",
      "metadata": {
        "id": "i_Com7rjbezI",
        "colab_type": "code",
        "outputId": "3dd6ecb3-f1b1-41dd-ca84-f632cbefd501",
        "colab": {
          "base_uri": "https://localhost:8080/",
          "height": 297
        }
      },
      "source": [
        "def prediction_heatmap_p3():\n",
        "  # Defining the heatmap region\n",
        "  x_heatmap = np.linspace(0,1,100)\n",
        "  y_max = max(data[:,1])\n",
        "  y_min = min(data[:,1])\n",
        "  y_heatmap = np.linspace(y_min, y_max, 100)\n",
        "  X, Y = np.meshgrid(x_heatmap, y_heatmap)\n",
        "\n",
        " # Configure the plot\n",
        "  ax = plt.axes()\n",
        "  ax.set_xlabel('$x_1$')\n",
        "  ax.set_ylabel('$x_2$')\n",
        "\n",
        "  # Calling the sigmoid function with computed weights\n",
        "  Z = sigmoid(weights[1] * X + weights[2] * Y + weights[0])\n",
        "  \n",
        "  # Displays the heatmap plane\n",
        "  plt.contourf(X, Y, Z, 100, cmap='RdBu_r')\n",
        "  plt.title('Heatmap for logistic regression')\n",
        "  \n",
        "  plt.colorbar()\n",
        "  plt.show()\n",
        "\n",
        "prediction_heatmap_p3()\n"
      ],
      "execution_count": 31,
      "outputs": [
        {
          "output_type": "display_data",
          "data": {
            "image/png": "[encoded data removed]",
            "text/plain": [
              "<Figure size 432x288 with 2 Axes>"
            ]
          },
          "metadata": {
            "tags": [],
            "needs_background": "light"
          }
        }
      ]
    },
    {
      "cell_type": "markdown",
      "metadata": {
        "id": "30_Rnx6G7uHt",
        "colab_type": "text"
      },
      "source": [
        "##Reference:\n",
        "P. Wocjan, \"Gradients of logistic regression with squared error and binary cross-entropy loss functions,\" Feb. 2019\n",
        "\n"
      ]
    }
  ]
}