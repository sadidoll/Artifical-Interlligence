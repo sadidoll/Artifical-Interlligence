{
  "nbformat": 4,
  "nbformat_minor": 0,
  "metadata": {
    "colab": {
      "name": "Homework4_p1 & p_2.ipynb",
      "provenance": [],
      "authorship_tag": "ABX9TyOEAWqHguW3RFiuu/Qr45U2",
      "include_colab_link": true
    },
    "kernelspec": {
      "name": "python3",
      "display_name": "Python 3"
    }
  },
  "cells": [
    {
      "cell_type": "markdown",
      "metadata": {
        "id": "view-in-github",
        "colab_type": "text"
      },
      "source": [
        "<a href=\"https://colab.research.google.com/github/sadidoll/Artifical-Interlligence/blob/master/HW_4/Homework4_p1_%26_p_2.ipynb\" target=\"_parent\"><img src=\"https://colab.research.google.com/assets/colab-badge.svg\" alt=\"Open In Colab\"/></a>"
      ]
    },
    {
      "cell_type": "markdown",
      "metadata": {
        "id": "wtJqLaOzAjqA",
        "colab_type": "text"
      },
      "source": [
        "#**Homework 4**"
      ]
    },
    {
      "cell_type": "markdown",
      "metadata": {
        "id": "7tkPkDteAs3G",
        "colab_type": "text"
      },
      "source": [
        "###**Problem 1**\n",
        "Using only numpy, implement the function conv2d. It takes as input input_mat and kernel_mat and outputs output_mat. All variables are square matrices. It should compute the convolution of input_mat with the kernel kernel_mat using valid padding.\n",
        "\n",
        "Note that the size s of the kernel matrix can also be an even number"
      ]
    },
    {
      "cell_type": "markdown",
      "metadata": {
        "id": "1UPqFStxDDbj",
        "colab_type": "text"
      },
      "source": [
        "**Imports**"
      ]
    },
    {
      "cell_type": "code",
      "metadata": {
        "id": "gcWS63-NBY0A",
        "colab_type": "code",
        "colab": {}
      },
      "source": [
        "import numpy as np"
      ],
      "execution_count": 0,
      "outputs": []
    },
    {
      "cell_type": "markdown",
      "metadata": {
        "id": "djSdL-kHKNdJ",
        "colab_type": "text"
      },
      "source": [
        "**Function for conv2d using numpy**"
      ]
    },
    {
      "cell_type": "code",
      "metadata": {
        "id": "zltZPy3_DI3y",
        "colab_type": "code",
        "colab": {}
      },
      "source": [
        "def conv2d(input_mat, kernal_mat):\n",
        "  # Checking if the input given by the user are square matrix\n",
        "  if (input_mat.shape[0] != input_mat.shape[1]):\n",
        "    raise ValueError(\"Error: The Input Matrix is not a square matrix\")\n",
        "  if (kernal_mat.shape[0] != kernal_mat.shape[1]):\n",
        "    raise ValueError(\"Error: The Kernal Matrix is not a square matrix\")\n",
        "  # Checks if the kernal is larger than input\n",
        "  if (kernal_mat.shape[0] > input_mat.shape[0]):\n",
        "    raise ValueError(\"Error: The kernal can't be larger than input \")\n",
        "  \n",
        "  # Creating output array\n",
        "  output_mat = np.zeros((input_mat.shape[0] - kernal_mat.shape[0] + 1 ,\n",
        "                        input_mat.shape[1] - kernal_mat.shape[1] + 1))\n",
        " \n",
        "  # Source: https://stackoverflow.com/questions/2448015/2d-convolution-using-python-and-numpy\n",
        "  # Convolving\n",
        "  for i in range(input_mat.shape[0] - kernal_mat.shape[0] + 1):\n",
        "    for j in range(input_mat.shape[1] - kernal_mat.shape[1] + 1):\n",
        "      output_mat[i][j] = np.sum(input_mat[i: i + kernal_mat.shape[0],\n",
        "                                          j : j + kernal_mat.shape[1]] * kernal_mat)\n",
        "  return output_mat\n"
      ],
      "execution_count": 0,
      "outputs": []
    },
    {
      "cell_type": "markdown",
      "metadata": {
        "id": "5KumSp3Ce59b",
        "colab_type": "text"
      },
      "source": [
        "**Testing the conv2d function with some test cases**"
      ]
    },
    {
      "cell_type": "code",
      "metadata": {
        "id": "SYWS7QnFfEqo",
        "colab_type": "code",
        "colab": {
          "base_uri": "https://localhost:8080/",
          "height": 370
        },
        "outputId": "be3938f9-ba43-4a74-a3a6-93c5ec67a0f7"
      },
      "source": [
        "from scipy import signal\n",
        "import numpy as np\n",
        "\n",
        "input_mat = []\n",
        "kernel_mat = []\n",
        "expected_mat = []\n",
        "\n",
        "# test case 1\n",
        "input_mat.append(np.array([[1, 2, 1, 2],\n",
        "                      [2, 1, 2, 1],\n",
        "                      [1, 2, 1, 2],\n",
        "                      [2, 1, 2, 1]]))\n",
        "\n",
        "kernel_mat.append(np.array([[1, 0],\n",
        "                       [0, 1]]))\n",
        "\n",
        "expected_mat.append(np.array([[2, 4, 2],\n",
        "                                [4, 2, 4],\n",
        "                                [2, 4, 2]]))\n",
        "\n",
        "# test case 2\n",
        "input_mat.append(np.array([[1, 0, 0, 0],\n",
        "                      [0, 1, 0, 0],\n",
        "                      [0, 0, 1, 0],\n",
        "                      [0, 0, 0, 1]]))\n",
        "kernel_mat.append(np.array([[1, 0], [0, 1]]))\n",
        "expected_mat.append(np.array([[2, 0, 0], [0, 2, 0], [0, 0, 2]]))\n",
        "\n",
        "\n",
        "# test case 3\n",
        "input_mat.append(np.array([[1, 0, 0, 0],\n",
        "                      [0, 1, 0, 0],\n",
        "                      [0, 0, 1, 0],\n",
        "                      [0, 0, 0, 1]]))\n",
        "kernel_mat.append(np.array([[1, -1],\n",
        "                       [-1, 0]]))\n",
        "\n",
        "expected_mat.append(np.array([[ 1, -1,  0], [-1,  1, -1],[ 0, -1,  1]]))\n",
        "\n",
        "\n",
        "# test case 4\n",
        "input_mat.append(np.array([[1, 0, 0, 0],\n",
        "                      [0, 1, 0, 0],\n",
        "                      [0, 0, 1, 0],\n",
        "                      [0, 0, 0, 1]]))\n",
        "kernel_mat.append(np.array([[1, 0, 0, 0],\n",
        "                      [0, 1, 0, 0],\n",
        "                      [0, 0, 1, 0],\n",
        "                      [0, 0, 0, 1]]))\n",
        "\n",
        "expected_mat.append(np.array([[4]]))\n",
        "\n",
        "\n",
        "# test case 5 - should either through an error, or return empty matrix\n",
        "input_mat.append(np.array([[1, -1],\n",
        "                       [-1, 0]]))\n",
        "kernel_mat.append(np.array([[1, 0, 0, 0],\n",
        "                      [0, 1, 0, 0],\n",
        "                      [0, 0, 1, 0],\n",
        "                      [0, 0, 0, 1]]))\n",
        "\n",
        "expected_mat.append([])\n",
        "\n",
        "\n",
        "for i in range(len(input_mat)):\n",
        "  try:\n",
        "    # uncomment line for student code testing\n",
        "    output_mat = conv2d(input_mat[i], kernel_mat[i])\n",
        "    print(output_mat)\n",
        "   \n",
        "    # uncomment lines below (and comment line above) for generating test cases.\n",
        "    if np.array_equal(output_mat, expected_mat[i]):\n",
        "      print(\"Correct output!\\n\")\n",
        "    else:\n",
        "      print(\"Incorrect output!\\n\")\n",
        "  except Exception as e:\n",
        "    print(e)\n",
        "\n",
        "    if expected_mat[i] == []:\n",
        "      print(\"Correct output!\\n\")\n",
        "    else:\n",
        "      print(\"Incorrect output!\\n\")\n"
      ],
      "execution_count": 11,
      "outputs": [
        {
          "output_type": "stream",
          "text": [
            "[[2. 4. 2.]\n",
            " [4. 2. 4.]\n",
            " [2. 4. 2.]]\n",
            "Correct output!\n",
            "\n",
            "[[2. 0. 0.]\n",
            " [0. 2. 0.]\n",
            " [0. 0. 2.]]\n",
            "Correct output!\n",
            "\n",
            "[[ 1. -1.  0.]\n",
            " [-1.  1. -1.]\n",
            " [ 0. -1.  1.]]\n",
            "Correct output!\n",
            "\n",
            "[[4.]]\n",
            "Correct output!\n",
            "\n",
            "Error: The kernal can't be larger than input \n",
            "Correct output!\n",
            "\n"
          ],
          "name": "stdout"
        }
      ]
    },
    {
      "cell_type": "markdown",
      "metadata": {
        "id": "TCLBLEctmgCQ",
        "colab_type": "text"
      },
      "source": [
        "###**Problem 2**\n",
        "\n",
        "Using only numpy, implement the function maxpooling2d. It takes as input input_mat and s and outputs output_mat. The variables input_mat and output_mat are square matrices and s is an integer. It should compute the maxpooling operation on input_mat using window of shape s times s.\n"
      ]
    },
    {
      "cell_type": "markdown",
      "metadata": {
        "id": "J5POvsk8p4se",
        "colab_type": "text"
      },
      "source": [
        "**Function for 2d max pooling using numpy**"
      ]
    },
    {
      "cell_type": "code",
      "metadata": {
        "id": "hT6_dhU6p_XA",
        "colab_type": "code",
        "colab": {}
      },
      "source": [
        "def maxpooling2d(input_mat, s):\n",
        "\n",
        "  # Checks if the input is square matrix\n",
        "  if(input_mat.shape[0] != input_mat.shape[1]):\n",
        "    raise ValueError(\"Error: The Input Matrix is not a square matrix \")\n",
        "  \n",
        "  # Checks if the window size is larger than input \n",
        "  if(s > input_mat.shape[0]):\n",
        "    raise ValueError(\"Error: The size of the window cannot be larger than the input\")\n",
        "  \n",
        "  # Creating empty matrix to hold the result\n",
        "  output_mat = np.empty((int(input_mat.shape[0] / s),\n",
        "                         int(input_mat.shape[1] / s)))\n",
        "  # Maxpooling\n",
        "  for i in range(int(input_mat.shape[0] / s)):\n",
        "    n = i * s\n",
        "    for j in range(int(input_mat.shape[1] / s)):\n",
        "      m = j * s\n",
        "      # Finding the max\n",
        "      output_mat[i][j] = np.amax(input_mat[n: n + s, m : m + s])\n",
        "  \n",
        "  return output_mat\n"
      ],
      "execution_count": 0,
      "outputs": []
    },
    {
      "cell_type": "markdown",
      "metadata": {
        "id": "UgX6gvymqEX-",
        "colab_type": "text"
      },
      "source": [
        "**Testing the 2d max pooling function**"
      ]
    },
    {
      "cell_type": "code",
      "metadata": {
        "id": "VwoA2XX5qMFa",
        "colab_type": "code",
        "colab": {
          "base_uri": "https://localhost:8080/",
          "height": 134
        },
        "outputId": "1774f7c3-478c-4a88-e8ad-03b9b6ddc957"
      },
      "source": [
        "#import skimage.measure\n",
        "\n",
        "input_mat = []\n",
        "expected_mat = []\n",
        "s = []\n",
        "input_mat.append(np.array([[1, 2, 1, 2],\n",
        "                      [2, 4, 2, 1],\n",
        "                      [1, 2, 4, 2],\n",
        "                      [2, 1, 2, 1]]))\n",
        "s.append(2)\n",
        "\n",
        "expected_mat.append(np.array([[4, 2],\n",
        "                              [2, 4]]))\n",
        "\n",
        "input_mat.append(np.array([[1, 2, 1, 2, 4, 5],\n",
        "                           [2, 4, 2, 1, 0, 3],\n",
        "                           [1, 2, 4, 2, 4, 5],\n",
        "                           [2, 1, 2, 1, 2, 1],\n",
        "                           [1, 1, 2, 3, 1, 2],\n",
        "                           [1, 1, 2, 3, 1, 2]]))\n",
        "s.append(2)\n",
        "\n",
        "expected_mat.append([[4, 2, 5],\n",
        "                    [2, 4, 5],\n",
        "                    [1, 3, 2]])\n",
        "\n",
        "\n",
        "for i in range(len(input_mat)):\n",
        "  try:\n",
        "    # uncomment top line and comment second line to test code\n",
        "    output_mat = maxpooling2d(input_mat[i], s[i])\n",
        "    #output_mat = skimage.measure.block_reduce(input_mat[i], (s[i],s[i]), np.max)\n",
        "    print(output_mat)\n",
        "    if np.array_equal(output_mat, expected_mat[i]):\n",
        "      print(\"Correct output!\")\n",
        "    else:\n",
        "      print(\"Incorrect output!\")\n",
        "  except Exception as e :\n",
        "    print(e)\n",
        "    if expected_mat[i] == []:\n",
        "      print(\"Correct output!\")\n",
        "    else:\n",
        "      print(\"Incorrect output!\")\n",
        "\n"
      ],
      "execution_count": 29,
      "outputs": [
        {
          "output_type": "stream",
          "text": [
            "[[4. 2.]\n",
            " [2. 4.]]\n",
            "Correct output!\n",
            "[[4. 2. 5.]\n",
            " [2. 4. 5.]\n",
            " [1. 3. 2.]]\n",
            "Correct output!\n"
          ],
          "name": "stdout"
        }
      ]
    }
  ]
}