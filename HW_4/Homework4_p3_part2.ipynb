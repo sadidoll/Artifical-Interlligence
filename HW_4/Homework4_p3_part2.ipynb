{
  "nbformat": 4,
  "nbformat_minor": 0,
  "metadata": {
    "colab": {
      "name": "Homework4_p3_part2.ipynb",
      "provenance": [],
      "authorship_tag": "ABX9TyNpoXKs5zcFf1+GR0oqEbSY",
      "include_colab_link": true
    },
    "kernelspec": {
      "name": "python3",
      "display_name": "Python 3"
    },
    "accelerator": "GPU"
  },
  "cells": [
    {
      "cell_type": "markdown",
      "metadata": {
        "id": "view-in-github",
        "colab_type": "text"
      },
      "source": [
        "<a href=\"https://colab.research.google.com/github/sadidoll/Artifical-Interlligence/blob/master/HW_4/Homework4_p3_part2.ipynb\" target=\"_parent\"><img src=\"https://colab.research.google.com/assets/colab-badge.svg\" alt=\"Open In Colab\"/></a>"
      ]
    },
    {
      "cell_type": "markdown",
      "metadata": {
        "id": "NZOzePuoaXdL",
        "colab_type": "text"
      },
      "source": [
        "##**Fine-tuning Xception**\n",
        "###**Feature extraction**\n",
        "\n",
        "**Download the data**"
      ]
    },
    {
      "cell_type": "markdown",
      "metadata": {
        "id": "peEO5LLsbNj2",
        "colab_type": "text"
      },
      "source": [
        "Download the example data, a zip. of 2,000 JPG pictures of cats and dogs and extract it locally in /tmp."
      ]
    },
    {
      "cell_type": "code",
      "metadata": {
        "id": "AVgClxpebR3x",
        "colab_type": "code",
        "colab": {
          "base_uri": "https://localhost:8080/",
          "height": 202
        },
        "outputId": "e26768df-29ae-43f1-f698-733b8d406ebf"
      },
      "source": [
        "!wget --no-check-certificate \\\n",
        "    https://storage.googleapis.com/mledu-datasets/cats_and_dogs_filtered.zip \\\n",
        "    -O /tmp/cats_and_dogs_filtered.zip"
      ],
      "execution_count": 54,
      "outputs": [
        {
          "output_type": "stream",
          "text": [
            "--2020-04-22 03:24:24--  https://storage.googleapis.com/mledu-datasets/cats_and_dogs_filtered.zip\n",
            "Resolving storage.googleapis.com (storage.googleapis.com)... 173.194.76.128, 2a00:1450:400c:c00::80\n",
            "Connecting to storage.googleapis.com (storage.googleapis.com)|173.194.76.128|:443... connected.\n",
            "HTTP request sent, awaiting response... 200 OK\n",
            "Length: 68606236 (65M) [application/zip]\n",
            "Saving to: ‘/tmp/cats_and_dogs_filtered.zip’\n",
            "\n",
            "/tmp/cats_and_dogs_ 100%[===================>]  65.43M  56.1MB/s    in 1.2s    \n",
            "\n",
            "2020-04-22 03:24:26 (56.1 MB/s) - ‘/tmp/cats_and_dogs_filtered.zip’ saved [68606236/68606236]\n",
            "\n"
          ],
          "name": "stdout"
        }
      ]
    },
    {
      "cell_type": "code",
      "metadata": {
        "id": "e0PVOFPrbVhS",
        "colab_type": "code",
        "colab": {}
      },
      "source": [
        "import os\n",
        "import zipfile\n",
        "\n",
        "local_zip = '/tmp/cats_and_dogs_filtered.zip'\n",
        "zip_ref = zipfile.ZipFile(local_zip, 'r')\n",
        "zip_ref.extractall('/tmp')\n",
        "zip_ref.close()"
      ],
      "execution_count": 0,
      "outputs": []
    },
    {
      "cell_type": "code",
      "metadata": {
        "id": "M2wtg4TCbbbv",
        "colab_type": "code",
        "colab": {}
      },
      "source": [
        "base_dir = '/tmp/cats_and_dogs_filtered'\n",
        "train_dir = os.path.join(base_dir, 'train')\n",
        "validation_dir = os.path.join(base_dir, 'validation')\n",
        "\n",
        "# Directory with our training cat pictures\n",
        "train_cats_dir = os.path.join(train_dir, 'cats')\n",
        "\n",
        "# Directory with our training dog pictures\n",
        "train_dogs_dir = os.path.join(train_dir, 'dogs')\n",
        "\n",
        "# Directory with our validation cat pictures\n",
        "validation_cats_dir = os.path.join(validation_dir, 'cats')\n",
        "\n",
        "# Directory with our validation dog pictures\n",
        "validation_dogs_dir = os.path.join(validation_dir, 'dogs')"
      ],
      "execution_count": 0,
      "outputs": []
    },
    {
      "cell_type": "markdown",
      "metadata": {
        "id": "m1mO6ss0bfRr",
        "colab_type": "text"
      },
      "source": [
        "###**Build network with Xception convolution base and custom densely connected layers**"
      ]
    },
    {
      "cell_type": "markdown",
      "metadata": {
        "id": "ph55UGq7blS7",
        "colab_type": "text"
      },
      "source": [
        "**Load the convolutional base**"
      ]
    },
    {
      "cell_type": "code",
      "metadata": {
        "id": "WZhuB8yQbrXM",
        "colab_type": "code",
        "colab": {}
      },
      "source": [
        "from keras.applications import Xception\n",
        "\n",
        "conv_base = Xception(\n",
        "    weights='imagenet', \n",
        "    include_top=False, \n",
        "    input_shape=(150, 150, 3))"
      ],
      "execution_count": 0,
      "outputs": []
    },
    {
      "cell_type": "markdown",
      "metadata": {
        "id": "dYp4LWv2bw-X",
        "colab_type": "text"
      },
      "source": [
        "**Freeze the convolutional base**"
      ]
    },
    {
      "cell_type": "code",
      "metadata": {
        "id": "DTrldpRwb0s2",
        "colab_type": "code",
        "colab": {}
      },
      "source": [
        "conv_base.trainable = False"
      ],
      "execution_count": 0,
      "outputs": []
    },
    {
      "cell_type": "markdown",
      "metadata": {
        "id": "07yHuiyfb2tR",
        "colab_type": "text"
      },
      "source": [
        "**Concatenate the convolutional base and densely connected layers**"
      ]
    },
    {
      "cell_type": "code",
      "metadata": {
        "id": "oDe-3bbmb6TD",
        "colab_type": "code",
        "colab": {}
      },
      "source": [
        "from keras import layers\n",
        "from keras import models\n",
        "from keras import optimizers\n",
        "\n",
        "model = models.Sequential()\n",
        "model.add(conv_base)\n",
        "model.add(layers.Flatten())\n",
        "model.add(layers.Dense(256, activation='relu'))\n",
        "model.add(layers.Dropout(0.1))\n",
        "model.add(layers.Dense(64, activation='relu'))\n",
        "#model.add(layers.Dropout(0.1))\n",
        "model.add(layers.Dense(1, activation='sigmoid'))"
      ],
      "execution_count": 0,
      "outputs": []
    },
    {
      "cell_type": "code",
      "metadata": {
        "id": "ZmJBZB5Wb_4x",
        "colab_type": "code",
        "colab": {
          "base_uri": "https://localhost:8080/",
          "height": 353
        },
        "outputId": "5a93af90-f90b-402c-8234-b3b3ef1db195"
      },
      "source": [
        "model.summary()"
      ],
      "execution_count": 61,
      "outputs": [
        {
          "output_type": "stream",
          "text": [
            "Model: \"sequential_6\"\n",
            "_________________________________________________________________\n",
            "Layer (type)                 Output Shape              Param #   \n",
            "=================================================================\n",
            "xception (Model)             (None, 5, 5, 2048)        20861480  \n",
            "_________________________________________________________________\n",
            "flatten_5 (Flatten)          (None, 51200)             0         \n",
            "_________________________________________________________________\n",
            "dense_11 (Dense)             (None, 256)               13107456  \n",
            "_________________________________________________________________\n",
            "dropout_6 (Dropout)          (None, 256)               0         \n",
            "_________________________________________________________________\n",
            "dense_12 (Dense)             (None, 64)                16448     \n",
            "_________________________________________________________________\n",
            "dense_13 (Dense)             (None, 1)                 65        \n",
            "=================================================================\n",
            "Total params: 33,985,449\n",
            "Trainable params: 13,123,969\n",
            "Non-trainable params: 20,861,480\n",
            "_________________________________________________________________\n"
          ],
          "name": "stdout"
        }
      ]
    },
    {
      "cell_type": "markdown",
      "metadata": {
        "id": "jJv2L0DFcFHm",
        "colab_type": "text"
      },
      "source": [
        "**Train the model end to end with frozen convolutional base**"
      ]
    },
    {
      "cell_type": "code",
      "metadata": {
        "id": "bHR_VLqTcHOy",
        "colab_type": "code",
        "colab": {
          "base_uri": "https://localhost:8080/",
          "height": 1000
        },
        "outputId": "5f541c2d-b72c-4ad0-8bda-c4a323b77bdd"
      },
      "source": [
        "from keras.preprocessing.image import ImageDataGenerator\n",
        "from keras import optimizers\n",
        "\n",
        "# data augmentation\n",
        "\n",
        "train_datagen = ImageDataGenerator(\n",
        "    rescale=1./255, \n",
        "    rotation_range=40,\n",
        "    width_shift_range=0.2,\n",
        "    height_shift_range=0.2,\n",
        "    shear_range=0.2,\n",
        "    zoom_range=0.2,\n",
        "    horizontal_flip=True,\n",
        "    fill_mode='nearest'\n",
        ")\n",
        "\n",
        "train_generator = train_datagen.flow_from_directory(\n",
        "    train_dir,\n",
        "    target_size=(150, 150),\n",
        "    batch_size=20,\n",
        "    class_mode='binary')\n",
        "\n",
        "validation_datagen = ImageDataGenerator(rescale=1./255)\n",
        "\n",
        "validation_generator = validation_datagen.flow_from_directory(\n",
        "    validation_dir,\n",
        "    target_size=(150, 150),\n",
        "    batch_size=20,\n",
        "    class_mode='binary')\n",
        "\n",
        "# compile model\n",
        "\n",
        "model.compile(\n",
        "    loss='binary_crossentropy', \n",
        "    optimizer=optimizers.RMSprop(lr=2e-5), \n",
        "    metrics=['acc'])\n",
        "\n",
        "# train\n",
        "\n",
        "history = model.fit_generator(\n",
        "    train_generator,\n",
        "    steps_per_epoch=100,\n",
        "    epochs=30,\n",
        "    validation_data=validation_generator,\n",
        "    validation_steps=50\n",
        ")"
      ],
      "execution_count": 62,
      "outputs": [
        {
          "output_type": "stream",
          "text": [
            "Found 2000 images belonging to 2 classes.\n",
            "Found 1000 images belonging to 2 classes.\n",
            "Epoch 1/30\n",
            "100/100 [==============================] - 24s 243ms/step - loss: 0.4551 - acc: 0.7780 - val_loss: 0.0207 - val_acc: 0.9540\n",
            "Epoch 2/30\n",
            "100/100 [==============================] - 21s 205ms/step - loss: 0.3832 - acc: 0.8235 - val_loss: 0.1354 - val_acc: 0.9670\n",
            "Epoch 3/30\n",
            "100/100 [==============================] - 21s 205ms/step - loss: 0.3529 - acc: 0.8295 - val_loss: 0.0013 - val_acc: 0.9690\n",
            "Epoch 4/30\n",
            "100/100 [==============================] - 21s 205ms/step - loss: 0.3229 - acc: 0.8615 - val_loss: 0.1753 - val_acc: 0.9510\n",
            "Epoch 5/30\n",
            "100/100 [==============================] - 20s 205ms/step - loss: 0.3297 - acc: 0.8550 - val_loss: 0.2372 - val_acc: 0.9670\n",
            "Epoch 6/30\n",
            "100/100 [==============================] - 21s 205ms/step - loss: 0.3188 - acc: 0.8530 - val_loss: 0.0165 - val_acc: 0.9690\n",
            "Epoch 7/30\n",
            "100/100 [==============================] - 20s 205ms/step - loss: 0.3157 - acc: 0.8615 - val_loss: 0.0466 - val_acc: 0.9730\n",
            "Epoch 8/30\n",
            "100/100 [==============================] - 21s 206ms/step - loss: 0.3492 - acc: 0.8420 - val_loss: 6.5941e-04 - val_acc: 0.9690\n",
            "Epoch 9/30\n",
            "100/100 [==============================] - 20s 205ms/step - loss: 0.3016 - acc: 0.8700 - val_loss: 0.4289 - val_acc: 0.9600\n",
            "Epoch 10/30\n",
            "100/100 [==============================] - 21s 207ms/step - loss: 0.3325 - acc: 0.8575 - val_loss: 0.0084 - val_acc: 0.9730\n",
            "Epoch 11/30\n",
            "100/100 [==============================] - 21s 205ms/step - loss: 0.3190 - acc: 0.8595 - val_loss: 0.7740 - val_acc: 0.9720\n",
            "Epoch 12/30\n",
            "100/100 [==============================] - 20s 204ms/step - loss: 0.2838 - acc: 0.8705 - val_loss: 1.6548e-05 - val_acc: 0.9650\n",
            "Epoch 13/30\n",
            "100/100 [==============================] - 20s 205ms/step - loss: 0.3119 - acc: 0.8660 - val_loss: 0.0146 - val_acc: 0.9670\n",
            "Epoch 14/30\n",
            "100/100 [==============================] - 20s 205ms/step - loss: 0.2743 - acc: 0.8855 - val_loss: 0.1641 - val_acc: 0.9700\n",
            "Epoch 15/30\n",
            "100/100 [==============================] - 21s 205ms/step - loss: 0.2969 - acc: 0.8740 - val_loss: 2.9626e-06 - val_acc: 0.9690\n",
            "Epoch 16/30\n",
            "100/100 [==============================] - 20s 204ms/step - loss: 0.2847 - acc: 0.8780 - val_loss: 0.0097 - val_acc: 0.9740\n",
            "Epoch 17/30\n",
            "100/100 [==============================] - 21s 205ms/step - loss: 0.3052 - acc: 0.8670 - val_loss: 0.0245 - val_acc: 0.9700\n",
            "Epoch 18/30\n",
            "100/100 [==============================] - 21s 205ms/step - loss: 0.2802 - acc: 0.8795 - val_loss: 3.1432e-06 - val_acc: 0.9750\n",
            "Epoch 19/30\n",
            "100/100 [==============================] - 21s 205ms/step - loss: 0.2934 - acc: 0.8735 - val_loss: 0.9919 - val_acc: 0.9690\n",
            "Epoch 20/30\n",
            "100/100 [==============================] - 20s 205ms/step - loss: 0.2811 - acc: 0.8715 - val_loss: 0.1778 - val_acc: 0.9740\n",
            "Epoch 21/30\n",
            "100/100 [==============================] - 20s 205ms/step - loss: 0.2857 - acc: 0.8805 - val_loss: 0.1196 - val_acc: 0.9700\n",
            "Epoch 22/30\n",
            " 99/100 [============================>.] - ETA: 0s - loss: 0.3041 - acc: 0.8697Epoch 23/30\n",
            "100/100 [==============================] - 20s 202ms/step - loss: 0.2712 - acc: 0.8845 - val_loss: 1.6715e-05 - val_acc: 0.9740\n",
            "Epoch 24/30\n",
            "100/100 [==============================] - 20s 205ms/step - loss: 0.3132 - acc: 0.8695 - val_loss: 2.3271e-04 - val_acc: 0.9720\n",
            "Epoch 25/30\n",
            "100/100 [==============================] - 21s 205ms/step - loss: 0.3111 - acc: 0.8775 - val_loss: 0.1151 - val_acc: 0.9700\n",
            "Epoch 26/30\n",
            "100/100 [==============================] - 21s 206ms/step - loss: 0.2578 - acc: 0.8875 - val_loss: 0.1702 - val_acc: 0.9730\n",
            "Epoch 27/30\n",
            "100/100 [==============================] - 20s 205ms/step - loss: 0.2902 - acc: 0.8820 - val_loss: 1.0100e-07 - val_acc: 0.9690\n",
            "Epoch 28/30\n",
            "100/100 [==============================] - 20s 205ms/step - loss: 0.2830 - acc: 0.8750 - val_loss: 1.0516 - val_acc: 0.9750\n",
            "Epoch 29/30\n",
            "100/100 [==============================] - 21s 206ms/step - loss: 0.2818 - acc: 0.8805 - val_loss: 0.1856 - val_acc: 0.9670\n",
            "Epoch 30/30\n",
            "100/100 [==============================] - 20s 204ms/step - loss: 0.2727 - acc: 0.8820 - val_loss: 0.0105 - val_acc: 0.9770\n"
          ],
          "name": "stdout"
        }
      ]
    },
    {
      "cell_type": "markdown",
      "metadata": {
        "id": "V8So1bS_cThk",
        "colab_type": "text"
      },
      "source": [
        "**Display curves of loss and accuracy during training**"
      ]
    },
    {
      "cell_type": "code",
      "metadata": {
        "id": "tsdCcrQtcVTw",
        "colab_type": "code",
        "colab": {
          "base_uri": "https://localhost:8080/",
          "height": 545
        },
        "outputId": "aff4055e-ab32-47b0-e6fb-3c161ef400d8"
      },
      "source": [
        "%matplotlib inline\n",
        "\n",
        "import matplotlib.pyplot as plt\n",
        "\n",
        "acc = history.history['acc']\n",
        "val_acc = history.history['val_acc']\n",
        "\n",
        "loss = history.history['loss']\n",
        "val_loss = history.history['val_loss']\n",
        "\n",
        "epochs = range(1, len(acc) + 1)\n",
        "\n",
        "# training and validation accuracy\n",
        "\n",
        "plt.plot(epochs, acc, 'bo', label='training acc')\n",
        "plt.plot(epochs, val_acc, 'b', label='validation acc')\n",
        "plt.title('training and validation accuracy')\n",
        "plt.legend()\n",
        "\n",
        "plt.figure()\n",
        "\n",
        "# training and validation loss\n",
        "\n",
        "plt.plot(epochs, loss, 'bo', label='training loss')\n",
        "plt.plot(epochs, val_loss, 'b', label='validation loss')\n",
        "plt.title('training and validation loss')\n",
        "plt.legend()\n",
        "\n",
        "plt.show()"
      ],
      "execution_count": 63,
      "outputs": [
        {
          "output_type": "display_data",
          "data": {
            "image/png": "[encoded data removed]",
            "text/plain": [
              "<Figure size 432x288 with 1 Axes>"
            ]
          },
          "metadata": {
            "tags": [],
            "needs_background": "light"
          }
        },
        {
          "output_type": "display_data",
          "data": {
            "image/png": "[encoded data removed]",
            "text/plain": [
              "<Figure size 432x288 with 1 Axes>"
            ]
          },
          "metadata": {
            "tags": [],
            "needs_background": "light"
          }
        }
      ]
    },
    {
      "cell_type": "markdown",
      "metadata": {
        "id": "0jXZXTIMce3u",
        "colab_type": "text"
      },
      "source": [
        "**Fine-tuning**"
      ]
    },
    {
      "cell_type": "code",
      "metadata": {
        "id": "_Xd-OzEiclbC",
        "colab_type": "code",
        "colab": {}
      },
      "source": [
        "conv_base.trainable = True\n",
        "\n",
        "set_trainable = False\n",
        "for layer in conv_base.layers:\n",
        "  if layer.name == 'block2_speconv2_act':\n",
        "    set_trainable = True\n",
        "  if set_trainable:\n",
        "    layer.trainable = True\n",
        "  else:\n",
        "    layer.trainable = False"
      ],
      "execution_count": 0,
      "outputs": []
    },
    {
      "cell_type": "code",
      "metadata": {
        "id": "cczTuVp4cwmA",
        "colab_type": "code",
        "colab": {
          "base_uri": "https://localhost:8080/",
          "height": 1000
        },
        "outputId": "9bbb9d65-4fbd-4ec5-b7b1-2d81af597319"
      },
      "source": [
        "# compile model\n",
        "\n",
        "model.compile(\n",
        "    loss='binary_crossentropy',\n",
        "    #\n",
        "    # choose a smaller learning rate\n",
        "    #\n",
        "    optimizer=optimizers.RMSprop(lr=1e-5), \n",
        "    metrics=['acc'])\n",
        "\n",
        "# train\n",
        "\n",
        "history = model.fit_generator(\n",
        "    train_generator,\n",
        "    steps_per_epoch=100,\n",
        "    epochs=30,\n",
        "    validation_data=validation_generator,\n",
        "    validation_steps=50)"
      ],
      "execution_count": 65,
      "outputs": [
        {
          "output_type": "stream",
          "text": [
            "Epoch 1/30\n",
            "100/100 [==============================] - 25s 249ms/step - loss: 0.2630 - acc: 0.8895 - val_loss: 0.2796 - val_acc: 0.9400\n",
            "Epoch 2/30\n",
            "100/100 [==============================] - 21s 210ms/step - loss: 0.2543 - acc: 0.8915 - val_loss: 0.0499 - val_acc: 0.9450\n",
            "Epoch 3/30\n",
            "100/100 [==============================] - 21s 208ms/step - loss: 0.2383 - acc: 0.8990 - val_loss: 0.4036 - val_acc: 0.9310\n",
            "Epoch 4/30\n",
            "100/100 [==============================] - 21s 209ms/step - loss: 0.2426 - acc: 0.8915 - val_loss: 0.0521 - val_acc: 0.9360\n",
            "Epoch 5/30\n",
            "100/100 [==============================] - 21s 209ms/step - loss: 0.2567 - acc: 0.8885 - val_loss: 0.2053 - val_acc: 0.9390\n",
            "Epoch 6/30\n",
            "100/100 [==============================] - 21s 209ms/step - loss: 0.2581 - acc: 0.8930 - val_loss: 0.0645 - val_acc: 0.9260\n",
            "Epoch 7/30\n",
            "100/100 [==============================] - 21s 209ms/step - loss: 0.2242 - acc: 0.9140 - val_loss: 0.2937 - val_acc: 0.9370\n",
            "Epoch 8/30\n",
            "100/100 [==============================] - 21s 210ms/step - loss: 0.2583 - acc: 0.8965 - val_loss: 0.3183 - val_acc: 0.9330\n",
            "Epoch 9/30\n",
            "100/100 [==============================] - 21s 209ms/step - loss: 0.2487 - acc: 0.8935 - val_loss: 0.0420 - val_acc: 0.9390\n",
            "Epoch 10/30\n",
            "100/100 [==============================] - 21s 209ms/step - loss: 0.2645 - acc: 0.8890 - val_loss: 0.0699 - val_acc: 0.9350\n",
            "Epoch 11/30\n",
            "100/100 [==============================] - 21s 210ms/step - loss: 0.2466 - acc: 0.8995 - val_loss: 0.2194 - val_acc: 0.9360\n",
            "Epoch 12/30\n",
            "100/100 [==============================] - 21s 208ms/step - loss: 0.2545 - acc: 0.8940 - val_loss: 0.1011 - val_acc: 0.9410\n",
            "Epoch 13/30\n",
            "100/100 [==============================] - 21s 209ms/step - loss: 0.2435 - acc: 0.8920 - val_loss: 0.0226 - val_acc: 0.9360\n",
            "Epoch 14/30\n",
            "100/100 [==============================] - 21s 209ms/step - loss: 0.2423 - acc: 0.9000 - val_loss: 0.0859 - val_acc: 0.9370\n",
            "Epoch 15/30\n",
            "100/100 [==============================] - 21s 209ms/step - loss: 0.2452 - acc: 0.8925 - val_loss: 0.0489 - val_acc: 0.9240\n",
            "Epoch 16/30\n",
            "100/100 [==============================] - 21s 209ms/step - loss: 0.2277 - acc: 0.9055 - val_loss: 0.1821 - val_acc: 0.9350\n",
            "Epoch 17/30\n",
            "100/100 [==============================] - 21s 209ms/step - loss: 0.2583 - acc: 0.8960 - val_loss: 0.8193 - val_acc: 0.9330\n",
            "Epoch 18/30\n",
            "100/100 [==============================] - 21s 208ms/step - loss: 0.2425 - acc: 0.9025 - val_loss: 0.1426 - val_acc: 0.9390\n",
            "Epoch 19/30\n",
            "100/100 [==============================] - 21s 209ms/step - loss: 0.2301 - acc: 0.9000 - val_loss: 0.2098 - val_acc: 0.9350\n",
            "Epoch 20/30\n",
            "100/100 [==============================] - 21s 209ms/step - loss: 0.2302 - acc: 0.9065 - val_loss: 0.1377 - val_acc: 0.9320\n",
            "Epoch 21/30\n",
            "100/100 [==============================] - 21s 208ms/step - loss: 0.2303 - acc: 0.9055 - val_loss: 0.0865 - val_acc: 0.9360\n",
            "Epoch 22/30\n",
            "100/100 [==============================] - 21s 209ms/step - loss: 0.2358 - acc: 0.9070 - val_loss: 0.2495 - val_acc: 0.9300\n",
            "Epoch 23/30\n",
            "100/100 [==============================] - 21s 210ms/step - loss: 0.2332 - acc: 0.8985 - val_loss: 0.1777 - val_acc: 0.9360\n",
            "Epoch 24/30\n",
            "100/100 [==============================] - 21s 209ms/step - loss: 0.2202 - acc: 0.9095 - val_loss: 0.0494 - val_acc: 0.9410\n",
            "Epoch 25/30\n",
            "100/100 [==============================] - 21s 209ms/step - loss: 0.2399 - acc: 0.9040 - val_loss: 0.2096 - val_acc: 0.9390\n",
            "Epoch 26/30\n",
            "100/100 [==============================] - 21s 209ms/step - loss: 0.2377 - acc: 0.9025 - val_loss: 0.1563 - val_acc: 0.9400\n",
            "Epoch 27/30\n",
            "100/100 [==============================] - 21s 209ms/step - loss: 0.2275 - acc: 0.9025 - val_loss: 0.1811 - val_acc: 0.9300\n",
            "Epoch 28/30\n",
            "100/100 [==============================] - 21s 210ms/step - loss: 0.2378 - acc: 0.9105 - val_loss: 0.1079 - val_acc: 0.9340\n",
            "Epoch 29/30\n",
            "100/100 [==============================] - 21s 210ms/step - loss: 0.2171 - acc: 0.9105 - val_loss: 0.2039 - val_acc: 0.9390\n",
            "Epoch 30/30\n",
            "100/100 [==============================] - 21s 209ms/step - loss: 0.2428 - acc: 0.9020 - val_loss: 0.5464 - val_acc: 0.9260\n"
          ],
          "name": "stdout"
        }
      ]
    },
    {
      "cell_type": "markdown",
      "metadata": {
        "id": "TGoow74Dc8B0",
        "colab_type": "text"
      },
      "source": [
        "**Display learning curves during fine-tuning**"
      ]
    },
    {
      "cell_type": "code",
      "metadata": {
        "id": "ChEMp_Msc-eW",
        "colab_type": "code",
        "colab": {
          "base_uri": "https://localhost:8080/",
          "height": 545
        },
        "outputId": "6691d87a-21f1-4a8c-b6a0-52e41c57b692"
      },
      "source": [
        "%matplotlib inline\n",
        "\n",
        "import matplotlib.pyplot as plt\n",
        "\n",
        "acc = history.history['acc']\n",
        "val_acc = history.history['val_acc']\n",
        "\n",
        "loss = history.history['loss']\n",
        "val_loss = history.history['val_loss']\n",
        "\n",
        "epochs = range(1, len(acc) + 1)\n",
        "\n",
        "# training and validation accuracy\n",
        "\n",
        "plt.plot(epochs, acc, 'bo', label='training acc')\n",
        "plt.plot(epochs, val_acc, 'b', label='validation acc')\n",
        "plt.title('training and validation accuracy')\n",
        "plt.legend()\n",
        "\n",
        "plt.figure()\n",
        "\n",
        "# training and validation loss\n",
        "\n",
        "plt.plot(epochs, loss, 'bo', label='training loss')\n",
        "plt.plot(epochs, val_loss, 'b', label='validation loss')\n",
        "plt.title('training and validation loss')\n",
        "plt.legend()\n",
        "\n",
        "plt.show()"
      ],
      "execution_count": 66,
      "outputs": [
        {
          "output_type": "display_data",
          "data": {
            "image/png": "[encoded data removed]",
            "text/plain": [
              "<Figure size 432x288 with 1 Axes>"
            ]
          },
          "metadata": {
            "tags": [],
            "needs_background": "light"
          }
        },
        {
          "output_type": "display_data",
          "data": {
            "image/png": "[encoded data removed]",
            "text/plain": [
              "<Figure size 432x288 with 1 Axes>"
            ]
          },
          "metadata": {
            "tags": [],
            "needs_background": "light"
          }
        }
      ]
    },
    {
      "cell_type": "markdown",
      "metadata": {
        "id": "zggu1zYvdHH7",
        "colab_type": "text"
      },
      "source": [
        "**Print out validation loss and accuracy**"
      ]
    },
    {
      "cell_type": "code",
      "metadata": {
        "id": "GEDES40TdIc7",
        "colab_type": "code",
        "colab": {}
      },
      "source": [
        "val_loss, val_acc = model.evaluate_generator(validation_generator, steps=50)"
      ],
      "execution_count": 0,
      "outputs": []
    },
    {
      "cell_type": "code",
      "metadata": {
        "id": "7zEnc-G3dKt4",
        "colab_type": "code",
        "colab": {
          "base_uri": "https://localhost:8080/",
          "height": 50
        },
        "outputId": "18a01751-3191-4716-acb1-847e5e9e9cdc"
      },
      "source": [
        "print(\"Validation loss:\", val_loss)\n",
        "print(\"Validation accuracy:\", val_acc)"
      ],
      "execution_count": 68,
      "outputs": [
        {
          "output_type": "stream",
          "text": [
            "Validation loss: 0.5464187860488892\n",
            "Validation accuracy: 0.9259999990463257\n"
          ],
          "name": "stdout"
        }
      ]
    },
    {
      "cell_type": "markdown",
      "metadata": {
        "id": "5DxQg9ro_zrs",
        "colab_type": "text"
      },
      "source": [
        "**The accuracy was definetly better in part1 of the problem 3.**"
      ]
    },
    {
      "cell_type": "markdown",
      "metadata": {
        "id": "3sCjymrzdOU1",
        "colab_type": "text"
      },
      "source": [
        "**Save the model**"
      ]
    },
    {
      "cell_type": "code",
      "metadata": {
        "id": "vkzOD4cNdQgX",
        "colab_type": "code",
        "colab": {}
      },
      "source": [
        "model_fname = 'cats_and_dogs_small_4.h5' \n",
        "model.save(model_fname)"
      ],
      "execution_count": 0,
      "outputs": []
    }
  ]
}