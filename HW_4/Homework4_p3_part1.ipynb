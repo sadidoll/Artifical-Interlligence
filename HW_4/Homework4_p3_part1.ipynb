{
  "nbformat": 4,
  "nbformat_minor": 0,
  "metadata": {
    "colab": {
      "name": "Homework4_p3_part1.ipynb",
      "provenance": [],
      "authorship_tag": "ABX9TyP2HbfHhXUvk9X372kG5zZP",
      "include_colab_link": true
    },
    "kernelspec": {
      "name": "python3",
      "display_name": "Python 3"
    },
    "accelerator": "GPU"
  },
  "cells": [
    {
      "cell_type": "markdown",
      "metadata": {
        "id": "view-in-github",
        "colab_type": "text"
      },
      "source": [
        "<a href=\"https://colab.research.google.com/github/sadidoll/Artifical-Interlligence/blob/master/HW_4/Homework4_p3_part1.ipynb\" target=\"_parent\"><img src=\"https://colab.research.google.com/assets/colab-badge.svg\" alt=\"Open In Colab\"/></a>"
      ]
    },
    {
      "cell_type": "markdown",
      "metadata": {
        "id": "ffVIz0Bm-xZN",
        "colab_type": "text"
      },
      "source": [
        "##**Problem 3**\n",
        "You will adapt the notebook using VGG16 conv base for feature extraction, using data augmentation, not using dropout, fine-tuning. You will have to replace the VGG16 conv base by new conv bases. You should not use VGG19.\n",
        "\n",
        "You should create two notebooks. Both should use the same conv base, unfreeze the same number of layers of the conv_base, but use different classifiers."
      ]
    },
    {
      "cell_type": "markdown",
      "metadata": {
        "id": "aehpi0JSFKZm",
        "colab_type": "text"
      },
      "source": [
        "##Fine-tuning Xception\n",
        "\n",
        "This is based on section 5.3 Using a pretrained convnet of the book Deep learning with Python by Francois Chollet. "
      ]
    },
    {
      "cell_type": "markdown",
      "metadata": {
        "id": "XCxyMlseFSxA",
        "colab_type": "text"
      },
      "source": [
        "###Feature extraction\n",
        "Feature extraction consists of using the representations learned by a previous network to extract interesting features from new samples. These features are then run through a new classifier, which is trained from scratch.\n",
        "\n",
        "We will use here the convolutional base of the Xception model to extract the features. We will feed these features to a densely connected classifier with dropout. We will fine-tune some layers"
      ]
    },
    {
      "cell_type": "markdown",
      "metadata": {
        "id": "fvJINNoTFgyj",
        "colab_type": "text"
      },
      "source": [
        "###Download the data\n",
        "Download the example data, a zip. of 2,000 JPG pictures of cats and dogs and extract it locally in /tmp."
      ]
    },
    {
      "cell_type": "code",
      "metadata": {
        "id": "p906gqJfF6Cq",
        "colab_type": "code",
        "colab": {
          "base_uri": "https://localhost:8080/",
          "height": 202
        },
        "outputId": "5f0f9720-ad5b-4775-8572-28c4f8e7e40d"
      },
      "source": [
        "!wget --no-check-certificate \\\n",
        "    https://storage.googleapis.com/mledu-datasets/cats_and_dogs_filtered.zip \\\n",
        "    -O /tmp/cats_and_dogs_filtered.zip"
      ],
      "execution_count": 15,
      "outputs": [
        {
          "output_type": "stream",
          "text": [
            "--2020-04-22 00:12:03--  https://storage.googleapis.com/mledu-datasets/cats_and_dogs_filtered.zip\n",
            "Resolving storage.googleapis.com (storage.googleapis.com)... 172.217.11.176, 2607:f8b0:4007:80e::2010\n",
            "Connecting to storage.googleapis.com (storage.googleapis.com)|172.217.11.176|:443... connected.\n",
            "HTTP request sent, awaiting response... 200 OK\n",
            "Length: 68606236 (65M) [application/zip]\n",
            "Saving to: ‘/tmp/cats_and_dogs_filtered.zip’\n",
            "\n",
            "\r          /tmp/cats   0%[                    ]       0  --.-KB/s               \r         /tmp/cats_  86%[================>   ]  56.71M   284MB/s               \r/tmp/cats_and_dogs_ 100%[===================>]  65.43M   288MB/s    in 0.2s    \n",
            "\n",
            "2020-04-22 00:12:03 (288 MB/s) - ‘/tmp/cats_and_dogs_filtered.zip’ saved [68606236/68606236]\n",
            "\n"
          ],
          "name": "stdout"
        }
      ]
    },
    {
      "cell_type": "code",
      "metadata": {
        "id": "tIyjIdkZF9yE",
        "colab_type": "code",
        "colab": {}
      },
      "source": [
        "import os\n",
        "import zipfile\n",
        "\n",
        "local_zip = '/tmp/cats_and_dogs_filtered.zip'\n",
        "zip_ref = zipfile.ZipFile(local_zip, 'r')\n",
        "zip_ref.extractall('/tmp')\n",
        "zip_ref.close()"
      ],
      "execution_count": 0,
      "outputs": []
    },
    {
      "cell_type": "code",
      "metadata": {
        "id": "8XxSfVN6GBKb",
        "colab_type": "code",
        "colab": {}
      },
      "source": [
        "base_dir = '/tmp/cats_and_dogs_filtered'\n",
        "train_dir = os.path.join(base_dir, 'train')\n",
        "validation_dir = os.path.join(base_dir, 'validation')\n",
        "\n",
        "# Directory with our training cat pictures\n",
        "train_cats_dir = os.path.join(train_dir, 'cats')\n",
        "\n",
        "# Directory with our training dog pictures\n",
        "train_dogs_dir = os.path.join(train_dir, 'dogs')\n",
        "\n",
        "# Directory with our validation cat pictures\n",
        "validation_cats_dir = os.path.join(validation_dir, 'cats')\n",
        "\n",
        "# Directory with our validation dog pictures\n",
        "validation_dogs_dir = os.path.join(validation_dir, 'dogs')"
      ],
      "execution_count": 0,
      "outputs": []
    },
    {
      "cell_type": "markdown",
      "metadata": {
        "id": "39djcsRXGF5q",
        "colab_type": "text"
      },
      "source": [
        "###Build network with Xception convolution base and custom densely connected layers"
      ]
    },
    {
      "cell_type": "markdown",
      "metadata": {
        "id": "FEH_b_rRGKxL",
        "colab_type": "text"
      },
      "source": [
        "###Load the convolutional base"
      ]
    },
    {
      "cell_type": "code",
      "metadata": {
        "id": "iEfQnv8kGOcz",
        "colab_type": "code",
        "colab": {
          "base_uri": "https://localhost:8080/",
          "height": 50
        },
        "outputId": "67a65c4d-7f24-408b-e80e-17329842d1c6"
      },
      "source": [
        "from keras.applications import Xception\n",
        "\n",
        "conv_base = Xception(\n",
        "    weights='imagenet', \n",
        "    include_top=False, \n",
        "    input_shape=(150, 150, 3))"
      ],
      "execution_count": 19,
      "outputs": [
        {
          "output_type": "stream",
          "text": [
            "Downloading data from https://github.com/fchollet/deep-learning-models/releases/download/v0.4/xception_weights_tf_dim_ordering_tf_kernels_notop.h5\n",
            "83689472/83683744 [==============================] - 2s 0us/step\n"
          ],
          "name": "stdout"
        }
      ]
    },
    {
      "cell_type": "markdown",
      "metadata": {
        "id": "xYBjtUdBGSxm",
        "colab_type": "text"
      },
      "source": [
        "###Freeze the convolutional base"
      ]
    },
    {
      "cell_type": "code",
      "metadata": {
        "id": "5_7Yp8R1GVdJ",
        "colab_type": "code",
        "colab": {}
      },
      "source": [
        "conv_base.trainable = False"
      ],
      "execution_count": 0,
      "outputs": []
    },
    {
      "cell_type": "markdown",
      "metadata": {
        "id": "7JCZBC6GGXp2",
        "colab_type": "text"
      },
      "source": [
        "###Concatenate the convolutional base and densely connected layers"
      ]
    },
    {
      "cell_type": "code",
      "metadata": {
        "id": "4uJjXcG_Gb1s",
        "colab_type": "code",
        "colab": {}
      },
      "source": [
        "from keras import layers\n",
        "from keras import models\n",
        "from keras import optimizers\n",
        "\n",
        "model = models.Sequential()\n",
        "model.add(conv_base)\n",
        "model.add(layers.Flatten())\n",
        "model.add(layers.Dense(256, activation='relu'))\n",
        "model.add(layers.Dropout(0.1))\n",
        "model.add(layers.Dense(1, activation='sigmoid'))"
      ],
      "execution_count": 0,
      "outputs": []
    },
    {
      "cell_type": "code",
      "metadata": {
        "id": "1GnYPGm_GgVJ",
        "colab_type": "code",
        "colab": {
          "base_uri": "https://localhost:8080/",
          "height": 319
        },
        "outputId": "1a88ada9-9fb0-4366-ab9d-3ac4adb779d8"
      },
      "source": [
        "model.summary()"
      ],
      "execution_count": 22,
      "outputs": [
        {
          "output_type": "stream",
          "text": [
            "Model: \"sequential_2\"\n",
            "_________________________________________________________________\n",
            "Layer (type)                 Output Shape              Param #   \n",
            "=================================================================\n",
            "xception (Model)             (None, 5, 5, 2048)        20861480  \n",
            "_________________________________________________________________\n",
            "flatten_2 (Flatten)          (None, 51200)             0         \n",
            "_________________________________________________________________\n",
            "dense_3 (Dense)              (None, 256)               13107456  \n",
            "_________________________________________________________________\n",
            "dropout_2 (Dropout)          (None, 256)               0         \n",
            "_________________________________________________________________\n",
            "dense_4 (Dense)              (None, 1)                 257       \n",
            "=================================================================\n",
            "Total params: 33,969,193\n",
            "Trainable params: 13,107,713\n",
            "Non-trainable params: 20,861,480\n",
            "_________________________________________________________________\n"
          ],
          "name": "stdout"
        }
      ]
    },
    {
      "cell_type": "markdown",
      "metadata": {
        "id": "mD2BZnYsGkIx",
        "colab_type": "text"
      },
      "source": [
        "##Train the model end to end with frozen convolutional base"
      ]
    },
    {
      "cell_type": "code",
      "metadata": {
        "id": "_vnCs-nGGmRq",
        "colab_type": "code",
        "colab": {
          "base_uri": "https://localhost:8080/",
          "height": 1000
        },
        "outputId": "75d231d3-72fe-4382-981a-c021965bdd06"
      },
      "source": [
        "from keras.preprocessing.image import ImageDataGenerator\n",
        "from keras import optimizers\n",
        "\n",
        "# data augmentation\n",
        "\n",
        "train_datagen = ImageDataGenerator(\n",
        "    rescale=1./255, \n",
        "    rotation_range=40,\n",
        "    width_shift_range=0.2,\n",
        "    height_shift_range=0.2,\n",
        "    shear_range=0.2,\n",
        "    zoom_range=0.2,\n",
        "    horizontal_flip=True,\n",
        "    fill_mode='nearest'\n",
        ")\n",
        "\n",
        "train_generator = train_datagen.flow_from_directory(\n",
        "    train_dir,\n",
        "    target_size=(150, 150),\n",
        "    batch_size=20,\n",
        "    class_mode='binary')\n",
        "\n",
        "validation_datagen = ImageDataGenerator(rescale=1./255)\n",
        "\n",
        "validation_generator = validation_datagen.flow_from_directory(\n",
        "    validation_dir,\n",
        "    target_size=(150, 150),\n",
        "    batch_size=20,\n",
        "    class_mode='binary')\n",
        "\n",
        "# compile model\n",
        "\n",
        "model.compile(\n",
        "    loss='binary_crossentropy', \n",
        "    optimizer=optimizers.RMSprop(lr=2e-5), \n",
        "    metrics=['acc'])\n",
        "\n",
        "# train\n",
        "\n",
        "history = model.fit_generator(\n",
        "    train_generator,\n",
        "    steps_per_epoch=100,\n",
        "    epochs=30,\n",
        "    validation_data=validation_generator,\n",
        "    validation_steps=50\n",
        ")"
      ],
      "execution_count": 23,
      "outputs": [
        {
          "output_type": "stream",
          "text": [
            "Found 2000 images belonging to 2 classes.\n",
            "Found 1000 images belonging to 2 classes.\n",
            "Epoch 1/30\n",
            "100/100 [==============================] - 24s 241ms/step - loss: 0.4636 - acc: 0.7780 - val_loss: 0.1889 - val_acc: 0.9630\n",
            "Epoch 2/30\n",
            "100/100 [==============================] - 20s 201ms/step - loss: 0.3663 - acc: 0.8290 - val_loss: 0.3165 - val_acc: 0.9530\n",
            "Epoch 3/30\n",
            "100/100 [==============================] - 20s 203ms/step - loss: 0.3730 - acc: 0.8275 - val_loss: 0.1638 - val_acc: 0.9440\n",
            "Epoch 4/30\n",
            "100/100 [==============================] - 20s 202ms/step - loss: 0.3263 - acc: 0.8495 - val_loss: 0.2719 - val_acc: 0.9540\n",
            "Epoch 5/30\n",
            "100/100 [==============================] - 20s 202ms/step - loss: 0.3427 - acc: 0.8420 - val_loss: 0.0441 - val_acc: 0.9640\n",
            "Epoch 6/30\n",
            "100/100 [==============================] - 20s 202ms/step - loss: 0.3390 - acc: 0.8420 - val_loss: 0.0546 - val_acc: 0.9620\n",
            "Epoch 7/30\n",
            "100/100 [==============================] - 20s 202ms/step - loss: 0.3228 - acc: 0.8600 - val_loss: 0.0197 - val_acc: 0.9620\n",
            "Epoch 8/30\n",
            "100/100 [==============================] - 20s 201ms/step - loss: 0.3229 - acc: 0.8580 - val_loss: 8.1363e-04 - val_acc: 0.9680\n",
            "Epoch 9/30\n",
            "100/100 [==============================] - 20s 200ms/step - loss: 0.3275 - acc: 0.8555 - val_loss: 0.2632 - val_acc: 0.9640\n",
            "Epoch 10/30\n",
            "100/100 [==============================] - 20s 201ms/step - loss: 0.2901 - acc: 0.8705 - val_loss: 0.0058 - val_acc: 0.9680\n",
            "Epoch 11/30\n",
            "100/100 [==============================] - 20s 202ms/step - loss: 0.3198 - acc: 0.8625 - val_loss: 2.3028e-04 - val_acc: 0.9660\n",
            "Epoch 12/30\n",
            "100/100 [==============================] - 20s 202ms/step - loss: 0.3298 - acc: 0.8560 - val_loss: 0.0191 - val_acc: 0.9650\n",
            "Epoch 13/30\n",
            "100/100 [==============================] - 20s 203ms/step - loss: 0.2685 - acc: 0.8735 - val_loss: 0.0692 - val_acc: 0.9640\n",
            "Epoch 14/30\n",
            "100/100 [==============================] - 20s 203ms/step - loss: 0.2839 - acc: 0.8735 - val_loss: 1.0955 - val_acc: 0.9630\n",
            "Epoch 15/30\n",
            "100/100 [==============================] - 20s 203ms/step - loss: 0.2801 - acc: 0.8755 - val_loss: 0.4399 - val_acc: 0.9690\n",
            "Epoch 16/30\n",
            "100/100 [==============================] - 20s 202ms/step - loss: 0.3148 - acc: 0.8635 - val_loss: 0.0046 - val_acc: 0.9700\n",
            "Epoch 17/30\n",
            "100/100 [==============================] - 20s 200ms/step - loss: 0.3004 - acc: 0.8725 - val_loss: 0.0102 - val_acc: 0.9690\n",
            "Epoch 18/30\n",
            "100/100 [==============================] - 20s 203ms/step - loss: 0.2951 - acc: 0.8745 - val_loss: 1.7093e-07 - val_acc: 0.9710\n",
            "Epoch 19/30\n",
            "100/100 [==============================] - 20s 202ms/step - loss: 0.2609 - acc: 0.8915 - val_loss: 0.8755 - val_acc: 0.9700\n",
            "Epoch 20/30\n",
            "100/100 [==============================] - 20s 200ms/step - loss: 0.2511 - acc: 0.8920 - val_loss: 1.9167e-06 - val_acc: 0.9690\n",
            "Epoch 21/30\n",
            "100/100 [==============================] - 20s 202ms/step - loss: 0.2640 - acc: 0.8855 - val_loss: 0.1268 - val_acc: 0.9660\n",
            "Epoch 22/30\n",
            "100/100 [==============================] - 20s 202ms/step - loss: 0.2889 - acc: 0.8735 - val_loss: 1.8428e-05 - val_acc: 0.9700\n",
            "Epoch 23/30\n",
            "100/100 [==============================] - 20s 203ms/step - loss: 0.2788 - acc: 0.8775 - val_loss: 6.5306e-05 - val_acc: 0.9740\n",
            "Epoch 24/30\n",
            "100/100 [==============================] - 20s 202ms/step - loss: 0.2495 - acc: 0.8965 - val_loss: 0.7253 - val_acc: 0.9730\n",
            "Epoch 25/30\n",
            "100/100 [==============================] - 20s 202ms/step - loss: 0.2715 - acc: 0.8800 - val_loss: 1.9675e-04 - val_acc: 0.9710\n",
            "Epoch 26/30\n",
            "100/100 [==============================] - 20s 202ms/step - loss: 0.2982 - acc: 0.8765 - val_loss: 2.8489e-05 - val_acc: 0.9680\n",
            "Epoch 27/30\n",
            "100/100 [==============================] - 20s 203ms/step - loss: 0.2689 - acc: 0.8930 - val_loss: 0.0986 - val_acc: 0.9700\n",
            "Epoch 28/30\n",
            "100/100 [==============================] - 20s 201ms/step - loss: 0.2602 - acc: 0.8915 - val_loss: 0.0059 - val_acc: 0.9700\n",
            "Epoch 29/30\n",
            "100/100 [==============================] - 20s 202ms/step - loss: 0.2661 - acc: 0.8890 - val_loss: 0.0087 - val_acc: 0.9710\n",
            "Epoch 30/30\n",
            "100/100 [==============================] - 20s 204ms/step - loss: 0.2857 - acc: 0.8880 - val_loss: 0.2545 - val_acc: 0.9700\n"
          ],
          "name": "stdout"
        }
      ]
    },
    {
      "cell_type": "markdown",
      "metadata": {
        "id": "jyQpU8jrGuaI",
        "colab_type": "text"
      },
      "source": [
        "###Display curves of loss and accuracy during training"
      ]
    },
    {
      "cell_type": "code",
      "metadata": {
        "id": "UU5DEcEhG0Av",
        "colab_type": "code",
        "colab": {
          "base_uri": "https://localhost:8080/",
          "height": 545
        },
        "outputId": "b0365a15-f0bb-40ea-b14e-1f7339820862"
      },
      "source": [
        "%matplotlib inline\n",
        "\n",
        "import matplotlib.pyplot as plt\n",
        "\n",
        "acc = history.history['acc']\n",
        "val_acc = history.history['val_acc']\n",
        "\n",
        "loss = history.history['loss']\n",
        "val_loss = history.history['val_loss']\n",
        "\n",
        "epochs = range(1, len(acc) + 1)\n",
        "\n",
        "# training and validation accuracy\n",
        "\n",
        "plt.plot(epochs, acc, 'bo', label='training acc')\n",
        "plt.plot(epochs, val_acc, 'b', label='validation acc')\n",
        "plt.title('training and validation accuracy')\n",
        "plt.legend()\n",
        "\n",
        "plt.figure()\n",
        "\n",
        "# training and validation loss\n",
        "\n",
        "plt.plot(epochs, loss, 'bo', label='training loss')\n",
        "plt.plot(epochs, val_loss, 'b', label='validation loss')\n",
        "plt.title('training and validation loss')\n",
        "plt.legend()\n",
        "\n",
        "plt.show()"
      ],
      "execution_count": 24,
      "outputs": [
        {
          "output_type": "display_data",
          "data": {
            "image/png": "[encoded data removed]",
            "text/plain": [
              "<Figure size 432x288 with 1 Axes>"
            ]
          },
          "metadata": {
            "tags": [],
            "needs_background": "light"
          }
        },
        {
          "output_type": "display_data",
          "data": {
            "image/png": "[encoded data removed]",
            "text/plain": [
              "<Figure size 432x288 with 1 Axes>"
            ]
          },
          "metadata": {
            "tags": [],
            "needs_background": "light"
          }
        }
      ]
    },
    {
      "cell_type": "markdown",
      "metadata": {
        "id": "eq9bFcyQG30D",
        "colab_type": "text"
      },
      "source": [
        "##Fine-tuning"
      ]
    },
    {
      "cell_type": "code",
      "metadata": {
        "id": "ZcZIosGqG6By",
        "colab_type": "code",
        "colab": {}
      },
      "source": [
        "conv_base.trainable = True\n",
        "\n",
        "set_trainable = False\n",
        "for layer in conv_base.layers:\n",
        "  if layer.name == 'block2_speconv2_act':\n",
        "    set_trainable = True\n",
        "  if set_trainable:\n",
        "    layer.trainable = True\n",
        "  else:\n",
        "    layer.trainable = False"
      ],
      "execution_count": 0,
      "outputs": []
    },
    {
      "cell_type": "code",
      "metadata": {
        "id": "UT4CoBZhG9-M",
        "colab_type": "code",
        "colab": {
          "base_uri": "https://localhost:8080/",
          "height": 1000
        },
        "outputId": "7e1b5894-07a5-4e79-8dbe-c63eec6ccda1"
      },
      "source": [
        "# compile model\n",
        "\n",
        "model.compile(\n",
        "    loss='binary_crossentropy',\n",
        "    #\n",
        "    # choose a smaller learning rate\n",
        "    #\n",
        "    optimizer=optimizers.RMSprop(lr=1e-5), \n",
        "    metrics=['acc'])\n",
        "\n",
        "# train\n",
        "\n",
        "history = model.fit_generator(\n",
        "    train_generator,\n",
        "    steps_per_epoch=100,\n",
        "    epochs=100,\n",
        "    validation_data=validation_generator,\n",
        "    validation_steps=50)"
      ],
      "execution_count": 26,
      "outputs": [
        {
          "output_type": "stream",
          "text": [
            "Epoch 1/100\n",
            "100/100 [==============================] - 24s 239ms/step - loss: 0.2646 - acc: 0.8900 - val_loss: 0.1738 - val_acc: 0.9480\n",
            "Epoch 2/100\n",
            "100/100 [==============================] - 20s 201ms/step - loss: 0.2621 - acc: 0.8840 - val_loss: 0.1271 - val_acc: 0.9290\n",
            "Epoch 3/100\n",
            "100/100 [==============================] - 20s 203ms/step - loss: 0.2774 - acc: 0.8895 - val_loss: 0.3195 - val_acc: 0.9410\n",
            "Epoch 4/100\n",
            "100/100 [==============================] - 20s 200ms/step - loss: 0.2573 - acc: 0.8970 - val_loss: 0.2712 - val_acc: 0.9400\n",
            "Epoch 5/100\n",
            "100/100 [==============================] - 20s 202ms/step - loss: 0.2413 - acc: 0.9065 - val_loss: 0.2637 - val_acc: 0.9300\n",
            "Epoch 6/100\n",
            "100/100 [==============================] - 20s 202ms/step - loss: 0.2665 - acc: 0.8890 - val_loss: 0.1088 - val_acc: 0.9280\n",
            "Epoch 7/100\n",
            "100/100 [==============================] - 20s 202ms/step - loss: 0.2649 - acc: 0.8885 - val_loss: 0.0118 - val_acc: 0.9370\n",
            "Epoch 8/100\n",
            "100/100 [==============================] - 20s 202ms/step - loss: 0.2607 - acc: 0.8925 - val_loss: 0.0757 - val_acc: 0.9290\n",
            "Epoch 9/100\n",
            "100/100 [==============================] - 20s 201ms/step - loss: 0.2356 - acc: 0.8950 - val_loss: 0.2988 - val_acc: 0.9370\n",
            "Epoch 10/100\n",
            "100/100 [==============================] - 20s 199ms/step - loss: 0.2519 - acc: 0.8990 - val_loss: 0.0827 - val_acc: 0.9380\n",
            "Epoch 11/100\n",
            "100/100 [==============================] - 20s 202ms/step - loss: 0.2434 - acc: 0.9005 - val_loss: 0.3460 - val_acc: 0.9300\n",
            "Epoch 12/100\n",
            "100/100 [==============================] - 20s 201ms/step - loss: 0.2525 - acc: 0.8945 - val_loss: 0.1450 - val_acc: 0.9220\n",
            "Epoch 13/100\n",
            "100/100 [==============================] - 20s 199ms/step - loss: 0.2235 - acc: 0.9095 - val_loss: 0.2267 - val_acc: 0.9210\n",
            "Epoch 14/100\n",
            "100/100 [==============================] - 20s 200ms/step - loss: 0.2203 - acc: 0.9125 - val_loss: 0.2737 - val_acc: 0.9380\n",
            "Epoch 15/100\n",
            "100/100 [==============================] - 20s 202ms/step - loss: 0.2274 - acc: 0.9030 - val_loss: 0.2693 - val_acc: 0.9370\n",
            "Epoch 16/100\n",
            "100/100 [==============================] - 20s 200ms/step - loss: 0.2467 - acc: 0.9100 - val_loss: 0.0124 - val_acc: 0.9350\n",
            "Epoch 17/100\n",
            "100/100 [==============================] - 20s 202ms/step - loss: 0.2539 - acc: 0.8950 - val_loss: 0.0818 - val_acc: 0.9350\n",
            "Epoch 18/100\n",
            "100/100 [==============================] - 20s 202ms/step - loss: 0.2267 - acc: 0.9050 - val_loss: 0.1049 - val_acc: 0.9380\n",
            "Epoch 19/100\n",
            "100/100 [==============================] - 20s 204ms/step - loss: 0.2444 - acc: 0.8950 - val_loss: 0.3998 - val_acc: 0.9370\n",
            "Epoch 20/100\n",
            "100/100 [==============================] - 20s 201ms/step - loss: 0.2468 - acc: 0.9010 - val_loss: 0.0948 - val_acc: 0.9370\n",
            "Epoch 21/100\n",
            "100/100 [==============================] - 20s 201ms/step - loss: 0.2454 - acc: 0.8995 - val_loss: 0.0758 - val_acc: 0.9320\n",
            "Epoch 22/100\n",
            "100/100 [==============================] - 20s 201ms/step - loss: 0.2240 - acc: 0.9085 - val_loss: 0.0459 - val_acc: 0.9210\n",
            "Epoch 23/100\n",
            "100/100 [==============================] - 20s 204ms/step - loss: 0.2562 - acc: 0.8985 - val_loss: 0.1046 - val_acc: 0.9370\n",
            "Epoch 24/100\n",
            "100/100 [==============================] - 20s 202ms/step - loss: 0.2205 - acc: 0.9025 - val_loss: 0.2445 - val_acc: 0.9320\n",
            "Epoch 25/100\n",
            "100/100 [==============================] - 20s 201ms/step - loss: 0.2411 - acc: 0.9050 - val_loss: 0.1447 - val_acc: 0.9330\n",
            "Epoch 26/100\n",
            "100/100 [==============================] - 20s 202ms/step - loss: 0.2434 - acc: 0.9020 - val_loss: 0.1055 - val_acc: 0.9270\n",
            "Epoch 27/100\n",
            "100/100 [==============================] - 20s 202ms/step - loss: 0.2235 - acc: 0.9075 - val_loss: 0.2051 - val_acc: 0.9380\n",
            "Epoch 28/100\n",
            "100/100 [==============================] - 20s 200ms/step - loss: 0.2291 - acc: 0.9090 - val_loss: 0.1010 - val_acc: 0.9340\n",
            "Epoch 29/100\n",
            "100/100 [==============================] - 20s 201ms/step - loss: 0.2251 - acc: 0.9075 - val_loss: 0.0940 - val_acc: 0.9400\n",
            "Epoch 30/100\n",
            "100/100 [==============================] - 20s 202ms/step - loss: 0.2350 - acc: 0.9045 - val_loss: 0.2935 - val_acc: 0.9140\n",
            "Epoch 31/100\n",
            "100/100 [==============================] - 20s 203ms/step - loss: 0.2412 - acc: 0.9090 - val_loss: 0.0814 - val_acc: 0.9250\n",
            "Epoch 32/100\n",
            "100/100 [==============================] - 20s 203ms/step - loss: 0.2332 - acc: 0.9140 - val_loss: 0.0827 - val_acc: 0.9410\n",
            "Epoch 33/100\n",
            "100/100 [==============================] - 20s 201ms/step - loss: 0.2159 - acc: 0.9140 - val_loss: 0.3336 - val_acc: 0.9110\n",
            "Epoch 34/100\n",
            "100/100 [==============================] - 20s 200ms/step - loss: 0.2269 - acc: 0.9080 - val_loss: 0.1184 - val_acc: 0.9370\n",
            "Epoch 35/100\n",
            "100/100 [==============================] - 20s 200ms/step - loss: 0.2285 - acc: 0.9025 - val_loss: 0.1548 - val_acc: 0.9360\n",
            "Epoch 36/100\n",
            "100/100 [==============================] - 20s 202ms/step - loss: 0.2201 - acc: 0.9155 - val_loss: 0.3850 - val_acc: 0.9320\n",
            "Epoch 37/100\n",
            "100/100 [==============================] - 20s 199ms/step - loss: 0.2251 - acc: 0.9035 - val_loss: 0.0603 - val_acc: 0.9270\n",
            "Epoch 38/100\n",
            "100/100 [==============================] - 20s 199ms/step - loss: 0.2320 - acc: 0.9080 - val_loss: 0.2250 - val_acc: 0.9260\n",
            "Epoch 39/100\n",
            "100/100 [==============================] - 20s 200ms/step - loss: 0.2387 - acc: 0.8965 - val_loss: 0.1699 - val_acc: 0.9320\n",
            "Epoch 40/100\n",
            "100/100 [==============================] - 20s 199ms/step - loss: 0.2311 - acc: 0.9110 - val_loss: 0.0295 - val_acc: 0.9340\n",
            "Epoch 41/100\n",
            "100/100 [==============================] - 20s 199ms/step - loss: 0.2160 - acc: 0.9085 - val_loss: 0.3551 - val_acc: 0.9340\n",
            "Epoch 42/100\n",
            "100/100 [==============================] - 20s 200ms/step - loss: 0.2254 - acc: 0.9035 - val_loss: 0.0938 - val_acc: 0.9210\n",
            "Epoch 43/100\n",
            "100/100 [==============================] - 20s 200ms/step - loss: 0.2373 - acc: 0.9035 - val_loss: 1.1926 - val_acc: 0.9360\n",
            "Epoch 44/100\n",
            "100/100 [==============================] - 20s 198ms/step - loss: 0.2200 - acc: 0.9080 - val_loss: 0.5357 - val_acc: 0.9180\n",
            "Epoch 45/100\n",
            "100/100 [==============================] - 20s 200ms/step - loss: 0.2184 - acc: 0.9010 - val_loss: 0.3787 - val_acc: 0.9350\n",
            "Epoch 46/100\n",
            "100/100 [==============================] - 20s 199ms/step - loss: 0.2222 - acc: 0.9110 - val_loss: 0.0375 - val_acc: 0.9250\n",
            "Epoch 47/100\n",
            "100/100 [==============================] - 20s 201ms/step - loss: 0.2217 - acc: 0.9080 - val_loss: 0.1043 - val_acc: 0.9330\n",
            "Epoch 48/100\n",
            "100/100 [==============================] - 20s 200ms/step - loss: 0.2454 - acc: 0.9070 - val_loss: 0.0469 - val_acc: 0.9290\n",
            "Epoch 49/100\n",
            "100/100 [==============================] - 20s 199ms/step - loss: 0.2351 - acc: 0.9035 - val_loss: 0.0703 - val_acc: 0.9260\n",
            "Epoch 50/100\n",
            "100/100 [==============================] - 20s 200ms/step - loss: 0.2267 - acc: 0.9100 - val_loss: 0.3377 - val_acc: 0.9350\n",
            "Epoch 51/100\n",
            "100/100 [==============================] - 20s 201ms/step - loss: 0.2081 - acc: 0.9100 - val_loss: 0.0655 - val_acc: 0.9280\n",
            "Epoch 52/100\n",
            "100/100 [==============================] - 20s 200ms/step - loss: 0.2279 - acc: 0.9055 - val_loss: 0.0312 - val_acc: 0.9190\n",
            "Epoch 53/100\n",
            "100/100 [==============================] - 20s 199ms/step - loss: 0.1993 - acc: 0.9145 - val_loss: 0.0476 - val_acc: 0.9200\n",
            "Epoch 54/100\n",
            "100/100 [==============================] - 20s 201ms/step - loss: 0.2245 - acc: 0.9065 - val_loss: 0.1388 - val_acc: 0.9310\n",
            "Epoch 55/100\n",
            "100/100 [==============================] - 20s 201ms/step - loss: 0.2163 - acc: 0.9185 - val_loss: 0.0918 - val_acc: 0.9140\n",
            "Epoch 56/100\n",
            "100/100 [==============================] - 20s 201ms/step - loss: 0.2122 - acc: 0.9180 - val_loss: 0.1414 - val_acc: 0.9350\n",
            "Epoch 57/100\n",
            "100/100 [==============================] - 20s 201ms/step - loss: 0.2062 - acc: 0.9110 - val_loss: 0.2088 - val_acc: 0.9420\n",
            "Epoch 58/100\n",
            "100/100 [==============================] - 20s 200ms/step - loss: 0.2162 - acc: 0.9125 - val_loss: 0.0968 - val_acc: 0.9420\n",
            "Epoch 59/100\n",
            "100/100 [==============================] - 20s 202ms/step - loss: 0.2002 - acc: 0.9215 - val_loss: 0.0613 - val_acc: 0.9280\n",
            "Epoch 60/100\n",
            "100/100 [==============================] - 20s 202ms/step - loss: 0.2077 - acc: 0.9110 - val_loss: 0.1691 - val_acc: 0.9430\n",
            "Epoch 61/100\n",
            "100/100 [==============================] - 20s 203ms/step - loss: 0.2279 - acc: 0.9070 - val_loss: 0.0229 - val_acc: 0.9200\n",
            "Epoch 62/100\n",
            "100/100 [==============================] - 21s 213ms/step - loss: 0.2030 - acc: 0.9165 - val_loss: 0.0308 - val_acc: 0.9380\n",
            "Epoch 63/100\n",
            "100/100 [==============================] - 22s 218ms/step - loss: 0.2088 - acc: 0.9135 - val_loss: 0.1329 - val_acc: 0.9270\n",
            "Epoch 64/100\n",
            "100/100 [==============================] - 22s 215ms/step - loss: 0.2107 - acc: 0.9175 - val_loss: 0.3724 - val_acc: 0.9390\n",
            "Epoch 65/100\n",
            "100/100 [==============================] - 21s 213ms/step - loss: 0.2069 - acc: 0.9235 - val_loss: 0.3653 - val_acc: 0.9380\n",
            "Epoch 66/100\n",
            "100/100 [==============================] - 21s 214ms/step - loss: 0.2012 - acc: 0.9180 - val_loss: 0.1775 - val_acc: 0.9250\n",
            "Epoch 67/100\n",
            "100/100 [==============================] - 22s 216ms/step - loss: 0.2217 - acc: 0.9090 - val_loss: 0.2310 - val_acc: 0.9370\n",
            "Epoch 68/100\n",
            "100/100 [==============================] - 22s 216ms/step - loss: 0.2158 - acc: 0.9205 - val_loss: 0.0174 - val_acc: 0.9360\n",
            "Epoch 69/100\n",
            "100/100 [==============================] - 21s 212ms/step - loss: 0.2168 - acc: 0.9110 - val_loss: 0.1063 - val_acc: 0.9200\n",
            "Epoch 70/100\n",
            "100/100 [==============================] - 21s 208ms/step - loss: 0.2063 - acc: 0.9140 - val_loss: 0.0967 - val_acc: 0.9360\n",
            "Epoch 71/100\n",
            "100/100 [==============================] - 20s 203ms/step - loss: 0.2005 - acc: 0.9230 - val_loss: 0.1876 - val_acc: 0.9330\n",
            "Epoch 72/100\n",
            "100/100 [==============================] - 20s 200ms/step - loss: 0.2118 - acc: 0.9160 - val_loss: 0.4292 - val_acc: 0.9280\n",
            "Epoch 73/100\n",
            "100/100 [==============================] - 21s 207ms/step - loss: 0.2177 - acc: 0.9195 - val_loss: 0.1203 - val_acc: 0.9370\n",
            "Epoch 74/100\n",
            "100/100 [==============================] - 21s 209ms/step - loss: 0.2031 - acc: 0.9105 - val_loss: 0.1445 - val_acc: 0.9170\n",
            "Epoch 75/100\n",
            "100/100 [==============================] - 21s 206ms/step - loss: 0.2313 - acc: 0.9150 - val_loss: 0.0490 - val_acc: 0.9410\n",
            "Epoch 76/100\n",
            "100/100 [==============================] - 20s 201ms/step - loss: 0.2050 - acc: 0.9120 - val_loss: 0.1849 - val_acc: 0.9180\n",
            "Epoch 77/100\n",
            "100/100 [==============================] - 20s 203ms/step - loss: 0.2089 - acc: 0.9215 - val_loss: 0.2835 - val_acc: 0.9240\n",
            "Epoch 78/100\n",
            "100/100 [==============================] - 20s 203ms/step - loss: 0.2278 - acc: 0.9105 - val_loss: 0.1164 - val_acc: 0.9150\n",
            "Epoch 79/100\n",
            "100/100 [==============================] - 20s 202ms/step - loss: 0.2130 - acc: 0.9125 - val_loss: 0.6156 - val_acc: 0.9130\n",
            "Epoch 80/100\n",
            "100/100 [==============================] - 20s 203ms/step - loss: 0.2163 - acc: 0.9210 - val_loss: 0.4602 - val_acc: 0.9160\n",
            "Epoch 81/100\n",
            "100/100 [==============================] - 20s 202ms/step - loss: 0.2101 - acc: 0.9195 - val_loss: 0.0452 - val_acc: 0.9280\n",
            "Epoch 82/100\n",
            "100/100 [==============================] - 21s 205ms/step - loss: 0.1827 - acc: 0.9285 - val_loss: 0.3344 - val_acc: 0.9300\n",
            "Epoch 83/100\n",
            "100/100 [==============================] - 20s 203ms/step - loss: 0.1975 - acc: 0.9150 - val_loss: 0.3294 - val_acc: 0.9330\n",
            "Epoch 84/100\n",
            "100/100 [==============================] - 20s 203ms/step - loss: 0.2148 - acc: 0.9090 - val_loss: 0.2606 - val_acc: 0.9360\n",
            "Epoch 85/100\n",
            "100/100 [==============================] - 20s 203ms/step - loss: 0.2132 - acc: 0.9165 - val_loss: 0.0384 - val_acc: 0.9320\n",
            "Epoch 86/100\n",
            "100/100 [==============================] - 20s 203ms/step - loss: 0.2180 - acc: 0.9105 - val_loss: 0.2454 - val_acc: 0.9280\n",
            "Epoch 87/100\n",
            "100/100 [==============================] - 20s 202ms/step - loss: 0.2046 - acc: 0.9200 - val_loss: 0.0315 - val_acc: 0.9360\n",
            "Epoch 88/100\n",
            "100/100 [==============================] - 20s 202ms/step - loss: 0.1987 - acc: 0.9230 - val_loss: 0.0569 - val_acc: 0.9310\n",
            "Epoch 89/100\n",
            "100/100 [==============================] - 20s 203ms/step - loss: 0.2012 - acc: 0.9290 - val_loss: 0.2162 - val_acc: 0.9330\n",
            "Epoch 90/100\n",
            "100/100 [==============================] - 20s 203ms/step - loss: 0.1941 - acc: 0.9240 - val_loss: 0.0273 - val_acc: 0.9340\n",
            "Epoch 91/100\n",
            "100/100 [==============================] - 20s 202ms/step - loss: 0.2094 - acc: 0.9145 - val_loss: 0.1564 - val_acc: 0.9350\n",
            "Epoch 92/100\n",
            "100/100 [==============================] - 20s 202ms/step - loss: 0.2125 - acc: 0.9250 - val_loss: 0.2026 - val_acc: 0.9380\n",
            "Epoch 93/100\n",
            "100/100 [==============================] - 20s 203ms/step - loss: 0.1933 - acc: 0.9230 - val_loss: 0.0184 - val_acc: 0.9330\n",
            "Epoch 94/100\n",
            "100/100 [==============================] - 20s 203ms/step - loss: 0.2035 - acc: 0.9160 - val_loss: 0.3396 - val_acc: 0.9230\n",
            "Epoch 95/100\n",
            "100/100 [==============================] - 20s 203ms/step - loss: 0.1904 - acc: 0.9215 - val_loss: 0.0612 - val_acc: 0.9220\n",
            "Epoch 96/100\n",
            "100/100 [==============================] - 20s 201ms/step - loss: 0.1824 - acc: 0.9305 - val_loss: 0.3391 - val_acc: 0.9250\n",
            "Epoch 97/100\n",
            "100/100 [==============================] - 20s 205ms/step - loss: 0.1896 - acc: 0.9195 - val_loss: 0.0632 - val_acc: 0.9250\n",
            "Epoch 98/100\n",
            "100/100 [==============================] - 20s 204ms/step - loss: 0.1976 - acc: 0.9220 - val_loss: 0.3192 - val_acc: 0.9280\n",
            "Epoch 99/100\n",
            "100/100 [==============================] - 20s 202ms/step - loss: 0.2073 - acc: 0.9200 - val_loss: 0.0616 - val_acc: 0.9330\n",
            "Epoch 100/100\n",
            "100/100 [==============================] - 20s 201ms/step - loss: 0.2006 - acc: 0.9265 - val_loss: 0.3726 - val_acc: 0.9220\n"
          ],
          "name": "stdout"
        }
      ]
    },
    {
      "cell_type": "markdown",
      "metadata": {
        "id": "4ERVa7fJHEBt",
        "colab_type": "text"
      },
      "source": [
        "##Display learning curves during fine-tuning"
      ]
    },
    {
      "cell_type": "code",
      "metadata": {
        "id": "qMhVdiqMHGVa",
        "colab_type": "code",
        "colab": {
          "base_uri": "https://localhost:8080/",
          "height": 545
        },
        "outputId": "86edeb48-7a18-46cd-a6cf-a480fd113828"
      },
      "source": [
        "%matplotlib inline\n",
        "\n",
        "import matplotlib.pyplot as plt\n",
        "\n",
        "acc = history.history['acc']\n",
        "val_acc = history.history['val_acc']\n",
        "\n",
        "loss = history.history['loss']\n",
        "val_loss = history.history['val_loss']\n",
        "\n",
        "epochs = range(1, len(acc) + 1)\n",
        "\n",
        "# training and validation accuracy\n",
        "\n",
        "plt.plot(epochs, acc, 'bo', label='training acc')\n",
        "plt.plot(epochs, val_acc, 'b', label='validation acc')\n",
        "plt.title('training and validation accuracy')\n",
        "plt.legend()\n",
        "\n",
        "plt.figure()\n",
        "\n",
        "# training and validation loss\n",
        "\n",
        "plt.plot(epochs, loss, 'bo', label='training loss')\n",
        "plt.plot(epochs, val_loss, 'b', label='validation loss')\n",
        "plt.title('training and validation loss')\n",
        "plt.legend()\n",
        "\n",
        "plt.show()"
      ],
      "execution_count": 27,
      "outputs": [
        {
          "output_type": "display_data",
          "data": {
            "image/png": "[encoded data removed]",
            "text/plain": [
              "<Figure size 432x288 with 1 Axes>"
            ]
          },
          "metadata": {
            "tags": [],
            "needs_background": "light"
          }
        },
        {
          "output_type": "display_data",
          "data": {
            "image/png": "[encoded data removed]",
            "text/plain": [
              "<Figure size 432x288 with 1 Axes>"
            ]
          },
          "metadata": {
            "tags": [],
            "needs_background": "light"
          }
        }
      ]
    },
    {
      "cell_type": "markdown",
      "metadata": {
        "id": "ObY7gGTQHR9J",
        "colab_type": "text"
      },
      "source": [
        "##Print out validation loss and accuracy"
      ]
    },
    {
      "cell_type": "code",
      "metadata": {
        "id": "CtIo17uJHUjF",
        "colab_type": "code",
        "colab": {}
      },
      "source": [
        "val_loss, val_acc = model.evaluate_generator(validation_generator, steps=50)"
      ],
      "execution_count": 0,
      "outputs": []
    },
    {
      "cell_type": "code",
      "metadata": {
        "id": "DtBmB0UyZ2w6",
        "colab_type": "code",
        "colab": {
          "base_uri": "https://localhost:8080/",
          "height": 50
        },
        "outputId": "401f32c6-2c67-4701-c798-27df3367f7a5"
      },
      "source": [
        "print(\"Validation loss:\", val_loss)\n",
        "print(\"Validation accuracy:\", val_acc)"
      ],
      "execution_count": 31,
      "outputs": [
        {
          "output_type": "stream",
          "text": [
            "Validation loss: 0.08211319148540497\n",
            "Validation accuracy: 0.921999990940094\n"
          ],
          "name": "stdout"
        }
      ]
    },
    {
      "cell_type": "markdown",
      "metadata": {
        "id": "JV5wOBpEHZhC",
        "colab_type": "text"
      },
      "source": [
        "##Save the model"
      ]
    },
    {
      "cell_type": "code",
      "metadata": {
        "id": "6dwdAGMXHcoT",
        "colab_type": "code",
        "colab": {}
      },
      "source": [
        "model_fname = 'cats_and_dogs_small_4.h5' \n",
        "model.save(model_fname)"
      ],
      "execution_count": 0,
      "outputs": []
    }
  ]
}