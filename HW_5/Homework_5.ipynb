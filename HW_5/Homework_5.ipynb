{
  "nbformat": 4,
  "nbformat_minor": 0,
  "metadata": {
    "colab": {
      "name": "Homework_5.ipynb",
      "provenance": [],
      "authorship_tag": "ABX9TyPwnaKa8LfCLTnK20Km+Q+F",
      "include_colab_link": true
    },
    "kernelspec": {
      "name": "python3",
      "display_name": "Python 3"
    },
    "accelerator": "GPU"
  },
  "cells": [
    {
      "cell_type": "markdown",
      "metadata": {
        "id": "view-in-github",
        "colab_type": "text"
      },
      "source": [
        "<a href=\"https://colab.research.google.com/github/sadidoll/Artifical-Interlligence/blob/master/HW_5/Homework_5.ipynb\" target=\"_parent\"><img src=\"https://colab.research.google.com/assets/colab-badge.svg\" alt=\"Open In Colab\"/></a>"
      ]
    },
    {
      "cell_type": "markdown",
      "metadata": {
        "id": "DrLCBDfjA-yq",
        "colab_type": "text"
      },
      "source": [
        "#**Homework 5**"
      ]
    },
    {
      "cell_type": "markdown",
      "metadata": {
        "id": "s_0jeeWUBIi5",
        "colab_type": "text"
      },
      "source": [
        "Summarize and describe the different concepts/methods/algorithms that you have learned in this course."
      ]
    },
    {
      "cell_type": "markdown",
      "metadata": {
        "id": "3txacQwIItVg",
        "colab_type": "text"
      },
      "source": [
        "##**General Concepts**"
      ]
    },
    {
      "cell_type": "markdown",
      "metadata": {
        "id": "x_oNqHdaI-Fn",
        "colab_type": "text"
      },
      "source": [
        "###**Artificial Intelligence**\n",
        "Artifical intelligence seeks to stimulate or replicate human intelligence in machines. In simple words, AI is a branch of computer science that is focused on developing smart machines that are capable of performing tasks that require human intelligence. Some examples of Artificial Intelligence include Smart assistance such as Siri and Alexa, autonomous self driving vehicles, weather prediciton and many more. These examples depend highly on nature language processing and deep learning. Computers are trained to achieve certain tasks by processing huge amounts of data and recognizing patterns in the data. \n",
        "\n",
        "AI is very helpful in today's era. Soon in future, with the help of AI we will have the opportunity to see and utilize exciting application created using AI technology."
      ]
    },
    {
      "cell_type": "markdown",
      "metadata": {
        "id": "rezRng6aReS7",
        "colab_type": "text"
      },
      "source": [
        "###**Machine Learning**\n",
        "Machine learning is a subset or an application of artificial intelligence which provides the computer system with the ability to learn and improve automatically from experience without actually being programmed explicitly. It does not require human intervation to make certain changes. Moreover, it can also modify itself when more data is exposed to it and can come up with predictions by itself. The learning process begins by observing data to look for certain patterns in the data and come up with better decisions or predictions in the future based ont he example the user provides. Lots of data have to be provided to make machine learning possible.\n",
        "There are two main categories of machine learning.\n",
        "\n",
        "\n",
        "###**1.**   **Supervised Learning**\n",
        "Supervised learning is a type of machine learning where we train the machine using some data that are well labeled which means that some data is already tagged with the correct answer. The machine is provided with a new set of data so that the supervised learning algorithm can analyze the training data and predict or produce a correct output from the labeled data. The machine learns the things from training data and then applies the knowledge to the test data. Supervised learning is widely used in applications where future events are predicted by historical data.\n",
        "###**2.   Unsupervised Learning**\n",
        "Unsupervised learing is a type of machine learning where the machine learns from an unlabeled data set. The algorithm acts on the data without any guidance. The main task of machine is to identify some sort of patterns in the unlabeled data."
      ]
    },
    {
      "cell_type": "markdown",
      "metadata": {
        "id": "zeXhjINPIBcD",
        "colab_type": "text"
      },
      "source": [
        "###**Deep Learning**\n",
        "Deep Learning is a subfield of machine learning that is focused with algorithms based on the structure and function of the brain known as aritificial neural networks. It is a technique that teaches the computer systems to act like humans. Deep learning models are trained by utilizing huge sets of labeled dayta and neural network structures that learn features directly from the data. "
      ]
    },
    {
      "cell_type": "markdown",
      "metadata": {
        "id": "9djboTQZKpnl",
        "colab_type": "text"
      },
      "source": [
        "##**Basic Concepts**"
      ]
    },
    {
      "cell_type": "markdown",
      "metadata": {
        "id": "oAijjxPVK3wQ",
        "colab_type": "text"
      },
      "source": [
        "###**Linear Regression**\n",
        "Linear regression is a model that has a linear relationship between the input and output. One variable is considered to be a dependent variable and the other is considered to be an explanatory variable. The output of linear regression is a linear function of the input.\n",
        "A linear regression line has a simple equation of the form\n",
        "            ${y = m\\times x + b}$ \n",
        "\n",
        "where ${x}$ is the explanatory variable and ${y}$ is the dependent variable. ${b}$ is the intercept and ${m}$ is the slope of the line.\n"
      ]
    },
    {
      "cell_type": "code",
      "metadata": {
        "id": "i9FIgTwhSTRt",
        "colab_type": "code",
        "colab": {
          "base_uri": "https://localhost:8080/",
          "height": 279
        },
        "outputId": "bcbe40c5-22a2-4ee0-f661-4a51144b5718"
      },
      "source": [
        "# imports\n",
        "\n",
        "import numpy as np\n",
        "import matplotlib.pyplot as plt\n",
        "import tensorflow as tf\n",
        "import tensorflow.keras as keras\n",
        "from sklearn.model_selection import train_test_split\n",
        "\n",
        "# generate random data-set\n",
        "np.random.seed(0)\n",
        "x = 2 * np.random.rand(100, 1)\n",
        "y = 2 + 2 * x + np.random.rand(100, 1)\n",
        "\n",
        "x_train, x_test, y_train, y_test = train_test_split(x, y, test_size=0.2, shuffle=True)\n",
        "# plot\n",
        "plt.scatter(x,y,color='blue', alpha = 0.5)\n",
        "plt.xlabel('x')\n",
        "plt.ylabel('y')\n",
        "plt.show()"
      ],
      "execution_count": 32,
      "outputs": [
        {
          "output_type": "display_data",
          "data": {
            "image/png": "[encoded data removed]",
            "text/plain": [
              "<Figure size 432x288 with 1 Axes>"
            ]
          },
          "metadata": {
            "tags": [],
            "needs_background": "light"
          }
        }
      ]
    },
    {
      "cell_type": "code",
      "metadata": {
        "id": "9XUgI_oSVRa-",
        "colab_type": "code",
        "colab": {
          "base_uri": "https://localhost:8080/",
          "height": 1000
        },
        "outputId": "8977ee46-abd9-4b13-aa3c-52c12cb6012e"
      },
      "source": [
        "model = keras.Sequential()\n",
        "\n",
        "model.add(keras.layers.Dense(1, input_shape=(1,), activation='linear'))\n",
        "optimizer = tf.keras.optimizers.Adam(learning_rate=0.5)\n",
        "model.compile(optimizer='sgd', loss='mse', metrics=['mse'])\n",
        "history = model.fit(x_train, y_train, epochs=50)"
      ],
      "execution_count": 33,
      "outputs": [
        {
          "output_type": "stream",
          "text": [
            "Epoch 1/50\n",
            "3/3 [==============================] - 0s 2ms/step - loss: 10.8116 - mse: 10.9003\n",
            "Epoch 2/50\n",
            "3/3 [==============================] - 0s 2ms/step - loss: 8.4472 - mse: 8.5110\n",
            "Epoch 3/50\n",
            "3/3 [==============================] - 0s 1ms/step - loss: 6.5635 - mse: 6.6775\n",
            "Epoch 4/50\n",
            "3/3 [==============================] - 0s 1ms/step - loss: 5.2389 - mse: 5.2662\n",
            "Epoch 5/50\n",
            "3/3 [==============================] - 0s 2ms/step - loss: 4.0690 - mse: 4.1549\n",
            "Epoch 6/50\n",
            "3/3 [==============================] - 0s 2ms/step - loss: 3.2714 - mse: 3.3089\n",
            "Epoch 7/50\n",
            "3/3 [==============================] - 0s 1ms/step - loss: 2.6868 - mse: 2.6533\n",
            "Epoch 8/50\n",
            "3/3 [==============================] - 0s 2ms/step - loss: 2.1233 - mse: 2.1362\n",
            "Epoch 9/50\n",
            "3/3 [==============================] - 0s 2ms/step - loss: 1.7073 - mse: 1.7360\n",
            "Epoch 10/50\n",
            "3/3 [==============================] - 0s 2ms/step - loss: 1.4121 - mse: 1.4232\n",
            "Epoch 11/50\n",
            "3/3 [==============================] - 0s 1ms/step - loss: 1.1522 - mse: 1.1797\n",
            "Epoch 12/50\n",
            "3/3 [==============================] - 0s 2ms/step - loss: 1.0062 - mse: 0.9892\n",
            "Epoch 13/50\n",
            "3/3 [==============================] - 0s 2ms/step - loss: 0.8908 - mse: 0.8370\n",
            "Epoch 14/50\n",
            "3/3 [==============================] - 0s 1ms/step - loss: 0.7015 - mse: 0.7177\n",
            "Epoch 15/50\n",
            "3/3 [==============================] - 0s 2ms/step - loss: 0.5917 - mse: 0.6263\n",
            "Epoch 16/50\n",
            "3/3 [==============================] - 0s 2ms/step - loss: 0.5398 - mse: 0.5566\n",
            "Epoch 17/50\n",
            "3/3 [==============================] - 0s 1ms/step - loss: 0.4865 - mse: 0.4998\n",
            "Epoch 18/50\n",
            "3/3 [==============================] - 0s 1ms/step - loss: 0.4458 - mse: 0.4540\n",
            "Epoch 19/50\n",
            "3/3 [==============================] - 0s 1ms/step - loss: 0.4170 - mse: 0.4185\n",
            "Epoch 20/50\n",
            "3/3 [==============================] - 0s 1ms/step - loss: 0.3862 - mse: 0.3875\n",
            "Epoch 21/50\n",
            "3/3 [==============================] - 0s 2ms/step - loss: 0.3808 - mse: 0.3641\n",
            "Epoch 22/50\n",
            "3/3 [==============================] - 0s 2ms/step - loss: 0.3249 - mse: 0.3436\n",
            "Epoch 23/50\n",
            "3/3 [==============================] - 0s 1ms/step - loss: 0.3335 - mse: 0.3279\n",
            "Epoch 24/50\n",
            "3/3 [==============================] - 0s 2ms/step - loss: 0.2998 - mse: 0.3152\n",
            "Epoch 25/50\n",
            "3/3 [==============================] - 0s 2ms/step - loss: 0.2864 - mse: 0.3030\n",
            "Epoch 26/50\n",
            "3/3 [==============================] - 0s 1ms/step - loss: 0.2956 - mse: 0.2933\n",
            "Epoch 27/50\n",
            "3/3 [==============================] - 0s 2ms/step - loss: 0.2647 - mse: 0.2851\n",
            "Epoch 28/50\n",
            "3/3 [==============================] - 0s 2ms/step - loss: 0.2791 - mse: 0.2783\n",
            "Epoch 29/50\n",
            "3/3 [==============================] - 0s 2ms/step - loss: 0.2766 - mse: 0.2716\n",
            "Epoch 30/50\n",
            "3/3 [==============================] - 0s 2ms/step - loss: 0.2546 - mse: 0.2653\n",
            "Epoch 31/50\n",
            "3/3 [==============================] - 0s 2ms/step - loss: 0.2577 - mse: 0.2598\n",
            "Epoch 32/50\n",
            "3/3 [==============================] - 0s 2ms/step - loss: 0.2348 - mse: 0.2551\n",
            "Epoch 33/50\n",
            "3/3 [==============================] - 0s 2ms/step - loss: 0.2473 - mse: 0.2506\n",
            "Epoch 34/50\n",
            "3/3 [==============================] - 0s 3ms/step - loss: 0.2318 - mse: 0.2467\n",
            "Epoch 35/50\n",
            "3/3 [==============================] - 0s 2ms/step - loss: 0.2421 - mse: 0.2429\n",
            "Epoch 36/50\n",
            "3/3 [==============================] - 0s 1ms/step - loss: 0.2416 - mse: 0.2388\n",
            "Epoch 37/50\n",
            "3/3 [==============================] - 0s 1ms/step - loss: 0.2195 - mse: 0.2350\n",
            "Epoch 38/50\n",
            "3/3 [==============================] - 0s 2ms/step - loss: 0.2356 - mse: 0.2316\n",
            "Epoch 39/50\n",
            "3/3 [==============================] - 0s 1ms/step - loss: 0.2370 - mse: 0.2281\n",
            "Epoch 40/50\n",
            "3/3 [==============================] - 0s 2ms/step - loss: 0.2332 - mse: 0.2244\n",
            "Epoch 41/50\n",
            "3/3 [==============================] - 0s 2ms/step - loss: 0.2243 - mse: 0.2209\n",
            "Epoch 42/50\n",
            "3/3 [==============================] - 0s 2ms/step - loss: 0.2273 - mse: 0.2175\n",
            "Epoch 43/50\n",
            "3/3 [==============================] - 0s 2ms/step - loss: 0.2158 - mse: 0.2143\n",
            "Epoch 44/50\n",
            "3/3 [==============================] - 0s 2ms/step - loss: 0.2209 - mse: 0.2111\n",
            "Epoch 45/50\n",
            "3/3 [==============================] - 0s 1ms/step - loss: 0.2228 - mse: 0.2082\n",
            "Epoch 46/50\n",
            "3/3 [==============================] - 0s 1ms/step - loss: 0.1979 - mse: 0.2049\n",
            "Epoch 47/50\n",
            "3/3 [==============================] - 0s 1ms/step - loss: 0.2105 - mse: 0.2022\n",
            "Epoch 48/50\n",
            "3/3 [==============================] - 0s 2ms/step - loss: 0.1865 - mse: 0.1993\n",
            "Epoch 49/50\n",
            "3/3 [==============================] - 0s 3ms/step - loss: 0.1920 - mse: 0.1967\n",
            "Epoch 50/50\n",
            "3/3 [==============================] - 0s 1ms/step - loss: 0.2017 - mse: 0.1942\n"
          ],
          "name": "stdout"
        }
      ]
    },
    {
      "cell_type": "code",
      "metadata": {
        "id": "iG_fL8XAVjNz",
        "colab_type": "code",
        "colab": {
          "base_uri": "https://localhost:8080/",
          "height": 50
        },
        "outputId": "22e0ba59-f284-4f29-d3d3-516c0af9bf49"
      },
      "source": [
        "weights = model.get_weights()\n",
        "print(np.array(weights))"
      ],
      "execution_count": 34,
      "outputs": [
        {
          "output_type": "stream",
          "text": [
            "[[2.496663808822632]\n",
            " [1.96776282787323]]\n"
          ],
          "name": "stdout"
        }
      ]
    },
    {
      "cell_type": "code",
      "metadata": {
        "id": "waIHxLg0VpGg",
        "colab_type": "code",
        "colab": {
          "base_uri": "https://localhost:8080/",
          "height": 279
        },
        "outputId": "8e4c990b-b952-46aa-de1e-13ec29c07eb0"
      },
      "source": [
        "fig, ax = plt.subplots()\n",
        "\n",
        "space = np.linspace(0, max(x))\n",
        "\n",
        "pred_line = space * weights[0] + weights[1]\n",
        "\n",
        "ax.plot(space, pred_line, color='red', label =\"Predictions\")\n",
        "ax.scatter(x, y, color='blue', alpha = 0.5)\n",
        "plt.legend(loc=\"upper left\", fontsize=14)\n",
        "plt.xlabel('x')\n",
        "plt.ylabel('y')\n",
        "plt.show()"
      ],
      "execution_count": 35,
      "outputs": [
        {
          "output_type": "display_data",
          "data": {
            "image/png": "[encoded data removed]",
            "text/plain": [
              "<Figure size 432x288 with 1 Axes>"
            ]
          },
          "metadata": {
            "tags": [],
            "needs_background": "light"
          }
        }
      ]
    },
    {
      "cell_type": "markdown",
      "metadata": {
        "id": "D_UyudOfZLDP",
        "colab_type": "text"
      },
      "source": [
        "###**Gradient**\n",
        "\n",
        "The gradient ${\\nabla}$ ${\\mathcal{L}}$ has both a direction and a magnitude. The gradient points which way is \"colder\" or \"warmer\". The gradient always points in the direction of steepest increase in the loss function. \n",
        "The gradient ${\\nabla}$ ${\\mathcal{L}}$ ${\\in}$ ${\\mathbb{R}}^{n +1}$ \n",
        "is a vector whose entries ${(\\nabla}$ ${\\mathcal{L})_{i}}$ \n",
        "are given by partial derivatives ${\\partial}$${\\mathcal{L}}$ / ${\\partial}$${w}_{i}$ of the loss function ${\\mathcal{L}}$ with respect to the weights ${w}_{i}$.\n"
      ]
    },
    {
      "cell_type": "markdown",
      "metadata": {
        "id": "kfBrjI34hNJV",
        "colab_type": "text"
      },
      "source": [
        "###**Gradient Decent**\n",
        "Gradient descent is an optimization algorithm used to minimize some function by iteratively moving in the direction of steepest descent as defined by the negative of the gradient. In machine learning, we use gradient descent to update the parameters of our model. Parameters refer to coefficients in Linear Regression and weights in neural networks.\n",
        "\n",
        "The gradient descent algorithm multiplies the gradient by a scalar known as the learning rate to determine the next point."
      ]
    },
    {
      "cell_type": "markdown",
      "metadata": {
        "id": "wC6FvN-0RNbz",
        "colab_type": "text"
      },
      "source": [
        "A batch in gradient descent refers to the total number of examples used to calculate the gradient in a single iteration.\n",
        "\n",
        "Stochastic gradient descent  uses only single example i.e a batch size of 1 per iteration. The term \"stochastic\" itself shows that one example comprising each batch is chosen at random.\n",
        "\n",
        "Mini batch stochastic gradient descent is a compromise between full batch iteration and stochastic gradient descent. In mini batch, 10 and 1,000 examples typically are chosen at random. Mini batch SGD is more efficient and reduced the amount if nosie in SGD.\n"
      ]
    },
    {
      "cell_type": "markdown",
      "metadata": {
        "id": "16Q4yTuSuwgj",
        "colab_type": "text"
      },
      "source": [
        "###**Logistic Regression**\n",
        "Logistic Regression is widely used to describe and examine the realtionship bewteen a binary response variable and a set of predictor variables. In simpler words, Logistic regression can be used for binary classification, which is the task of classifying the feature vectors into two classes, that are denoted by 0 and 1. Logistic Regression uses logistic function or sigmoid function to model a binary dependent variable. \n",
        "The activation function ${\\alpha}$ ${(z)}$ is equal to the sigmoid function ${\\sigma}$ ${(z)}$ , which is defined by :\n",
        "\n",
        "  ${\\sigma}$ ${(z)}$ = ${\\frac{1} {1 + {e}^{-{z}}}}$\n",
        "\n",
        "The activation ${\\sigma}$ ${(z)}$ can be interpreted as the probablity that the neuron assigns to the class 1. We can make predection using this probablity as:\n",
        "if ${\\sigma}$ ${(z)}$ < ${\\frac{1} {2}}$, then it will be treated as class 0 and if  ${\\sigma}$ ${(z)}$ ${\\geq}$ ${\\frac{1} {2}}$, then it will be treated as class 1. \n",
        "\n",
        "Two main loss functions for logistic regression are utilized : Squared error and bonary cross entropy."
      ]
    },
    {
      "cell_type": "markdown",
      "metadata": {
        "id": "4SxVB9hQQ2KS",
        "colab_type": "text"
      },
      "source": [
        "The code snippet below show implementation of logistic regression model using numpy which was done in homework 3. "
      ]
    },
    {
      "cell_type": "markdown",
      "metadata": {
        "id": "OoZ48llUNZL6",
        "colab_type": "text"
      },
      "source": [
        "**Imports**"
      ]
    },
    {
      "cell_type": "code",
      "metadata": {
        "id": "wUOHU8wMOHIc",
        "colab_type": "code",
        "colab": {}
      },
      "source": [
        "import numpy as np\n",
        "import tensorflow as tf\n",
        "import random\n",
        "import matplotlib\n",
        "import matplotlib.pyplot as plt\n",
        "from sklearn.model_selection import train_test_split"
      ],
      "execution_count": 0,
      "outputs": []
    },
    {
      "cell_type": "markdown",
      "metadata": {
        "id": "oQ0aFVeCPE70",
        "colab_type": "text"
      },
      "source": [
        "**Generating Random data**"
      ]
    },
    {
      "cell_type": "code",
      "metadata": {
        "id": "B0hB-FbyPMe1",
        "colab_type": "code",
        "colab": {}
      },
      "source": [
        "def get_random_data(w, b, mu, sigma, m):\n",
        " \n",
        "  # Generating first feature x_1 uniformly at random \n",
        "  x_1 = np.random.uniform(0, 1, size=(m,1))\n",
        "  # Generating the label array with zeros and ones\n",
        "  labels = np.random.choice([0,1], size=(m,1))\n",
        "  # n is chosen according to the normal distribution with mean mu and standard deviation sigma\n",
        "  # Genreating random data \n",
        "  n = np.random.normal(mu, sigma, size=(m,1))\n",
        "\n",
        "  # Setting the second feature x_2\n",
        "  x_2 = w * x_1 + b + (-1)** labels * n\n",
        "\n",
        "  # Concatenating x_1 and x_2 fatures\n",
        "  data = np.concatenate((x_1,x_2), axis = 1)\n",
        "\n",
        "  return data,labels"
      ],
      "execution_count": 0,
      "outputs": []
    },
    {
      "cell_type": "markdown",
      "metadata": {
        "id": "dDkbuJvwPVLQ",
        "colab_type": "text"
      },
      "source": [
        "**Function for Displaying the random data**"
      ]
    },
    {
      "cell_type": "code",
      "metadata": {
        "id": "NXjD2GKIPYCu",
        "colab_type": "code",
        "colab": {}
      },
      "source": [
        "def display_random_data(labels, data, w, b):\n",
        "  data = np.array(data)\n",
        "  labels = np.array(labels)\n",
        "  plt.figure()\n",
        "  j = labels.flatten()\n",
        "  #for x in range(0,m):\n",
        "\n",
        "  # if label is 0 then blue points if 1 be red points\n",
        "  data_0 = data[j == 0,:]\n",
        "  plt.scatter(data_0[:,0],data_0 [:,1], c = 'blue', label = 'Class 0')\n",
        "  data_1 = data[j == 1,:]\n",
        "  plt.scatter(data_1[:,0],data_1 [:,1], c = 'red', label = 'Class 1')\n",
        "\n",
        "  # Plot the true line\n",
        "  x = np.linspace(0,1)\n",
        "  y = w * x + b\n",
        "\n",
        "  plt.plot(x, y,'black')\n",
        "  plt.title('Randomly Generated Data')\n",
        "  plt.xlabel('$x_1$')\n",
        "  plt.ylabel('$x_2$')"
      ],
      "execution_count": 0,
      "outputs": []
    },
    {
      "cell_type": "code",
      "metadata": {
        "id": "GuBxzQdJPpX1",
        "colab_type": "code",
        "colab": {}
      },
      "source": [
        "# Getting data from problem 1 with sample data\n",
        "mu = 5\n",
        "sigma = 1.5\n",
        "m = 1000\n",
        "w = 2\n",
        "b = 2\n",
        "\n",
        "\n",
        "#epochs = 20\n",
        "#learning_rate = 0.01\n",
        "\n",
        "data, labels = get_random_data(w,b,mu,sigma,m)\n",
        "train_data, test_data, train_labels, test_labels = train_test_split(data,labels, test_size = 0.2)"
      ],
      "execution_count": 0,
      "outputs": []
    },
    {
      "cell_type": "code",
      "metadata": {
        "id": "sNDmdXJMPuUk",
        "colab_type": "code",
        "colab": {}
      },
      "source": [
        "# Function that performs sigmoid activation on a given input\n",
        "def sigmoid(z):\n",
        "    return 1.0 / (1.0 + np.exp(-z))\n",
        "\n",
        "# Calculates the binary cross entropy loss \n",
        "def binary_cross_entropy_loss(pred_a, pred_label):\n",
        "    return (-pred_label * np.log(pred_a)) - ((1 - pred_label) * np.log(1 - pred_a))\n",
        "\n",
        "# Performing a test for the model using inputs as test labels and data with weights\n",
        "def model_test(test_data, test_labels, weights):\n",
        "  loss_in_total = 0\n",
        "  pred_correct = 0\n",
        "\n",
        "  for i in range(len(test_data)):\n",
        "    # Processing the input\n",
        "    X = np.concatenate(([1], test_data[i]))\n",
        "    z = weights.T.dot(X)\n",
        "    a = sigmoid(z)\n",
        "    # MAking a prediction \n",
        "    if(a < .5 and test_labels[i] == 0) or (a >= .5 and test_labels[i] == 1):\n",
        "      pred_correct += 1\n",
        "    \n",
        "    # Calculating the loss\n",
        "    loss_in_total += binary_cross_entropy_loss(a, test_labels[i])\n",
        "  #print(loss_in_total)\n",
        "  \n",
        "  # Return summary\n",
        "  return (loss_in_total[0] / len(test_data), pred_correct / len(test_data))\n",
        "\n",
        "# Computes the logistic regression\n",
        "def logistic_regression_model(train_data, train_labels, test_data, test_labels, epochs, learing_rate):\n",
        "  # Randomizing the initial weights\n",
        "  weights = np.random.random_sample((3,))\n",
        "  \n",
        "  for epoch in range(epochs):\n",
        "    # This is performing only Stochastic gradient descent\n",
        "    for i in range(len(train_data)):\n",
        "      # Processing the input\n",
        "      X = np.concatenate(([1], train_data[i]))\n",
        "      z = weights.T.dot(X)\n",
        "      a = sigmoid(z)\n",
        "\n",
        "      # Determining the gradient of the loss\n",
        "      loss_gradient = (a - train_labels[i]) * X\n",
        "\n",
        "      # Applying gradient to the weights\n",
        "      weights -= loss_gradient * learning_rate\n",
        "    # For each epoch, analyze the accuracy and loss for it.\n",
        "    loss,accuracy = model_test(test_data, test_labels,weights)\n",
        "    print(f'Epoch {epoch+1}/{epochs} -> Loss: {loss} , Accuracy: {accuracy}')\n",
        "  # Returning the trained weights\n",
        "  return weights"
      ],
      "execution_count": 0,
      "outputs": []
    },
    {
      "cell_type": "code",
      "metadata": {
        "id": "RSNcSowKPzfs",
        "colab_type": "code",
        "colab": {
          "base_uri": "https://localhost:8080/",
          "height": 633
        },
        "outputId": "2eac9eb3-8b3e-4ed9-d384-738f5c957195"
      },
      "source": [
        "epochs = 20\n",
        "learning_rate = 0.01\n",
        "\n",
        "weights = logistic_regression_model(train_data, train_labels,test_data,test_labels,epochs,learning_rate)\n",
        "\n",
        "display_random_data(labels,data,w,b)\n",
        "xline = np.linspace(0, 1, 100)\n",
        "yline = -((weights[1] * xline + weights[0])/ weights[2])\n",
        "plt.plot(xline, yline, color='green')\n",
        "plt.title('NumPy model trained separating line')\n",
        "plt.show()"
      ],
      "execution_count": 14,
      "outputs": [
        {
          "output_type": "stream",
          "text": [
            "Epoch 1/20 -> Loss: 0.045677133232754505 , Accuracy: 0.985\n",
            "Epoch 2/20 -> Loss: 0.03665531025240209 , Accuracy: 0.985\n",
            "Epoch 3/20 -> Loss: 0.031237834616263283 , Accuracy: 0.99\n",
            "Epoch 4/20 -> Loss: 0.027436149017000484 , Accuracy: 0.99\n",
            "Epoch 5/20 -> Loss: 0.024592660273744574 , Accuracy: 0.99\n",
            "Epoch 6/20 -> Loss: 0.02238093069518039 , Accuracy: 1.0\n",
            "Epoch 7/20 -> Loss: 0.02061056039747835 , Accuracy: 1.0\n",
            "Epoch 8/20 -> Loss: 0.019160879202337288 , Accuracy: 1.0\n",
            "Epoch 9/20 -> Loss: 0.017951326168441688 , Accuracy: 1.0\n",
            "Epoch 10/20 -> Loss: 0.016926059074902727 , Accuracy: 1.0\n",
            "Epoch 11/20 -> Loss: 0.01604520200235046 , Accuracy: 1.0\n",
            "Epoch 12/20 -> Loss: 0.015279564275145612 , Accuracy: 1.0\n",
            "Epoch 13/20 -> Loss: 0.014607314895361283 , Accuracy: 1.0\n",
            "Epoch 14/20 -> Loss: 0.014011817315997314 , Accuracy: 1.0\n",
            "Epoch 15/20 -> Loss: 0.013480180211666913 , Accuracy: 1.0\n",
            "Epoch 16/20 -> Loss: 0.013002264160660111 , Accuracy: 1.0\n",
            "Epoch 17/20 -> Loss: 0.01256998640653686 , Accuracy: 1.0\n",
            "Epoch 18/20 -> Loss: 0.012176825040425238 , Accuracy: 1.0\n",
            "Epoch 19/20 -> Loss: 0.011817459354071145 , Accuracy: 1.0\n",
            "Epoch 20/20 -> Loss: 0.011487504903707129 , Accuracy: 1.0\n"
          ],
          "name": "stdout"
        },
        {
          "output_type": "display_data",
          "data": {
            "image/png": "[encoded data removed]",
            "text/plain": [
              "<Figure size 432x288 with 1 Axes>"
            ]
          },
          "metadata": {
            "tags": [],
            "needs_background": "light"
          }
        }
      ]
    },
    {
      "cell_type": "markdown",
      "metadata": {
        "id": "yZTqKdG6bO1h",
        "colab_type": "text"
      },
      "source": [
        "##**Building a Model**"
      ]
    },
    {
      "cell_type": "markdown",
      "metadata": {
        "id": "0M5fuXLubTF1",
        "colab_type": "text"
      },
      "source": [
        "The layer is the most important data structure in the neural network. A deep model is acyclic and directed graph of layers. Different types of data processing and tensor formats require different layers.\n",
        "\n",
        "The convolution base comprises of multiple group of convolution filters and max pooling layers. The simple data that is stored in 2D tensors of shape is usually processed by densely connected layers. The sequence data taht is stored in 3D tensors of shape is processed by long- short term memory layer. Image data stored in 4D tensors are usually processed by 2D convolution layers. \n",
        "Building models is done by combining the compatible layers and forming useful data-processing pipelines.\n",
        "\n",
        "The Convolution networks are composed of an input layer, an output layer and one or more hidden layers. \n",
        "\n",
        "The Convolution network takes the image's raw pixel data as input and then learns to extract thier feayure. A convolution extracts tiles of the input feature map and then applies filters to them producing an output feature map. After each convolution operation, the CNN applies ReLU(Rectified Linear Unit) transformation to the convolved feature.\n",
        "\n",
        "\n"
      ]
    },
    {
      "cell_type": "code",
      "metadata": {
        "id": "3cr-f5yZ5m_V",
        "colab_type": "code",
        "colab": {}
      },
      "source": [
        "from keras import layers\n",
        "from keras import models\n",
        "\n",
        "model = models.Sequential()\n",
        "# Conv layers\n",
        "model.add(layers.Conv2D(32, kernel_size=(5, 5), strides=(1, 1),\n",
        "                 activation='relu',\n",
        "                 input_shape=(150, 150, 3)))\n",
        "# A stride of 2 specifies that the max pooling operation will extract all\n",
        "# Non overlapping 2x2 tiles from the feature map\n",
        "\n",
        "model.add(layers.MaxPooling2D(pool_size=(2, 2), strides=(2, 2)))\n",
        "model.add(layers.Conv2D(64, (5, 5), activation='relu'))\n",
        "model.add(layers.MaxPooling2D(pool_size=(2, 2)))\n",
        "# Dense layers\n",
        "model.add(layers.Flatten())\n",
        "model.add(layers.Dense(1000, activation='relu'))\n",
        "model.add(layers.Dense(1, activation='sigmoid'))"
      ],
      "execution_count": 0,
      "outputs": []
    },
    {
      "cell_type": "code",
      "metadata": {
        "id": "61OPgMWb61Go",
        "colab_type": "code",
        "colab": {
          "base_uri": "https://localhost:8080/",
          "height": 386
        },
        "outputId": "26ccecaf-369f-4c08-94e4-a43963ce7db2"
      },
      "source": [
        "model.summary()"
      ],
      "execution_count": 20,
      "outputs": [
        {
          "output_type": "stream",
          "text": [
            "Model: \"sequential_4\"\n",
            "_________________________________________________________________\n",
            "Layer (type)                 Output Shape              Param #   \n",
            "=================================================================\n",
            "conv2d_3 (Conv2D)            (None, 146, 146, 32)      2432      \n",
            "_________________________________________________________________\n",
            "max_pooling2d_3 (MaxPooling2 (None, 73, 73, 32)        0         \n",
            "_________________________________________________________________\n",
            "conv2d_4 (Conv2D)            (None, 69, 69, 64)        51264     \n",
            "_________________________________________________________________\n",
            "max_pooling2d_4 (MaxPooling2 (None, 34, 34, 64)        0         \n",
            "_________________________________________________________________\n",
            "flatten_2 (Flatten)          (None, 73984)             0         \n",
            "_________________________________________________________________\n",
            "dense_2 (Dense)              (None, 1000)              73985000  \n",
            "_________________________________________________________________\n",
            "dense_3 (Dense)              (None, 1)                 1001      \n",
            "=================================================================\n",
            "Total params: 74,039,697\n",
            "Trainable params: 74,039,697\n",
            "Non-trainable params: 0\n",
            "_________________________________________________________________\n"
          ],
          "name": "stdout"
        }
      ]
    },
    {
      "cell_type": "markdown",
      "metadata": {
        "id": "bKCyMm4a8LVK",
        "colab_type": "text"
      },
      "source": [
        "Building the network with Xception Convolution base and custom densely connected layers(This was implemented in homework4). This is pretrained model.\n",
        "\n",
        "**Load the convolution base**\n"
      ]
    },
    {
      "cell_type": "code",
      "metadata": {
        "id": "8ZEuAV7G8e2g",
        "colab_type": "code",
        "colab": {
          "base_uri": "https://localhost:8080/",
          "height": 50
        },
        "outputId": "4352dcc7-a114-40f5-b6c4-f750b67e5ec4"
      },
      "source": [
        "from keras.applications import Xception\n",
        "\n",
        "conv_base = Xception(\n",
        "    weights='imagenet', \n",
        "    include_top=False, \n",
        "    input_shape=(150, 150, 3))"
      ],
      "execution_count": 21,
      "outputs": [
        {
          "output_type": "stream",
          "text": [
            "Downloading data from https://github.com/fchollet/deep-learning-models/releases/download/v0.4/xception_weights_tf_dim_ordering_tf_kernels_notop.h5\n",
            "83689472/83683744 [==============================] - 6s 0us/step\n"
          ],
          "name": "stdout"
        }
      ]
    },
    {
      "cell_type": "markdown",
      "metadata": {
        "id": "SA6Em7-O8i-h",
        "colab_type": "text"
      },
      "source": [
        "**Freeze the convolution base**\n"
      ]
    },
    {
      "cell_type": "code",
      "metadata": {
        "id": "b50e8FVi8mdm",
        "colab_type": "code",
        "colab": {}
      },
      "source": [
        "conv_base.trainable = False"
      ],
      "execution_count": 0,
      "outputs": []
    },
    {
      "cell_type": "markdown",
      "metadata": {
        "id": "CYTqNRey8rPD",
        "colab_type": "text"
      },
      "source": [
        "\n",
        "**Concatenate the convolutional base and densely connected layers**"
      ]
    },
    {
      "cell_type": "code",
      "metadata": {
        "id": "gXDjCkc68vD_",
        "colab_type": "code",
        "colab": {
          "base_uri": "https://localhost:8080/",
          "height": 319
        },
        "outputId": "dd3ae2b4-2707-4b71-b8b4-53c974a02852"
      },
      "source": [
        "from keras import layers\n",
        "from keras import models\n",
        "from keras import optimizers\n",
        "\n",
        "model = models.Sequential()\n",
        "model.add(conv_base)\n",
        "model.add(layers.Flatten())\n",
        "model.add(layers.Dense(256, activation='relu'))\n",
        "model.add(layers.Dropout(0.1))\n",
        "model.add(layers.Dense(1, activation='sigmoid'))\n",
        "model.summary()"
      ],
      "execution_count": 24,
      "outputs": [
        {
          "output_type": "stream",
          "text": [
            "Model: \"sequential_6\"\n",
            "_________________________________________________________________\n",
            "Layer (type)                 Output Shape              Param #   \n",
            "=================================================================\n",
            "xception (Model)             (None, 5, 5, 2048)        20861480  \n",
            "_________________________________________________________________\n",
            "flatten_4 (Flatten)          (None, 51200)             0         \n",
            "_________________________________________________________________\n",
            "dense_6 (Dense)              (None, 256)               13107456  \n",
            "_________________________________________________________________\n",
            "dropout_2 (Dropout)          (None, 256)               0         \n",
            "_________________________________________________________________\n",
            "dense_7 (Dense)              (None, 1)                 257       \n",
            "=================================================================\n",
            "Total params: 33,969,193\n",
            "Trainable params: 13,107,713\n",
            "Non-trainable params: 20,861,480\n",
            "_________________________________________________________________\n"
          ],
          "name": "stdout"
        }
      ]
    },
    {
      "cell_type": "markdown",
      "metadata": {
        "id": "Dl9IyNqz8-Sk",
        "colab_type": "text"
      },
      "source": [
        "##**Compiling a Model**"
      ]
    },
    {
      "cell_type": "markdown",
      "metadata": {
        "id": "4kJPKPaQ9Wwt",
        "colab_type": "text"
      },
      "source": [
        "The training process have to be configured before begining the training. There are 3 key factors during the compilation step:\n",
        "1. The Optimizer: it determines how the network will be updated based on the loss function. \n",
        "2. The loss function: is a method of evaluating how good the algorithm models.The loss funtion will output a higher number if the predictions are totally off.\n",
        "3. List of metrics\n",
        "\n",
        "The learning rate is parameter that is passed in optimizer which controls how fast the model learns.\n",
        "\n",
        "RMSprop automates the learning rate tuning. "
      ]
    },
    {
      "cell_type": "code",
      "metadata": {
        "id": "N1f63_JdEtF2",
        "colab_type": "code",
        "colab": {}
      },
      "source": [
        "from tensorflow.keras.optimizers import RMSprop\n",
        "\n",
        "model.compile(loss='binary_crossentropy',\n",
        "              optimizer=RMSprop(lr=0.001),\n",
        "              metrics=['acc'])"
      ],
      "execution_count": 0,
      "outputs": []
    },
    {
      "cell_type": "markdown",
      "metadata": {
        "id": "7kMuxkPzGGbY",
        "colab_type": "text"
      },
      "source": [
        "##**Training a Model**"
      ]
    },
    {
      "cell_type": "markdown",
      "metadata": {
        "id": "eIxd9GBZGMjn",
        "colab_type": "text"
      },
      "source": [
        "A well generalized model is that model which is neither underfit nor obver fit.\n",
        "Training the linear regression model is all about minimizing the total distance between line we are trying to fit and the actual data points.\n",
        "\n",
        "###**Overfitting**\n",
        "Overfitting refers to a model that models the training data too well. Overfitting happens when a model learns the detail and noise in the training data to the extent that it negatively impacts the performance of the model on new data. The nosie or random fluctuations in the training data is picked up and learned as concepts by the model. The training error is much lower than the test error. Overfitting leads to more bad than good.\n",
        "\n",
        "###**Underfitting**\n",
        "Underfitting refers to a model that can neither model the training data nor generalize to new data. In other words, underfitting occurs where model has not learned enough from the trainign data and will result in unrealiable predictions, which is opposite of overfitting. An underfit model is not suitable model as it will have poor performance on the training data. It has high training error and the training error is clost to test error. "
      ]
    },
    {
      "cell_type": "markdown",
      "metadata": {
        "id": "7jZF6KIbRoOo",
        "colab_type": "text"
      },
      "source": [
        "An example of overfitting can be seen below. This was implemented in homework 4"
      ]
    },
    {
      "cell_type": "code",
      "metadata": {
        "id": "Ufnfxlu_Rup4",
        "colab_type": "code",
        "colab": {
          "base_uri": "https://localhost:8080/",
          "height": 202
        },
        "outputId": "2f3972ce-f481-47dd-e88c-5c5d4b8172af"
      },
      "source": [
        "!wget --no-check-certificate \\\n",
        "    https://storage.googleapis.com/mledu-datasets/cats_and_dogs_filtered.zip \\\n",
        "    -O /tmp/cats_and_dogs_filtered.zip"
      ],
      "execution_count": 1,
      "outputs": [
        {
          "output_type": "stream",
          "text": [
            "--2020-04-25 03:09:53--  https://storage.googleapis.com/mledu-datasets/cats_and_dogs_filtered.zip\n",
            "Resolving storage.googleapis.com (storage.googleapis.com)... 172.217.194.128, 2404:6800:4003:c03::80\n",
            "Connecting to storage.googleapis.com (storage.googleapis.com)|172.217.194.128|:443... connected.\n",
            "HTTP request sent, awaiting response... 200 OK\n",
            "Length: 68606236 (65M) [application/zip]\n",
            "Saving to: ‘/tmp/cats_and_dogs_filtered.zip’\n",
            "\n",
            "/tmp/cats_and_dogs_ 100%[===================>]  65.43M  62.5MB/s    in 1.0s    \n",
            "\n",
            "2020-04-25 03:09:56 (62.5 MB/s) - ‘/tmp/cats_and_dogs_filtered.zip’ saved [68606236/68606236]\n",
            "\n"
          ],
          "name": "stdout"
        }
      ]
    },
    {
      "cell_type": "code",
      "metadata": {
        "id": "0wZ5hShdR1Hq",
        "colab_type": "code",
        "colab": {}
      },
      "source": [
        "import os\n",
        "import zipfile\n",
        "\n",
        "local_zip = '/tmp/cats_and_dogs_filtered.zip'\n",
        "zip_ref = zipfile.ZipFile(local_zip, 'r')\n",
        "zip_ref.extractall('/tmp')\n",
        "zip_ref.close()"
      ],
      "execution_count": 0,
      "outputs": []
    },
    {
      "cell_type": "code",
      "metadata": {
        "id": "UireiOvdR2RP",
        "colab_type": "code",
        "colab": {}
      },
      "source": [
        "base_dir = '/tmp/cats_and_dogs_filtered'\n",
        "train_dir = os.path.join(base_dir, 'train')\n",
        "validation_dir = os.path.join(base_dir, 'validation')\n",
        "\n",
        "# Directory with our training cat pictures\n",
        "train_cats_dir = os.path.join(train_dir, 'cats')\n",
        "\n",
        "# Directory with our training dog pictures\n",
        "train_dogs_dir = os.path.join(train_dir, 'dogs')\n",
        "\n",
        "# Directory with our validation cat pictures\n",
        "validation_cats_dir = os.path.join(validation_dir, 'cats')\n",
        "\n",
        "# Directory with our validation dog pictures\n",
        "validation_dogs_dir = os.path.join(validation_dir, 'dogs')"
      ],
      "execution_count": 0,
      "outputs": []
    },
    {
      "cell_type": "code",
      "metadata": {
        "id": "YbfAk0pGR7Ty",
        "colab_type": "code",
        "colab": {
          "base_uri": "https://localhost:8080/",
          "height": 67
        },
        "outputId": "de05e89c-97ba-46b1-ba43-011ae6716c35"
      },
      "source": [
        "from keras.applications import Xception\n",
        "\n",
        "conv_base = Xception(\n",
        "    weights='imagenet', \n",
        "    include_top=False, \n",
        "    input_shape=(150, 150, 3))"
      ],
      "execution_count": 4,
      "outputs": [
        {
          "output_type": "stream",
          "text": [
            "Using TensorFlow backend.\n"
          ],
          "name": "stderr"
        },
        {
          "output_type": "stream",
          "text": [
            "Downloading data from https://github.com/fchollet/deep-learning-models/releases/download/v0.4/xception_weights_tf_dim_ordering_tf_kernels_notop.h5\n",
            "83689472/83683744 [==============================] - 9s 0us/step\n"
          ],
          "name": "stdout"
        }
      ]
    },
    {
      "cell_type": "code",
      "metadata": {
        "id": "zma2WKjLR_gh",
        "colab_type": "code",
        "colab": {}
      },
      "source": [
        "conv_base.trainable = False"
      ],
      "execution_count": 0,
      "outputs": []
    },
    {
      "cell_type": "code",
      "metadata": {
        "id": "2Hi4p_1tSBPn",
        "colab_type": "code",
        "colab": {}
      },
      "source": [
        "from keras import layers\n",
        "from keras import models\n",
        "from keras import optimizers\n",
        "\n",
        "model = models.Sequential()\n",
        "model.add(conv_base)\n",
        "model.add(layers.Flatten())\n",
        "model.add(layers.Dense(256, activation='relu'))\n",
        "model.add(layers.Dropout(0.1))\n",
        "model.add(layers.Dense(1, activation='sigmoid'))"
      ],
      "execution_count": 0,
      "outputs": []
    },
    {
      "cell_type": "code",
      "metadata": {
        "id": "g01hWuKKSFdP",
        "colab_type": "code",
        "colab": {
          "base_uri": "https://localhost:8080/",
          "height": 1000
        },
        "outputId": "63bb6b9e-72cf-4d5d-c388-e961cfa82c7e"
      },
      "source": [
        "from keras.preprocessing.image import ImageDataGenerator\n",
        "from keras import optimizers\n",
        "\n",
        "# data augmentation\n",
        "\n",
        "train_datagen = ImageDataGenerator(\n",
        "    rescale=1./255, \n",
        "    rotation_range=40,\n",
        "    width_shift_range=0.2,\n",
        "    height_shift_range=0.2,\n",
        "    shear_range=0.2,\n",
        "    zoom_range=0.2,\n",
        "    horizontal_flip=True,\n",
        "    fill_mode='nearest'\n",
        ")\n",
        "\n",
        "train_generator = train_datagen.flow_from_directory(\n",
        "    train_dir,\n",
        "    target_size=(150, 150),\n",
        "    batch_size=20,\n",
        "    class_mode='binary')\n",
        "\n",
        "validation_datagen = ImageDataGenerator(rescale=1./255)\n",
        "\n",
        "validation_generator = validation_datagen.flow_from_directory(\n",
        "    validation_dir,\n",
        "    target_size=(150, 150),\n",
        "    batch_size=20,\n",
        "    class_mode='binary')\n",
        "\n",
        "# compile model\n",
        "\n",
        "model.compile(\n",
        "    loss='binary_crossentropy', \n",
        "    optimizer=optimizers.RMSprop(lr=2e-5), \n",
        "    metrics=['acc'])\n",
        "\n",
        "# train\n",
        "\n",
        "history = model.fit_generator(\n",
        "    train_generator,\n",
        "    steps_per_epoch=100,\n",
        "    epochs=30,\n",
        "    validation_data=validation_generator,\n",
        "    validation_steps=50\n",
        ")"
      ],
      "execution_count": 8,
      "outputs": [
        {
          "output_type": "stream",
          "text": [
            "Found 2000 images belonging to 2 classes.\n",
            "Found 1000 images belonging to 2 classes.\n",
            "Epoch 1/30\n",
            "100/100 [==============================] - 27s 273ms/step - loss: 0.4474 - acc: 0.7805 - val_loss: 0.2502 - val_acc: 0.9370\n",
            "Epoch 2/30\n",
            "100/100 [==============================] - 17s 175ms/step - loss: 0.3536 - acc: 0.8395 - val_loss: 0.0385 - val_acc: 0.9700\n",
            "Epoch 3/30\n",
            "100/100 [==============================] - 17s 175ms/step - loss: 0.3453 - acc: 0.8450 - val_loss: 0.0582 - val_acc: 0.9700\n",
            "Epoch 4/30\n",
            "100/100 [==============================] - 18s 176ms/step - loss: 0.3461 - acc: 0.8475 - val_loss: 0.8076 - val_acc: 0.9420\n",
            "Epoch 5/30\n",
            "100/100 [==============================] - 18s 176ms/step - loss: 0.3206 - acc: 0.8630 - val_loss: 0.0013 - val_acc: 0.9580\n",
            "Epoch 6/30\n",
            "100/100 [==============================] - 18s 177ms/step - loss: 0.3128 - acc: 0.8590 - val_loss: 5.4612e-05 - val_acc: 0.9690\n",
            "Epoch 7/30\n",
            "100/100 [==============================] - 18s 177ms/step - loss: 0.3025 - acc: 0.8695 - val_loss: 0.0020 - val_acc: 0.9730\n",
            "Epoch 8/30\n",
            "100/100 [==============================] - 18s 176ms/step - loss: 0.2931 - acc: 0.8705 - val_loss: 0.3146 - val_acc: 0.9700\n",
            "Epoch 9/30\n",
            "100/100 [==============================] - 18s 175ms/step - loss: 0.3157 - acc: 0.8620 - val_loss: 0.4505 - val_acc: 0.9500\n",
            "Epoch 10/30\n",
            "100/100 [==============================] - 18s 177ms/step - loss: 0.3022 - acc: 0.8635 - val_loss: 0.3586 - val_acc: 0.9720\n",
            "Epoch 11/30\n",
            "100/100 [==============================] - 18s 178ms/step - loss: 0.3007 - acc: 0.8730 - val_loss: 0.1555 - val_acc: 0.9700\n",
            "Epoch 12/30\n",
            "100/100 [==============================] - 18s 179ms/step - loss: 0.2983 - acc: 0.8660 - val_loss: 4.0330e-04 - val_acc: 0.9650\n",
            "Epoch 13/30\n",
            "100/100 [==============================] - 18s 176ms/step - loss: 0.2981 - acc: 0.8650 - val_loss: 0.2677 - val_acc: 0.9670\n",
            "Epoch 14/30\n",
            "100/100 [==============================] - 18s 178ms/step - loss: 0.2846 - acc: 0.8800 - val_loss: 0.3363 - val_acc: 0.9690\n",
            "Epoch 15/30\n",
            "100/100 [==============================] - 18s 178ms/step - loss: 0.3065 - acc: 0.8595 - val_loss: 4.2078e-05 - val_acc: 0.9670\n",
            "Epoch 16/30\n",
            "100/100 [==============================] - 18s 176ms/step - loss: 0.2811 - acc: 0.8690 - val_loss: 0.5724 - val_acc: 0.9700\n",
            "Epoch 17/30\n",
            "100/100 [==============================] - 18s 175ms/step - loss: 0.2999 - acc: 0.8735 - val_loss: 0.4648 - val_acc: 0.9700\n",
            "Epoch 18/30\n",
            "100/100 [==============================] - 18s 177ms/step - loss: 0.2766 - acc: 0.8790 - val_loss: 0.3661 - val_acc: 0.9600\n",
            "Epoch 19/30\n",
            "100/100 [==============================] - 18s 178ms/step - loss: 0.2771 - acc: 0.8765 - val_loss: 0.0018 - val_acc: 0.9710\n",
            "Epoch 20/30\n",
            "100/100 [==============================] - 18s 178ms/step - loss: 0.2683 - acc: 0.8890 - val_loss: 2.8421e-05 - val_acc: 0.9680\n",
            "Epoch 21/30\n",
            "100/100 [==============================] - 18s 177ms/step - loss: 0.2695 - acc: 0.8895 - val_loss: 0.1147 - val_acc: 0.9700\n",
            "Epoch 22/30\n",
            "100/100 [==============================] - 18s 179ms/step - loss: 0.2888 - acc: 0.8755 - val_loss: 0.1403 - val_acc: 0.9720\n",
            "Epoch 23/30\n",
            "100/100 [==============================] - 18s 178ms/step - loss: 0.2742 - acc: 0.8780 - val_loss: 9.6960e-06 - val_acc: 0.9710\n",
            "Epoch 24/30\n",
            "100/100 [==============================] - 18s 179ms/step - loss: 0.2739 - acc: 0.8870 - val_loss: 0.5843 - val_acc: 0.9700\n",
            "Epoch 25/30\n",
            "100/100 [==============================] - 18s 178ms/step - loss: 0.2750 - acc: 0.8930 - val_loss: 0.0408 - val_acc: 0.9690\n",
            "Epoch 26/30\n",
            "100/100 [==============================] - 18s 177ms/step - loss: 0.2591 - acc: 0.8950 - val_loss: 0.3453 - val_acc: 0.9620\n",
            "Epoch 27/30\n",
            "100/100 [==============================] - 18s 178ms/step - loss: 0.2917 - acc: 0.8785 - val_loss: 1.7640e-09 - val_acc: 0.9690\n",
            "Epoch 28/30\n",
            "100/100 [==============================] - 18s 178ms/step - loss: 0.2380 - acc: 0.8915 - val_loss: 0.0345 - val_acc: 0.9700\n",
            "Epoch 29/30\n",
            "100/100 [==============================] - 18s 182ms/step - loss: 0.2698 - acc: 0.8905 - val_loss: 0.0579 - val_acc: 0.9640\n",
            "Epoch 30/30\n",
            "100/100 [==============================] - 18s 179ms/step - loss: 0.2734 - acc: 0.8935 - val_loss: 0.6832 - val_acc: 0.9720\n"
          ],
          "name": "stdout"
        }
      ]
    },
    {
      "cell_type": "code",
      "metadata": {
        "id": "kXrqXssjSIx5",
        "colab_type": "code",
        "colab": {
          "base_uri": "https://localhost:8080/",
          "height": 545
        },
        "outputId": "701a3038-29f0-4b40-e2b7-c7cde8a42428"
      },
      "source": [
        "%matplotlib inline\n",
        "\n",
        "import matplotlib.pyplot as plt\n",
        "\n",
        "acc = history.history['acc']\n",
        "val_acc = history.history['val_acc']\n",
        "\n",
        "loss = history.history['loss']\n",
        "val_loss = history.history['val_loss']\n",
        "\n",
        "epochs = range(1, len(acc) + 1)\n",
        "\n",
        "# training and validation accuracy\n",
        "\n",
        "plt.plot(epochs, acc, 'bo', label='training acc')\n",
        "plt.plot(epochs, val_acc, 'b', label='validation acc')\n",
        "plt.title('training and validation accuracy')\n",
        "plt.legend()\n",
        "\n",
        "plt.figure()\n",
        "\n",
        "# training and validation loss\n",
        "\n",
        "plt.plot(epochs, loss, 'bo', label='training loss')\n",
        "plt.plot(epochs, val_loss, 'b', label='validation loss')\n",
        "plt.title('training and validation loss')\n",
        "plt.legend()\n",
        "\n",
        "plt.show()"
      ],
      "execution_count": 9,
      "outputs": [
        {
          "output_type": "display_data",
          "data": {
            "image/png": "[encoded data removed]",
            "text/plain": [
              "<Figure size 432x288 with 1 Axes>"
            ]
          },
          "metadata": {
            "tags": [],
            "needs_background": "light"
          }
        },
        {
          "output_type": "display_data",
          "data": {
            "image/png": "[encoded data removed]",
            "text/plain": [
              "<Figure size 432x288 with 1 Axes>"
            ]
          },
          "metadata": {
            "tags": [],
            "needs_background": "light"
          }
        }
      ]
    },
    {
      "cell_type": "markdown",
      "metadata": {
        "id": "NJDhFrheTJXE",
        "colab_type": "text"
      },
      "source": [
        "##**Finetuning a pretrained model**"
      ]
    },
    {
      "cell_type": "markdown",
      "metadata": {
        "id": "TpbkwBo5TUM4",
        "colab_type": "text"
      },
      "source": [
        "The main task of finetuning a network is to adjust the patrameters of a pre trained network so that it adapts to the new task. For fine tuning, we will freeze the initial layers and retrain the later layers. The reason we freeze initial layers is because the initial layers learn very general features. The layers learn patters that are more specific to the task it is being trained on as we go higher up in the network. The following steps are followed for fine tuning:\n",
        "1. Loading the pre-trained model\n",
        "2. Freezing the required layers\n",
        "3. Creating a new model\n",
        "4. Setting up the data generators\n",
        "5. Training the model\n",
        "6. Checking the performance\n",
        "\n",
        "Finetuning implemenation was done in previous homework. Because it takes time to compile I decided not to include the code. \n"
      ]
    },
    {
      "cell_type": "markdown",
      "metadata": {
        "id": "NOelIHHgZezL",
        "colab_type": "text"
      },
      "source": [
        "##**Conclusion**\n",
        "This class was really amazing. The professor and the TA both were really helpful. I learnt new things about AI which I did not know about before this class. This class will is going to help me in future courses. AI is very trending in todays era and is the future of technology."
      ]
    },
    {
      "cell_type": "markdown",
      "metadata": {
        "id": "Yy9yzTYhZFcr",
        "colab_type": "text"
      },
      "source": [
        "##**Sources:**\n",
        "1. https://www.sas.com/en_us/insights/analytics/what-is-artificial-intelligence.html\n",
        "2.  https://expertsystem.com/machine-learning-definition/\n",
        "3. https://www.sas.com/en_us/insights/analytics/machine-learning.html\n",
        "4. https://towardsdatascience.com/linear-regression-using-python-b136c91bf0a2\n",
        "\n",
        "5. https://ml-cheatsheet.readthedocs.io/en/latest/gradient_descent.html\n",
        "6. https://towardsdatascience.com/what-are-overfitting-and-underfitting-in-machine-learning-a96b30864690\n",
        "7.  https://www.learnopencv.com/keras-tutorial-fine-tuning-using-pre-trained-models/\n",
        "\n",
        "\n"
      ]
    }
  ]
}