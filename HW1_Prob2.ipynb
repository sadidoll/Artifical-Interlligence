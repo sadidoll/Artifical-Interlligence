{
  "nbformat": 4,
  "nbformat_minor": 0,
  "metadata": {
    "colab": {
      "name": "HW1_Prob2.ipynb",
      "provenance": [],
      "collapsed_sections": [],
      "authorship_tag": "ABX9TyPiUy4O6SkoI/jH3FNm1a4g",
      "include_colab_link": true
    },
    "kernelspec": {
      "name": "python3",
      "display_name": "Python 3"
    }
  },
  "cells": [
    {
      "cell_type": "markdown",
      "metadata": {
        "id": "view-in-github",
        "colab_type": "text"
      },
      "source": [
        "<a href=\"https://colab.research.google.com/github/sadidoll/Artifical-Interlligence/blob/master/HW1_Prob2.ipynb\" target=\"_parent\"><img src=\"https://colab.research.google.com/assets/colab-badge.svg\" alt=\"Open In Colab\"/></a>"
      ]
    },
    {
      "cell_type": "markdown",
      "metadata": {
        "id": "ND40kbGY3oIa",
        "colab_type": "text"
      },
      "source": [
        "# **Problem 2**:\n",
        "\n",
        " Inside a colab notebook implement a Python function multiply_matrices that takes as input a list of numpy arrays and outputs their product. It should raise a custom exception if there is a pair of incompatible matrices. The exception message should provide information about which pair of matrices is bad. Make sure that you follow the style guide for Python. Also use simple markup for formatting your notebook and include a simple description of what your program does inside a text cell. You should also use some simple Latex commands, for instance, when explaining what it means for two matrices to be compatible.\n",
        "\n",
        "\n",
        "\n"
      ]
    },
    {
      "cell_type": "markdown",
      "metadata": {
        "id": "MG-J5jf8MujH",
        "colab_type": "text"
      },
      "source": [
        "#### **A function to multiply matrices**"
      ]
    },
    {
      "cell_type": "code",
      "metadata": {
        "id": "DDLWdjsL03w7",
        "colab_type": "code",
        "colab": {}
      },
      "source": [
        "import numpy as np\n",
        "def multiply_matrices(input):\n",
        "  # n is a variable that iterates over each matrix\n",
        "  n = 1\n",
        "  l = len(input)\n",
        "  if l <= 1:\n",
        "    raise Exception(\"Empty list!! Please enter atleast 2 matrices to multiply\")\n",
        "    return\n",
        "  A = input[0]\n",
        "  try:\n",
        "    for i in range(l -  1):\n",
        "      B = input[n]\n",
        "      result = np.matmul(A,B)\n",
        "      # increment n so that it can multiply with the other matrix\n",
        "      n = n + 1 \n",
        "      A = result\n",
        "    print(result)\n",
        "  except ValueError as err:\n",
        "    raise Exception(\"The following matrices are not compatible :\\n The column of the matrix shown below: \\n\"\n",
        "     + np.array2string(A) + \"\\n is not equal to the row of matrix shown below:\\n\" + np.array2string(B))\n"
      ],
      "execution_count": 0,
      "outputs": []
    },
    {
      "cell_type": "markdown",
      "metadata": {
        "id": "QjTgrmjQW49Z",
        "colab_type": "text"
      },
      "source": [
        "In order to do matrices multiplication, the column of the first matrix has to be equal to the second matrix. The following matrices shown are compatible for multiplication: "
      ]
    },
    {
      "cell_type": "markdown",
      "metadata": {
        "id": "EBmemQl1S4vl",
        "colab_type": "text"
      },
      "source": [
        "$$\\begin{bmatrix}\n",
        "    a  &  b      \\\\\n",
        "    c  &  d\n",
        "\\end{bmatrix} _{2 \\times 2}\n",
        "\\times\n",
        "\\begin{bmatrix}\n",
        "    e  &  f  &  g      \\\\\n",
        "    h  &  i  &  j\n",
        "\\end{bmatrix}_{2 \\times 3}\n",
        "=\n",
        "\\begin{bmatrix}\n",
        "    (a \\times e) + (b \\times h)  &  (a \\times f) + (b \\times i)  &  (a \\times g) + (b \\times j)      \\\\\n",
        "    (c \\times e) + (d \\times h)  &  (c \\times f) + (d \\times i)  &  (c \\times g) + (d \\times j)      \\\\\n",
        "\\end{bmatrix}_{2 \\times 3}$$"
      ]
    },
    {
      "cell_type": "markdown",
      "metadata": {
        "id": "H7__DRzeYa4W",
        "colab_type": "text"
      },
      "source": [
        "#### Below is a test case to show the multiplication of matrices by calling the function multiply_matrices()."
      ]
    },
    {
      "cell_type": "code",
      "metadata": {
        "id": "QxrFHGTZxmkW",
        "colab_type": "code",
        "colab": {
          "base_uri": "https://localhost:8080/",
          "height": 67
        },
        "outputId": "b3e7b82c-b5d2-4000-9853-d5c94814fc9d"
      },
      "source": [
        "A = np.array([[1, 5, 3], [6, 7, 8], [2, 4, 9]])\n",
        "B = np.array([[3, 0], [10, -4], [2, 7]])\n",
        "C = np.array([[6, 1, 2], [2, -3, 3]])\n",
        "result = [A,B,C]\n",
        "multiply_matrices(result)"
      ],
      "execution_count": 43,
      "outputs": [
        {
          "output_type": "stream",
          "text": [
            "[[356  56 121]\n",
            " [680  20 292]\n",
            " [478 -77 269]]\n"
          ],
          "name": "stdout"
        }
      ]
    },
    {
      "cell_type": "markdown",
      "metadata": {
        "id": "e4lb7WBGa33K",
        "colab_type": "text"
      },
      "source": [
        "#### Below is a test case to demonstrate that it raises an exception if the matrix are not compatible for multiplication:"
      ]
    },
    {
      "cell_type": "code",
      "metadata": {
        "id": "RqBedbNdeu9j",
        "colab_type": "code",
        "colab": {
          "base_uri": "https://localhost:8080/",
          "height": 522
        },
        "outputId": "0eb6b4a3-5e03-497c-d86d-3edc506d0f1a"
      },
      "source": [
        "A = np.array([[1, 5, 3], [6, 7, 8], [2, 4, 9]])\n",
        "B = np.array([[3, 0], [10, -4], [2, 7]])\n",
        "C = np.array([[6, 1, 8], [4, 7, 0],[2, -1, 3]])\n",
        "result = [A,B,C]\n",
        "multiply_matrices(result)"
      ],
      "execution_count": 44,
      "outputs": [
        {
          "output_type": "error",
          "ename": "Exception",
          "evalue": "ignored",
          "traceback": [
            "\u001b[0;31m---------------------------------------------------------------------------\u001b[0m",
            "\u001b[0;31mValueError\u001b[0m                                Traceback (most recent call last)",
            "\u001b[0;32m<ipython-input-42-fa1ba6c8f436>\u001b[0m in \u001b[0;36mmultiply_matrices\u001b[0;34m(input)\u001b[0m\n\u001b[1;32m     12\u001b[0m       \u001b[0mB\u001b[0m \u001b[0;34m=\u001b[0m \u001b[0minput\u001b[0m\u001b[0;34m[\u001b[0m\u001b[0mn\u001b[0m\u001b[0;34m]\u001b[0m\u001b[0;34m\u001b[0m\u001b[0;34m\u001b[0m\u001b[0m\n\u001b[0;32m---> 13\u001b[0;31m       \u001b[0mresult\u001b[0m \u001b[0;34m=\u001b[0m \u001b[0mnp\u001b[0m\u001b[0;34m.\u001b[0m\u001b[0mmatmul\u001b[0m\u001b[0;34m(\u001b[0m\u001b[0mA\u001b[0m\u001b[0;34m,\u001b[0m\u001b[0mB\u001b[0m\u001b[0;34m)\u001b[0m\u001b[0;34m\u001b[0m\u001b[0;34m\u001b[0m\u001b[0m\n\u001b[0m\u001b[1;32m     14\u001b[0m       \u001b[0;31m# increment n so that it can multiply with the other matrix\u001b[0m\u001b[0;34m\u001b[0m\u001b[0;34m\u001b[0m\u001b[0;34m\u001b[0m\u001b[0m\n",
            "\u001b[0;31mValueError\u001b[0m: matmul: Input operand 1 has a mismatch in its core dimension 0, with gufunc signature (n?,k),(k,m?)->(n?,m?) (size 3 is different from 2)",
            "\nDuring handling of the above exception, another exception occurred:\n",
            "\u001b[0;31mException\u001b[0m                                 Traceback (most recent call last)",
            "\u001b[0;32m<ipython-input-44-e77320f5ec46>\u001b[0m in \u001b[0;36m<module>\u001b[0;34m()\u001b[0m\n\u001b[1;32m      3\u001b[0m \u001b[0mC\u001b[0m \u001b[0;34m=\u001b[0m \u001b[0mnp\u001b[0m\u001b[0;34m.\u001b[0m\u001b[0marray\u001b[0m\u001b[0;34m(\u001b[0m\u001b[0;34m[\u001b[0m\u001b[0;34m[\u001b[0m\u001b[0;36m6\u001b[0m\u001b[0;34m,\u001b[0m \u001b[0;36m1\u001b[0m\u001b[0;34m,\u001b[0m \u001b[0;36m8\u001b[0m\u001b[0;34m]\u001b[0m\u001b[0;34m,\u001b[0m \u001b[0;34m[\u001b[0m\u001b[0;36m4\u001b[0m\u001b[0;34m,\u001b[0m \u001b[0;36m7\u001b[0m\u001b[0;34m,\u001b[0m \u001b[0;36m0\u001b[0m\u001b[0;34m]\u001b[0m\u001b[0;34m,\u001b[0m\u001b[0;34m[\u001b[0m\u001b[0;36m2\u001b[0m\u001b[0;34m,\u001b[0m \u001b[0;34m-\u001b[0m\u001b[0;36m1\u001b[0m\u001b[0;34m,\u001b[0m \u001b[0;36m3\u001b[0m\u001b[0;34m]\u001b[0m\u001b[0;34m]\u001b[0m\u001b[0;34m)\u001b[0m\u001b[0;34m\u001b[0m\u001b[0;34m\u001b[0m\u001b[0m\n\u001b[1;32m      4\u001b[0m \u001b[0mresult\u001b[0m \u001b[0;34m=\u001b[0m \u001b[0;34m[\u001b[0m\u001b[0mA\u001b[0m\u001b[0;34m,\u001b[0m\u001b[0mB\u001b[0m\u001b[0;34m,\u001b[0m\u001b[0mC\u001b[0m\u001b[0;34m]\u001b[0m\u001b[0;34m\u001b[0m\u001b[0;34m\u001b[0m\u001b[0m\n\u001b[0;32m----> 5\u001b[0;31m \u001b[0mmultiply_matrices\u001b[0m\u001b[0;34m(\u001b[0m\u001b[0mresult\u001b[0m\u001b[0;34m)\u001b[0m\u001b[0;34m\u001b[0m\u001b[0;34m\u001b[0m\u001b[0m\n\u001b[0m",
            "\u001b[0;32m<ipython-input-42-fa1ba6c8f436>\u001b[0m in \u001b[0;36mmultiply_matrices\u001b[0;34m(input)\u001b[0m\n\u001b[1;32m     18\u001b[0m   \u001b[0;32mexcept\u001b[0m \u001b[0mValueError\u001b[0m \u001b[0;32mas\u001b[0m \u001b[0merr\u001b[0m\u001b[0;34m:\u001b[0m\u001b[0;34m\u001b[0m\u001b[0;34m\u001b[0m\u001b[0m\n\u001b[1;32m     19\u001b[0m     raise Exception(\"The following matrices are not compatible :\\n The column of the matrix shown below: \\n\"\n\u001b[0;32m---> 20\u001b[0;31m      + np.array2string(A) + \"\\n is not equal to the row of matrix shown below:\\n\" + np.array2string(B))\n\u001b[0m",
            "\u001b[0;31mException\u001b[0m: The following matrices are not compatible :\n The column of the matrix shown below: \n[[ 59   1]\n [104  28]\n [ 64  47]]\n is not equal to the row of matrix shown below:\n[[ 6  1  8]\n [ 4  7  0]\n [ 2 -1  3]]"
          ]
        }
      ]
    },
    {
      "cell_type": "markdown",
      "metadata": {
        "id": "qLJBYw57baxW",
        "colab_type": "text"
      },
      "source": [
        "#### Below is a test case to demonstarte that it raises exception if the list is empty:"
      ]
    },
    {
      "cell_type": "code",
      "metadata": {
        "id": "5TLgUbreWHOS",
        "colab_type": "code",
        "colab": {
          "base_uri": "https://localhost:8080/",
          "height": 296
        },
        "outputId": "c1f2a1a8-4467-492e-d99a-519dd625f342"
      },
      "source": [
        "result = []\n",
        "multiply_matrices(result)"
      ],
      "execution_count": 45,
      "outputs": [
        {
          "output_type": "error",
          "ename": "Exception",
          "evalue": "ignored",
          "traceback": [
            "\u001b[0;31m---------------------------------------------------------------------------\u001b[0m",
            "\u001b[0;31mException\u001b[0m                                 Traceback (most recent call last)",
            "\u001b[0;32m<ipython-input-45-b135d72efa6a>\u001b[0m in \u001b[0;36m<module>\u001b[0;34m()\u001b[0m\n\u001b[1;32m      1\u001b[0m \u001b[0mresult\u001b[0m \u001b[0;34m=\u001b[0m \u001b[0;34m[\u001b[0m\u001b[0;34m]\u001b[0m\u001b[0;34m\u001b[0m\u001b[0;34m\u001b[0m\u001b[0m\n\u001b[0;32m----> 2\u001b[0;31m \u001b[0mmultiply_matrices\u001b[0m\u001b[0;34m(\u001b[0m\u001b[0mresult\u001b[0m\u001b[0;34m)\u001b[0m\u001b[0;34m\u001b[0m\u001b[0;34m\u001b[0m\u001b[0m\n\u001b[0m",
            "\u001b[0;32m<ipython-input-42-fa1ba6c8f436>\u001b[0m in \u001b[0;36mmultiply_matrices\u001b[0;34m(input)\u001b[0m\n\u001b[1;32m      5\u001b[0m   \u001b[0ml\u001b[0m \u001b[0;34m=\u001b[0m \u001b[0mlen\u001b[0m\u001b[0;34m(\u001b[0m\u001b[0minput\u001b[0m\u001b[0;34m)\u001b[0m\u001b[0;34m\u001b[0m\u001b[0;34m\u001b[0m\u001b[0m\n\u001b[1;32m      6\u001b[0m   \u001b[0;32mif\u001b[0m \u001b[0ml\u001b[0m \u001b[0;34m<=\u001b[0m \u001b[0;36m1\u001b[0m\u001b[0;34m:\u001b[0m\u001b[0;34m\u001b[0m\u001b[0;34m\u001b[0m\u001b[0m\n\u001b[0;32m----> 7\u001b[0;31m     \u001b[0;32mraise\u001b[0m \u001b[0mException\u001b[0m\u001b[0;34m(\u001b[0m\u001b[0;34m\"Empty list!! Please enter atleast 2 matrices to multiply\"\u001b[0m\u001b[0;34m)\u001b[0m\u001b[0;34m\u001b[0m\u001b[0;34m\u001b[0m\u001b[0m\n\u001b[0m\u001b[1;32m      8\u001b[0m     \u001b[0;32mreturn\u001b[0m\u001b[0;34m\u001b[0m\u001b[0;34m\u001b[0m\u001b[0m\n\u001b[1;32m      9\u001b[0m   \u001b[0mA\u001b[0m \u001b[0;34m=\u001b[0m \u001b[0minput\u001b[0m\u001b[0;34m[\u001b[0m\u001b[0;36m0\u001b[0m\u001b[0;34m]\u001b[0m\u001b[0;34m\u001b[0m\u001b[0;34m\u001b[0m\u001b[0m\n",
            "\u001b[0;31mException\u001b[0m: Empty list!! Please enter atleast 2 matrices to multiply"
          ]
        }
      ]
    }
  ]
}