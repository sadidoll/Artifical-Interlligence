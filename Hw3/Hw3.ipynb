{
  "nbformat": 4,
  "nbformat_minor": 0,
  "metadata": {
    "colab": {
      "name": "Untitled4.ipynb",
      "provenance": [],
      "authorship_tag": "ABX9TyP9Wm5H9fJEhWfABzUF4rKe",
      "include_colab_link": true
    },
    "kernelspec": {
      "name": "python3",
      "display_name": "Python 3"
    }
  },
  "cells": [
    {
      "cell_type": "markdown",
      "metadata": {
        "id": "view-in-github",
        "colab_type": "text"
      },
      "source": [
        "<a href=\"https://colab.research.google.com/github/sadidoll/Artifical-Interlligence/blob/master/Hw3/Hw3.ipynb\" target=\"_parent\"><img src=\"https://colab.research.google.com/assets/colab-badge.svg\" alt=\"Open In Colab\"/></a>"
      ]
    },
    {
      "cell_type": "markdown",
      "metadata": {
        "id": "LVyJRCo2S_82",
        "colab_type": "text"
      },
      "source": [
        "#**Homework 3**\n",
        "\n",
        "###**Problem 1:**\n",
        "Implement the function get_random_data(w, b, mu, sigma, m) that generates random data for logisitic regression with two features features x_1 and x_2. This function should return the array data of shape (m, 2) and the array labels of shape (m, 1).\n",
        "\n",
        "The entries of the arrays should be generated as follows. For each row i in {0, 1, ..., m-1}:\n",
        " \n",
        "* Choose class label c=0 with probability 1/2 and c=1 with probability 1/2.\n",
        "* Choose the first feature x_1 uniformly at random in the interval [0, 1).\n",
        "* Set the second feature x_2 to be x_2 = w * x_1 + b + (-1)^c * n, where the \"noise\" n is chosen according to the normal distribution with mean mu and standard deviation sigma.\n",
        "* The ith row of the array data consists of the features x_1 and x_2.\n",
        "* The ith entry of the vector labels is the class label c.\n",
        "\n",
        "Implement the function display_random_data that takes as input the above two arrays labels and data. It should create scatter plot of the 2D points stored in data. Use red dots to plot the points whose labels are 1 and blue dots to plot the points whose labels are 0.\n",
        "\n",
        "Hints: You should see that the 2D points (feature vectors) corresponding to different classes are approximately separated by the line y = w * x + b, where w and b are the parameters that you used to generate the data. Note that the smaller the parameter mu, the closer the points are to this line. Also, the larger the parameter sigma, the more points can be on the wrong side of this line.\n",
        "\n",
        "Experiment with different values of mu and sigma. Make sure that the parameter m is large enough so you have enough data points.\n",
        "\n",
        "Split the data/labels into a training set (80%) and a test set (20%)."
      ]
    },
    {
      "cell_type": "code",
      "metadata": {
        "id": "ZhZexLkiH330",
        "colab_type": "code",
        "colab": {}
      },
      "source": [
        "import random\n",
        "import matplotlib\n",
        "import matplotlib.pyplot as plt\n",
        "import numpy as np\n",
        "import time\n",
        "#import sklearn.model_selection import train_test_split"
      ],
      "execution_count": 0,
      "outputs": []
    },
    {
      "cell_type": "code",
      "metadata": {
        "id": "i8MFcEWPVhVS",
        "colab_type": "code",
        "colab": {}
      },
      "source": [
        "def get_random_data(w, b, mu, sigma, m):\n",
        " \n",
        "  # Generating first feature x_1 uniformly at random \n",
        "  x_1 = np.random.uniform(0, 1, size=(m,1))\n",
        "  # Generating the label array with zeros and ones\n",
        "  labels = np.random.choice([0,1], size=(m,1))\n",
        "  # n is chosen according to the normal distribution with mean mu and standard deviation sigma\n",
        "  # Genreating random data \n",
        "  n = np.random.normal(mu, sigma, size=(m,1))\n",
        "\n",
        "  # Setting the second feature x_2\n",
        "  x_2 = w * x_1 + b + (-1)** labels * n\n",
        "\n",
        "  # Concatenating x_1 and x_2 fatures\n",
        "  data = np.concatenate((x_1,x_2), axis = 1)\n",
        "\n",
        "  return data,labels\n",
        "\n",
        "    "
      ],
      "execution_count": 0,
      "outputs": []
    },
    {
      "cell_type": "code",
      "metadata": {
        "id": "7_raWvbHj9GQ",
        "colab_type": "code",
        "colab": {
          "base_uri": "https://localhost:8080/",
          "height": 296
        },
        "outputId": "8d466fa3-b484-4e78-eeed-413d142149b6"
      },
      "source": [
        "train_size = m * 0.8\n",
        "\n",
        "data = np.array(data)\n",
        "labels = np.array(labels)\n",
        "\n",
        "def display_random_data(labels, data):\n",
        "  plt.figure()\n",
        "  j = labels.flatten()\n",
        "  #for x in range(0,m):\n",
        "  #if label is 0 then blue points if 1 be red points\n",
        "  data_0 = data[j == 0,:]\n",
        "  plt.scatter(data_0[:,0],data_0 [:,1], c = 'blue', label = 'Class 0')\n",
        "  data_1 = data[j == 1,:]\n",
        "  plt.scatter(data_1[:,0],data_1 [:,1], c = 'red', label = 'Class 1')\n",
        "\n",
        "  x = np.linspace(0,1)\n",
        "  y = w * x + b\n",
        "  #plot the true line\n",
        "  plt.plot(x,y,'black')\n",
        "  plt.title('Randomly Generated Data')\n",
        "  plt.xlabel('x_1')\n",
        "  plt.ylabel('x_2')\n",
        "  plt.legend()\n",
        "  plt.show()\n",
        "\n",
        "# Function to split the data\n",
        "def split_data(data, labels):\n",
        "  # Spliting the data with a 80:20 ratio\n",
        "  test_data = data[(int)(train_size):]\n",
        "  train_data = data[:(int)(train_size)]\n",
        "  train_labels = labels[:(int)(train_size)]\n",
        "  test_labels = labels[(int)(train_size):]\n",
        "\n",
        "  return train_data, test_data, train_labels, test_labels\n",
        "\n",
        "#display the data\n",
        "mu = 5\n",
        "sigma = 1.5\n",
        "m = 1000\n",
        "w = 2\n",
        "b = 2\n",
        "\n",
        "data, labels = get_random_data(w,b,mu,sigma,m)\n",
        "display_random_data(labels,data)\n",
        "train_data, test_data, train_labels, test_labels = split_data(data, labels)"
      ],
      "execution_count": 252,
      "outputs": [
        {
          "output_type": "display_data",
          "data": {
            "image/png": "[encoded data removed]",
            "text/plain": [
              "<Figure size 432x288 with 1 Axes>"
            ]
          },
          "metadata": {
            "tags": []
          }
        }
      ]
    },
    {
      "cell_type": "markdown",
      "metadata": {
        "id": "K65-XG4u9Kkf",
        "colab_type": "text"
      },
      "source": [
        "###**Problem 2:**\n",
        "Create a Keras to implement logistic regression with two features and train it with the data generated in Problem 1. The loss should be the binary cross entropy loss.\n",
        "\n",
        "How well does the trained model separate the red and blue dots? You can obtain the separating line determined by the model by extracting the weights from the dense layer using the function get_weights. See https://keras.io/layers/about-keras-layers/.\n",
        "\n",
        "Create a plot showing the random data, the true line used to generate the data, and the separating line of the trained model. Make sure that you describe in detail in your notebook how you proceed to obtain the separating line.\n",
        "\n",
        "Note that you have to carry out some simple steps to obtain the separating line from the model weights (the two weights and the bias term of the dense layer). This is not immediately obvious. It maybe helpful to take a look at the heatmap below.\n",
        "\n",
        "The trained model realizes function f : R^2 -> R that takes two features as input and outputs a number in the interval [0, 1]. Use a heatmap to visualize this function."
      ]
    },
    {
      "cell_type": "code",
      "metadata": {
        "id": "F8V8hXwS9eSu",
        "colab_type": "code",
        "colab": {}
      },
      "source": [
        "import tensorflow as tf\n",
        "from tensorflow.python.keras.layers import Dense\n",
        "from tensorflow.python.keras import initializers\n",
        "from tensorflow.python.keras import Sequential\n",
        "from tensorflow.python.keras import optimizers"
      ],
      "execution_count": 0,
      "outputs": []
    },
    {
      "cell_type": "code",
      "metadata": {
        "id": "tqhPSkuL-Dq8",
        "colab_type": "code",
        "colab": {
          "base_uri": "https://localhost:8080/",
          "height": 1000
        },
        "outputId": "5bfa6977-ed66-4949-c459-0949b9733373"
      },
      "source": [
        "# Defining the model\n",
        "keras_model = Sequential()\n",
        "# Adding a dense layer to the model\n",
        "keras_model.add(Dense(1,input_shape = (2,), activation = 'sigmoid', bias_initializer=initializers.Constant(1),))\n",
        "# Compliing the network\n",
        "keras_model.compile(optimizer='rmsprop', loss ='binary_crossentropy', metrics = ['accuracy'])\n",
        "\n",
        "#w = keras_model.layers[0].get_weights()[0]\n",
        "#b = keras_model.layers[0].get_weights()[1]\n",
        "#print(w)\n",
        "#print(b)\n",
        "# Compiling and training the model on the data\n",
        "#epochs = 100\n",
        "#batch_size = 512\n",
        "keras_model.summary()\n",
        "history = keras_model.fit(train_data,train_labels,epochs = 100, batch_size = 512,\n",
        "                          validation_data = (test_data,test_labels))\n",
        "\n"
      ],
      "execution_count": 254,
      "outputs": [
        {
          "output_type": "stream",
          "text": [
            "Model: \"sequential_24\"\n",
            "_________________________________________________________________\n",
            "Layer (type)                 Output Shape              Param #   \n",
            "=================================================================\n",
            "dense_21 (Dense)             (None, 1)                 3         \n",
            "=================================================================\n",
            "Total params: 3\n",
            "Trainable params: 3\n",
            "Non-trainable params: 0\n",
            "_________________________________________________________________\n",
            "Epoch 1/100\n",
            "2/2 [==============================] - 0s 56ms/step - loss: 1.0604 - accuracy: 0.5038 - val_loss: 0.9847 - val_accuracy: 0.5400\n",
            "Epoch 2/100\n",
            "2/2 [==============================] - 0s 19ms/step - loss: 1.0323 - accuracy: 0.5038 - val_loss: 0.9717 - val_accuracy: 0.5400\n",
            "Epoch 3/100\n",
            "2/2 [==============================] - 0s 19ms/step - loss: 1.0256 - accuracy: 0.5038 - val_loss: 0.9607 - val_accuracy: 0.5400\n",
            "Epoch 4/100\n",
            "2/2 [==============================] - 0s 19ms/step - loss: 1.0086 - accuracy: 0.5038 - val_loss: 0.9510 - val_accuracy: 0.5400\n",
            "Epoch 5/100\n",
            "2/2 [==============================] - 0s 19ms/step - loss: 1.0013 - accuracy: 0.5038 - val_loss: 0.9420 - val_accuracy: 0.5400\n",
            "Epoch 6/100\n",
            "2/2 [==============================] - 0s 19ms/step - loss: 0.9922 - accuracy: 0.5038 - val_loss: 0.9335 - val_accuracy: 0.5400\n",
            "Epoch 7/100\n",
            "2/2 [==============================] - 0s 20ms/step - loss: 0.9910 - accuracy: 0.5038 - val_loss: 0.9253 - val_accuracy: 0.5400\n",
            "Epoch 8/100\n",
            "2/2 [==============================] - 0s 21ms/step - loss: 0.9811 - accuracy: 0.5038 - val_loss: 0.9173 - val_accuracy: 0.5400\n",
            "Epoch 9/100\n",
            "2/2 [==============================] - 0s 20ms/step - loss: 0.9670 - accuracy: 0.5038 - val_loss: 0.9097 - val_accuracy: 0.5400\n",
            "Epoch 10/100\n",
            "2/2 [==============================] - 0s 19ms/step - loss: 0.9678 - accuracy: 0.5038 - val_loss: 0.9021 - val_accuracy: 0.5400\n",
            "Epoch 11/100\n",
            "2/2 [==============================] - 0s 26ms/step - loss: 0.9464 - accuracy: 0.5038 - val_loss: 0.8949 - val_accuracy: 0.5400\n",
            "Epoch 12/100\n",
            "2/2 [==============================] - 0s 18ms/step - loss: 0.9384 - accuracy: 0.5038 - val_loss: 0.8877 - val_accuracy: 0.5400\n",
            "Epoch 13/100\n",
            "2/2 [==============================] - 0s 17ms/step - loss: 0.9395 - accuracy: 0.5038 - val_loss: 0.8806 - val_accuracy: 0.5400\n",
            "Epoch 14/100\n",
            "2/2 [==============================] - 0s 21ms/step - loss: 0.9243 - accuracy: 0.5038 - val_loss: 0.8736 - val_accuracy: 0.5400\n",
            "Epoch 15/100\n",
            "2/2 [==============================] - 0s 18ms/step - loss: 0.9150 - accuracy: 0.5038 - val_loss: 0.8667 - val_accuracy: 0.5400\n",
            "Epoch 16/100\n",
            "2/2 [==============================] - 0s 21ms/step - loss: 0.9193 - accuracy: 0.5038 - val_loss: 0.8597 - val_accuracy: 0.5400\n",
            "Epoch 17/100\n",
            "2/2 [==============================] - 0s 18ms/step - loss: 0.9099 - accuracy: 0.5038 - val_loss: 0.8528 - val_accuracy: 0.5400\n",
            "Epoch 18/100\n",
            "2/2 [==============================] - 0s 21ms/step - loss: 0.8849 - accuracy: 0.5038 - val_loss: 0.8462 - val_accuracy: 0.5400\n",
            "Epoch 19/100\n",
            "2/2 [==============================] - 0s 20ms/step - loss: 0.8848 - accuracy: 0.5038 - val_loss: 0.8395 - val_accuracy: 0.5400\n",
            "Epoch 20/100\n",
            "2/2 [==============================] - 0s 22ms/step - loss: 0.8834 - accuracy: 0.5038 - val_loss: 0.8328 - val_accuracy: 0.5400\n",
            "Epoch 21/100\n",
            "2/2 [==============================] - 0s 17ms/step - loss: 0.8719 - accuracy: 0.5038 - val_loss: 0.8262 - val_accuracy: 0.5400\n",
            "Epoch 22/100\n",
            "2/2 [==============================] - 0s 17ms/step - loss: 0.8681 - accuracy: 0.5038 - val_loss: 0.8195 - val_accuracy: 0.5400\n",
            "Epoch 23/100\n",
            "2/2 [==============================] - 0s 17ms/step - loss: 0.8666 - accuracy: 0.5038 - val_loss: 0.8129 - val_accuracy: 0.5400\n",
            "Epoch 24/100\n",
            "2/2 [==============================] - 0s 17ms/step - loss: 0.8633 - accuracy: 0.5038 - val_loss: 0.8062 - val_accuracy: 0.5400\n",
            "Epoch 25/100\n",
            "2/2 [==============================] - 0s 18ms/step - loss: 0.8397 - accuracy: 0.5038 - val_loss: 0.7998 - val_accuracy: 0.5400\n",
            "Epoch 26/100\n",
            "2/2 [==============================] - 0s 20ms/step - loss: 0.8407 - accuracy: 0.5038 - val_loss: 0.7934 - val_accuracy: 0.5400\n",
            "Epoch 27/100\n",
            "2/2 [==============================] - 0s 18ms/step - loss: 0.8247 - accuracy: 0.5038 - val_loss: 0.7870 - val_accuracy: 0.5400\n",
            "Epoch 28/100\n",
            "2/2 [==============================] - 0s 17ms/step - loss: 0.8371 - accuracy: 0.5038 - val_loss: 0.7805 - val_accuracy: 0.5400\n",
            "Epoch 29/100\n",
            "2/2 [==============================] - 0s 18ms/step - loss: 0.8115 - accuracy: 0.5038 - val_loss: 0.7743 - val_accuracy: 0.5400\n",
            "Epoch 30/100\n",
            "2/2 [==============================] - 0s 21ms/step - loss: 0.8074 - accuracy: 0.5038 - val_loss: 0.7680 - val_accuracy: 0.5400\n",
            "Epoch 31/100\n",
            "2/2 [==============================] - 0s 19ms/step - loss: 0.7999 - accuracy: 0.5038 - val_loss: 0.7617 - val_accuracy: 0.5400\n",
            "Epoch 32/100\n",
            "2/2 [==============================] - 0s 18ms/step - loss: 0.7895 - accuracy: 0.5038 - val_loss: 0.7556 - val_accuracy: 0.5400\n",
            "Epoch 33/100\n",
            "2/2 [==============================] - 0s 17ms/step - loss: 0.7858 - accuracy: 0.5038 - val_loss: 0.7495 - val_accuracy: 0.5400\n",
            "Epoch 34/100\n",
            "2/2 [==============================] - 0s 18ms/step - loss: 0.7953 - accuracy: 0.5038 - val_loss: 0.7432 - val_accuracy: 0.5400\n",
            "Epoch 35/100\n",
            "2/2 [==============================] - 0s 20ms/step - loss: 0.7745 - accuracy: 0.5038 - val_loss: 0.7371 - val_accuracy: 0.5400\n",
            "Epoch 36/100\n",
            "2/2 [==============================] - 0s 19ms/step - loss: 0.7622 - accuracy: 0.5038 - val_loss: 0.7311 - val_accuracy: 0.5400\n",
            "Epoch 37/100\n",
            "2/2 [==============================] - 0s 18ms/step - loss: 0.7494 - accuracy: 0.5038 - val_loss: 0.7251 - val_accuracy: 0.5400\n",
            "Epoch 38/100\n",
            "2/2 [==============================] - 0s 18ms/step - loss: 0.7556 - accuracy: 0.5038 - val_loss: 0.7190 - val_accuracy: 0.5400\n",
            "Epoch 39/100\n",
            "2/2 [==============================] - 0s 22ms/step - loss: 0.7561 - accuracy: 0.5038 - val_loss: 0.7130 - val_accuracy: 0.5400\n",
            "Epoch 40/100\n",
            "2/2 [==============================] - 0s 20ms/step - loss: 0.7374 - accuracy: 0.5038 - val_loss: 0.7071 - val_accuracy: 0.5400\n",
            "Epoch 41/100\n",
            "2/2 [==============================] - 0s 18ms/step - loss: 0.7254 - accuracy: 0.5038 - val_loss: 0.7013 - val_accuracy: 0.5400\n",
            "Epoch 42/100\n",
            "2/2 [==============================] - 0s 17ms/step - loss: 0.7276 - accuracy: 0.5038 - val_loss: 0.6954 - val_accuracy: 0.5400\n",
            "Epoch 43/100\n",
            "2/2 [==============================] - 0s 18ms/step - loss: 0.7179 - accuracy: 0.5038 - val_loss: 0.6896 - val_accuracy: 0.5400\n",
            "Epoch 44/100\n",
            "2/2 [==============================] - 0s 19ms/step - loss: 0.7077 - accuracy: 0.5038 - val_loss: 0.6840 - val_accuracy: 0.5400\n",
            "Epoch 45/100\n",
            "2/2 [==============================] - 0s 19ms/step - loss: 0.7060 - accuracy: 0.5038 - val_loss: 0.6782 - val_accuracy: 0.5400\n",
            "Epoch 46/100\n",
            "2/2 [==============================] - 0s 17ms/step - loss: 0.7019 - accuracy: 0.5038 - val_loss: 0.6725 - val_accuracy: 0.5400\n",
            "Epoch 47/100\n",
            "2/2 [==============================] - 0s 17ms/step - loss: 0.6924 - accuracy: 0.5038 - val_loss: 0.6668 - val_accuracy: 0.5400\n",
            "Epoch 48/100\n",
            "2/2 [==============================] - 0s 17ms/step - loss: 0.6903 - accuracy: 0.5038 - val_loss: 0.6611 - val_accuracy: 0.5400\n",
            "Epoch 49/100\n",
            "2/2 [==============================] - 0s 23ms/step - loss: 0.6830 - accuracy: 0.5038 - val_loss: 0.6555 - val_accuracy: 0.5400\n",
            "Epoch 50/100\n",
            "2/2 [==============================] - 0s 17ms/step - loss: 0.6820 - accuracy: 0.5038 - val_loss: 0.6499 - val_accuracy: 0.5400\n",
            "Epoch 51/100\n",
            "2/2 [==============================] - 0s 17ms/step - loss: 0.6748 - accuracy: 0.5038 - val_loss: 0.6443 - val_accuracy: 0.5400\n",
            "Epoch 52/100\n",
            "2/2 [==============================] - 0s 17ms/step - loss: 0.6662 - accuracy: 0.5038 - val_loss: 0.6388 - val_accuracy: 0.5400\n",
            "Epoch 53/100\n",
            "2/2 [==============================] - 0s 18ms/step - loss: 0.6596 - accuracy: 0.5038 - val_loss: 0.6333 - val_accuracy: 0.5400\n",
            "Epoch 54/100\n",
            "2/2 [==============================] - 0s 18ms/step - loss: 0.6560 - accuracy: 0.5038 - val_loss: 0.6279 - val_accuracy: 0.5400\n",
            "Epoch 55/100\n",
            "2/2 [==============================] - 0s 20ms/step - loss: 0.6442 - accuracy: 0.5038 - val_loss: 0.6226 - val_accuracy: 0.5400\n",
            "Epoch 56/100\n",
            "2/2 [==============================] - 0s 19ms/step - loss: 0.6450 - accuracy: 0.5038 - val_loss: 0.6172 - val_accuracy: 0.5400\n",
            "Epoch 57/100\n",
            "2/2 [==============================] - 0s 18ms/step - loss: 0.6317 - accuracy: 0.5038 - val_loss: 0.6120 - val_accuracy: 0.5400\n",
            "Epoch 58/100\n",
            "2/2 [==============================] - 0s 22ms/step - loss: 0.6268 - accuracy: 0.5038 - val_loss: 0.6068 - val_accuracy: 0.5400\n",
            "Epoch 59/100\n",
            "2/2 [==============================] - 0s 17ms/step - loss: 0.6213 - accuracy: 0.5038 - val_loss: 0.6016 - val_accuracy: 0.5400\n",
            "Epoch 60/100\n",
            "2/2 [==============================] - 0s 17ms/step - loss: 0.6212 - accuracy: 0.5038 - val_loss: 0.5964 - val_accuracy: 0.5400\n",
            "Epoch 61/100\n",
            "2/2 [==============================] - 0s 18ms/step - loss: 0.6143 - accuracy: 0.5038 - val_loss: 0.5912 - val_accuracy: 0.5400\n",
            "Epoch 62/100\n",
            "2/2 [==============================] - 0s 18ms/step - loss: 0.6027 - accuracy: 0.5038 - val_loss: 0.5862 - val_accuracy: 0.5400\n",
            "Epoch 63/100\n",
            "2/2 [==============================] - 0s 19ms/step - loss: 0.6056 - accuracy: 0.5038 - val_loss: 0.5811 - val_accuracy: 0.5400\n",
            "Epoch 64/100\n",
            "2/2 [==============================] - 0s 20ms/step - loss: 0.5964 - accuracy: 0.5038 - val_loss: 0.5761 - val_accuracy: 0.5400\n",
            "Epoch 65/100\n",
            "2/2 [==============================] - 0s 17ms/step - loss: 0.5931 - accuracy: 0.5038 - val_loss: 0.5711 - val_accuracy: 0.5400\n",
            "Epoch 66/100\n",
            "2/2 [==============================] - 0s 17ms/step - loss: 0.5883 - accuracy: 0.5038 - val_loss: 0.5661 - val_accuracy: 0.5400\n",
            "Epoch 67/100\n",
            "2/2 [==============================] - 0s 17ms/step - loss: 0.5846 - accuracy: 0.5038 - val_loss: 0.5612 - val_accuracy: 0.5400\n",
            "Epoch 68/100\n",
            "2/2 [==============================] - 0s 21ms/step - loss: 0.5745 - accuracy: 0.5038 - val_loss: 0.5564 - val_accuracy: 0.5400\n",
            "Epoch 69/100\n",
            "2/2 [==============================] - 0s 19ms/step - loss: 0.5650 - accuracy: 0.5050 - val_loss: 0.5517 - val_accuracy: 0.5400\n",
            "Epoch 70/100\n",
            "2/2 [==============================] - 0s 19ms/step - loss: 0.5603 - accuracy: 0.5075 - val_loss: 0.5470 - val_accuracy: 0.5450\n",
            "Epoch 71/100\n",
            "2/2 [==============================] - 0s 18ms/step - loss: 0.5559 - accuracy: 0.5150 - val_loss: 0.5423 - val_accuracy: 0.5500\n",
            "Epoch 72/100\n",
            "2/2 [==============================] - 0s 18ms/step - loss: 0.5517 - accuracy: 0.5238 - val_loss: 0.5377 - val_accuracy: 0.5500\n",
            "Epoch 73/100\n",
            "2/2 [==============================] - 0s 17ms/step - loss: 0.5437 - accuracy: 0.5412 - val_loss: 0.5331 - val_accuracy: 0.5550\n",
            "Epoch 74/100\n",
            "2/2 [==============================] - 0s 19ms/step - loss: 0.5403 - accuracy: 0.5512 - val_loss: 0.5285 - val_accuracy: 0.5650\n",
            "Epoch 75/100\n",
            "2/2 [==============================] - 0s 20ms/step - loss: 0.5402 - accuracy: 0.5625 - val_loss: 0.5240 - val_accuracy: 0.5800\n",
            "Epoch 76/100\n",
            "2/2 [==============================] - 0s 18ms/step - loss: 0.5345 - accuracy: 0.5763 - val_loss: 0.5194 - val_accuracy: 0.5850\n",
            "Epoch 77/100\n",
            "2/2 [==============================] - 0s 20ms/step - loss: 0.5272 - accuracy: 0.5962 - val_loss: 0.5149 - val_accuracy: 0.6050\n",
            "Epoch 78/100\n",
            "2/2 [==============================] - 0s 19ms/step - loss: 0.5239 - accuracy: 0.6162 - val_loss: 0.5104 - val_accuracy: 0.6150\n",
            "Epoch 79/100\n",
            "2/2 [==============================] - 0s 18ms/step - loss: 0.5218 - accuracy: 0.6425 - val_loss: 0.5059 - val_accuracy: 0.6300\n",
            "Epoch 80/100\n",
            "2/2 [==============================] - 0s 19ms/step - loss: 0.5087 - accuracy: 0.6650 - val_loss: 0.5017 - val_accuracy: 0.6450\n",
            "Epoch 81/100\n",
            "2/2 [==============================] - 0s 18ms/step - loss: 0.5124 - accuracy: 0.6850 - val_loss: 0.4973 - val_accuracy: 0.6600\n",
            "Epoch 82/100\n",
            "2/2 [==============================] - 0s 22ms/step - loss: 0.5084 - accuracy: 0.7175 - val_loss: 0.4930 - val_accuracy: 0.6900\n",
            "Epoch 83/100\n",
            "2/2 [==============================] - 0s 19ms/step - loss: 0.4964 - accuracy: 0.7337 - val_loss: 0.4888 - val_accuracy: 0.7150\n",
            "Epoch 84/100\n",
            "2/2 [==============================] - 0s 18ms/step - loss: 0.4973 - accuracy: 0.7525 - val_loss: 0.4846 - val_accuracy: 0.7550\n",
            "Epoch 85/100\n",
            "2/2 [==============================] - 0s 18ms/step - loss: 0.4889 - accuracy: 0.7638 - val_loss: 0.4804 - val_accuracy: 0.8050\n",
            "Epoch 86/100\n",
            "2/2 [==============================] - 0s 17ms/step - loss: 0.4805 - accuracy: 0.7850 - val_loss: 0.4764 - val_accuracy: 0.8300\n",
            "Epoch 87/100\n",
            "2/2 [==============================] - 0s 22ms/step - loss: 0.4816 - accuracy: 0.8037 - val_loss: 0.4724 - val_accuracy: 0.8350\n",
            "Epoch 88/100\n",
            "2/2 [==============================] - 0s 20ms/step - loss: 0.4764 - accuracy: 0.8238 - val_loss: 0.4684 - val_accuracy: 0.8600\n",
            "Epoch 89/100\n",
            "2/2 [==============================] - 0s 19ms/step - loss: 0.4721 - accuracy: 0.8413 - val_loss: 0.4644 - val_accuracy: 0.8750\n",
            "Epoch 90/100\n",
            "2/2 [==============================] - 0s 18ms/step - loss: 0.4669 - accuracy: 0.8612 - val_loss: 0.4604 - val_accuracy: 0.8950\n",
            "Epoch 91/100\n",
            "2/2 [==============================] - 0s 19ms/step - loss: 0.4624 - accuracy: 0.8737 - val_loss: 0.4566 - val_accuracy: 0.8950\n",
            "Epoch 92/100\n",
            "2/2 [==============================] - 0s 18ms/step - loss: 0.4596 - accuracy: 0.8863 - val_loss: 0.4526 - val_accuracy: 0.9100\n",
            "Epoch 93/100\n",
            "2/2 [==============================] - 0s 18ms/step - loss: 0.4540 - accuracy: 0.8988 - val_loss: 0.4488 - val_accuracy: 0.9200\n",
            "Epoch 94/100\n",
            "2/2 [==============================] - 0s 19ms/step - loss: 0.4521 - accuracy: 0.9038 - val_loss: 0.4450 - val_accuracy: 0.9200\n",
            "Epoch 95/100\n",
            "2/2 [==============================] - 0s 17ms/step - loss: 0.4487 - accuracy: 0.9112 - val_loss: 0.4413 - val_accuracy: 0.9300\n",
            "Epoch 96/100\n",
            "2/2 [==============================] - 0s 19ms/step - loss: 0.4431 - accuracy: 0.9162 - val_loss: 0.4376 - val_accuracy: 0.9350\n",
            "Epoch 97/100\n",
            "2/2 [==============================] - 0s 23ms/step - loss: 0.4357 - accuracy: 0.9287 - val_loss: 0.4340 - val_accuracy: 0.9450\n",
            "Epoch 98/100\n",
            "2/2 [==============================] - 0s 19ms/step - loss: 0.4362 - accuracy: 0.9388 - val_loss: 0.4303 - val_accuracy: 0.9500\n",
            "Epoch 99/100\n",
            "2/2 [==============================] - 0s 20ms/step - loss: 0.4333 - accuracy: 0.9425 - val_loss: 0.4266 - val_accuracy: 0.9500\n",
            "Epoch 100/100\n",
            "2/2 [==============================] - 0s 19ms/step - loss: 0.4293 - accuracy: 0.9438 - val_loss: 0.4230 - val_accuracy: 0.9500\n"
          ],
          "name": "stdout"
        }
      ]
    },
    {
      "cell_type": "markdown",
      "metadata": {
        "id": "DS6ZqTTGPWmG",
        "colab_type": "text"
      },
      "source": [
        "Function that will display the data with prediction and actual separating line"
      ]
    },
    {
      "cell_type": "code",
      "metadata": {
        "id": "bgUJxlNcQi4R",
        "colab_type": "code",
        "colab": {}
      },
      "source": [
        "def prediction_display(data, labels, pred_w, pred_b, w, b):\n",
        "  shape = labels.flatten()\n",
        "  data_0 = data[shape == 0,:]\n",
        "  plt.scatter(data_0[:,0],data_0 [:,1], c = 'blue', label = 'Class 0')\n",
        "  data_1 = data[shape == 1,:]\n",
        "  plt.scatter(data_1[:,0],data_1 [:,1], c = 'red', label = 'Class 1')\n",
        "\n",
        "# To display the prediction line\n",
        "  x = np.linspace(0, 1, 100)\n",
        "  pred_y = pred_w * x + pred_b\n",
        "  # To display Actual line\n",
        "  y = w * x + b\n",
        "  plt.plot(x, pred_y, c = 'green', label = 'Prediction Line')\n",
        "  plt.plot(x, y, c = 'black', label = 'Actual Line')\n",
        "\n",
        "  plt.title('Predection and actual line on random data')\n",
        "  plt.xlabel('x_1')\n",
        "  plt.ylabel('x_2')\n",
        "  plt.legend()\n",
        "  plt.show()\n",
        "  return\n"
      ],
      "execution_count": 0,
      "outputs": []
    },
    {
      "cell_type": "markdown",
      "metadata": {
        "id": "0uNmyCQgTyWu",
        "colab_type": "text"
      },
      "source": [
        ""
      ]
    },
    {
      "cell_type": "code",
      "metadata": {
        "id": "YDFB45eSTyw9",
        "colab_type": "code",
        "colab": {
          "base_uri": "https://localhost:8080/",
          "height": 296
        },
        "outputId": "cbd3ba4c-1225-4c5f-aa9b-5b0d2b554302"
      },
      "source": [
        "# Getting weight from the model\n",
        "weights = keras_model.get_weights()\n",
        "\n",
        "w_1 = weights[0][0]\n",
        "w_2 = weights[0][1]\n",
        "bias  = weights[1][0]\n",
        "\n",
        "# The prediction weight and bias term in order to seperate line\n",
        "pred_w = -w_1 / w_2\n",
        "pred_b = -bias / w_2\n",
        "\n",
        "prediction_display(data,labels, pred_w, pred_b,w , b)"
      ],
      "execution_count": 256,
      "outputs": [
        {
          "output_type": "display_data",
          "data": {
            "image/png": "[encoded data removed]",
            "text/plain": [
              "<Figure size 432x288 with 1 Axes>"
            ]
          },
          "metadata": {
            "tags": []
          }
        }
      ]
    },
    {
      "cell_type": "markdown",
      "metadata": {
        "id": "S2cFgkGbXApt",
        "colab_type": "text"
      },
      "source": [
        "Function to display the heatmap made from the prediction from the model"
      ]
    },
    {
      "cell_type": "code",
      "metadata": {
        "id": "4faVCqIDXQ_j",
        "colab_type": "code",
        "colab": {}
      },
      "source": [
        "def prediction_heatmap(data):\n",
        "  x_heatmap = np.linspace(0,1,100)\n",
        "  y_max = max(data[:,1])\n",
        "  y_min = min(data[:,1])\n",
        "  y_heatmap = np.linspace(y_min, y_max, 100)\n",
        "  X, Y = np.meshgrid(x_heatmap, y_heatmap)\n",
        "  # creates Z values based on x,y grid\n",
        "  flat_x = X.flatten()\n",
        "  flat_y = Y.flatten() \n",
        "  Z = np.column_stack((flat_x, flat_y))\n",
        "\n",
        "  Z = keras_model.predict(Z)\n",
        "  Z = Z.reshape((100,100))\n",
        "  fig = plt.figure()\n",
        "  ax = plt.axes()\n",
        "  contours = ax.contourf(X, Y, Z, 100, cmap='RdBu_r')\n",
        "  im = ax.imshow(Z, extent=[0, 1, y_min, y_max], cmap='RdBu_r', alpha=0.5, aspect='auto')\n",
        "\n",
        "  plt.colorbar(im, ax= ax)\n",
        "\n",
        "  ax.set_xlabel('x_1')\n",
        "  ax.set_ylabel('x_2')\n",
        "  ax.set_title(\"Heatmap Based on Network Predictions\")\n",
        "  plt.show()\n",
        "  return\n",
        "\n",
        "  \n",
        "  "
      ],
      "execution_count": 0,
      "outputs": []
    },
    {
      "cell_type": "code",
      "metadata": {
        "id": "Als-sw9Rfdq3",
        "colab_type": "code",
        "colab": {
          "base_uri": "https://localhost:8080/",
          "height": 296
        },
        "outputId": "9105d543-9e5c-4dc1-beab-cd675f64b0e3"
      },
      "source": [
        "prediction_heatmap(data)"
      ],
      "execution_count": 262,
      "outputs": [
        {
          "output_type": "display_data",
          "data": {
            "image/png": "[encoded data removed]",
            "text/plain": [
              "<Figure size 432x288 with 2 Axes>"
            ]
          },
          "metadata": {
            "tags": []
          }
        }
      ]
    },
    {
      "cell_type": "markdown",
      "metadata": {
        "id": "DybGbhcAlKFC",
        "colab_type": "text"
      },
      "source": [
        "###**Problem 3:**\n",
        "Use numpy to implement a logistic regression model from scratch and train it with the data generated as in Problem 1.\n",
        "\n",
        "Hints: Look at the notes on logistic regression to figure out what the gradient is of the binary cross entropy loss with respect to w and b. Note that you only have to implement stochastic gradient, that is, you do not have to write vectorized code for mini-batch gradient descent.\n",
        "\n",
        "Create a plot showing the random data, the true line used to generate the data, and the separating line of the trained model.\n",
        "\n",
        "Use a heatmap to visualize the function defined by your trained model.\n",
        "\n",
        "You also have to compute the binary cross entropy loss and accuracy on the test set"
      ]
    },
    {
      "cell_type": "code",
      "metadata": {
        "id": "tAdsyS9pliOj",
        "colab_type": "code",
        "colab": {}
      },
      "source": [
        "# Function for sigmoid\n",
        "def sigmoid(z):\n",
        "  return 1 / (1 + np.exp(-z))\n",
        "# Function to predict\n",
        "def prediction(a):\n",
        "  if a > 0.5:\n",
        "    return 1 \n",
        "  else:\n",
        "    return 0\n",
        "# Function to calculate binary cross entropy loss\n",
        "def binary_crossentropy_loss(a, label):\n",
        "  return (-label * np.log(a)) - ((1 - label) * np.log(1 - a))\n",
        "\n",
        "def model_testing(test_data, test_labels, W_b):\n",
        "  loss = 0\n",
        "  accurate_predictions = 0\n",
        "  testd = np.column_stack((test_data, np.ones(shape=(test_data.shape[0], 1))))\n",
        "  for i_data in range(len(test_data)):\n",
        "        # Process the input\n",
        "        z = np.dot(testd[i_data], W_b)\n",
        "        a = sigmoid(z)\n",
        "\n",
        "        # Make a prediction\n",
        "        p = prediction(a)\n",
        "        if p == test_labels[i_data]:\n",
        "            accurate_predictions += 1\n",
        "            # Determine loss\n",
        "        loss += binary_crossentropy_loss(a, test_labels[i_data])\n",
        "  print(loss)\n",
        "  return (loss / len(test_data), accurate_predictions / len(test_data))\n",
        "def logistic_regression(train_data, train_labels, test_data, test_labels, epochs, learing_rate):\n",
        "    # Randomize the initial weights\n",
        "    W_b = np.random.random_sample((3, ))\n",
        "    #combine data with biases\n",
        "    trd = np.column_stack((train_data, np.ones(shape=(train_data.shape[0], 1))))\n",
        "    for epoch in range(epochs):\n",
        "        # Only perform stochastic gradient descent\n",
        "        for i_data in range(len(train_data)):\n",
        "            # Process the input\n",
        "            z = np.dot(trd[i_data], W_b)\n",
        "            a = sigmoid(z)\n",
        "\n",
        "            # Determine the gradient of the loss\n",
        "            Lg_b = (a - train_labels[i_data])* trd[i_data]\n",
        "\n",
        "            # Apply the gradient to the weights\n",
        "            W_b -= Lg_b * learning_rate\n",
        "        \n",
        "        # Analyze the loss and accuracy for each epoch\n",
        "        loss, accuracy = model_testing(test_data, test_labels, W_b)\n",
        "        print(f'Epoch {epoch+1}/{epochs} - val_loss: {loss} - val_accuracy: {accuracy}')\n",
        "    \n",
        "    # Return the trained weights\n",
        "    return W_b"
      ],
      "execution_count": 0,
      "outputs": []
    },
    {
      "cell_type": "code",
      "metadata": {
        "id": "WrmzzLRYvM2J",
        "colab_type": "code",
        "colab": {
          "base_uri": "https://localhost:8080/",
          "height": 353
        },
        "outputId": "8f4beafb-a55f-412b-f439-7854736c25ec"
      },
      "source": [
        "epochs = 10\n",
        "learning_rate = 0.01\n",
        "\n",
        "W_b = logistic_regression(train_data, train_labels, test_data, test_labels, epochs, learning_rate)"
      ],
      "execution_count": 283,
      "outputs": [
        {
          "output_type": "stream",
          "text": [
            "[11.70866096]\n",
            "Epoch 1/10 - val_loss: [0.0585433] - val_accuracy: 0.995\n",
            "[8.41164614]\n",
            "Epoch 2/10 - val_loss: [0.04205823] - val_accuracy: 0.995\n",
            "[6.65726242]\n",
            "Epoch 3/10 - val_loss: [0.03328631] - val_accuracy: 0.995\n",
            "[5.54351546]\n",
            "Epoch 4/10 - val_loss: [0.02771758] - val_accuracy: 0.995\n",
            "[4.77134328]\n",
            "Epoch 5/10 - val_loss: [0.02385672] - val_accuracy: 0.995\n",
            "[4.20391697]\n",
            "Epoch 6/10 - val_loss: [0.02101958] - val_accuracy: 0.995\n",
            "[3.76882193]\n",
            "Epoch 7/10 - val_loss: [0.01884411] - val_accuracy: 1.0\n",
            "[3.42414113]\n",
            "Epoch 8/10 - val_loss: [0.01712071] - val_accuracy: 1.0\n",
            "[3.14397243]\n",
            "Epoch 9/10 - val_loss: [0.01571986] - val_accuracy: 1.0\n",
            "[2.91146416]\n",
            "Epoch 10/10 - val_loss: [0.01455732] - val_accuracy: 1.0\n"
          ],
          "name": "stdout"
        }
      ]
    },
    {
      "cell_type": "code",
      "metadata": {
        "id": "h7TFzJXCwmD9",
        "colab_type": "code",
        "colab": {
          "base_uri": "https://localhost:8080/",
          "height": 296
        },
        "outputId": "751bf973-5443-4e01-85aa-e8abf609f515"
      },
      "source": [
        "#same code from the displaying data from above expcept using \n",
        "def prediction_display(data, labels, pred_w, pred_b, w, b):\n",
        "  shape = labels.flatten()\n",
        "  data_0 = data[shape == 0,:]\n",
        "  plt.scatter(data_0[:,0],data_0 [:,1], c = 'blue', label = 'Class 0')\n",
        "  data_1 = data[shape == 1,:]\n",
        "  plt.scatter(data_1[:,0],data_1 [:,1], c = 'red', label = 'Class 1')\n",
        "\n",
        "# To display the prediction line\n",
        "  x = np.linspace(0, 1, 100)\n",
        "  w_1 = W_b[0]\n",
        "  w_2 = W_b[1]\n",
        "  bias = W_b[2]\n",
        "  pred_w = -w_1 / w_2\n",
        "  pred_b = -bias / w_2\n",
        "\n",
        "  pred_y = pred_w * x + pred_b\n",
        "  # To display Actual line\n",
        "  y = w * x + b\n",
        "  plt.plot(x, pred_y, c = 'green', label = 'Prediction Line')\n",
        "  plt.plot(x, y, c = 'black', label = 'Actual Line')\n",
        "\n",
        "  plt.title('Predection and actual line on random data')\n",
        "  plt.xlabel('x_1')\n",
        "  plt.ylabel('x_2')\n",
        "  plt.legend()\n",
        "  plt.show()\n",
        "  return\n",
        "prediction_display(data,labels, pred_w, pred_b,w , b)"
      ],
      "execution_count": 287,
      "outputs": [
        {
          "output_type": "display_data",
          "data": {
            "image/png": "[encoded data removed]",
            "text/plain": [
              "<Figure size 432x288 with 1 Axes>"
            ]
          },
          "metadata": {
            "tags": []
          }
        }
      ]
    },
    {
      "cell_type": "code",
      "metadata": {
        "id": "L-XNofZOz9kY",
        "colab_type": "code",
        "colab": {}
      },
      "source": [
        "def pred(data):\n",
        "  data_n = np.column_stack((data, np.ones(shape=(data.shape[0], 1))))\n",
        "  z = np.dot(data_n,W_b)\n",
        "  return sigmoid(z)\n",
        "def prediction_heatmap(data):\n",
        "  x_heatmap = np.linspace(0,1,100)\n",
        "  y_max = max(data[:,1])\n",
        "  y_min = min(data[:,1])\n",
        "  y_heatmap = np.linspace(y_min, y_max, 100)\n",
        "  X, Y = np.meshgrid(x_heatmap, y_heatmap)\n",
        "  # creates Z values based on x,y grid\n",
        "  flat_x = X.flatten()\n",
        "  flat_y = Y.flatten() \n",
        "  Z = np.column_stack((flat_x, flat_y))\n",
        "\n",
        "  Z = pred(Z)\n",
        "  Z = Z.reshape((100,100))\n",
        "  fig = plt.figure()\n",
        "  ax = plt.axes()\n",
        "  contours = ax.contourf(X, Y, Z, 100, cmap='RdBu_r')\n",
        "  im = ax.imshow(Z, extent=[0, 1, y_min, y_max], cmap='RdBu_r', alpha=0.5, aspect='auto')\n",
        "\n",
        "  plt.colorbar(im, ax= ax)\n",
        "\n",
        "  ax.set_xlabel('x_1')\n",
        "  ax.set_ylabel('x_2')\n",
        "  ax.set_title(\"Heatmap Based on Network Predictions\")\n",
        "  plt.show()\n",
        "  return"
      ],
      "execution_count": 0,
      "outputs": []
    },
    {
      "cell_type": "code",
      "metadata": {
        "id": "h5anJNRF1BKG",
        "colab_type": "code",
        "colab": {
          "base_uri": "https://localhost:8080/",
          "height": 296
        },
        "outputId": "0afff019-bc80-415d-889e-2d4b6cb03273"
      },
      "source": [
        "  prediction_heatmap(data)"
      ],
      "execution_count": 298,
      "outputs": [
        {
          "output_type": "display_data",
          "data": {
            "image/png": "[encoded data removed]",
            "text/plain": [
              "<Figure size 432x288 with 2 Axes>"
            ]
          },
          "metadata": {
            "tags": []
          }
        }
      ]
    }
  ]
}